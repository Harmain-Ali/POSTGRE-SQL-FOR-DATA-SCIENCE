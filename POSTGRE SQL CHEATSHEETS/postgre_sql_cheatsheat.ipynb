{
 "cells": [
  {
   "cell_type": "markdown",
   "id": "e5bd7102",
   "metadata": {},
   "source": [
    "<div style=\"\n",
    "    font-family: 'Roboto', sans-serif;\n",
    "    color: white;\n",
    "    background-color: #AF0404;\n",
    "    padding: 1%;\n",
    "    border-radius: 10px;\n",
    "    font-size: 2em;\n",
    "    text-align: center;\n",
    "\">\n",
    "POSTGRE SQL CHEAT SHEET\n",
    "</div>\n"
   ]
  },
  {
   "cell_type": "markdown",
   "id": "d4ccba61",
   "metadata": {},
   "source": [
    "\n",
    "<div style=\"\n",
    "    color: black;\n",
    "    background-color: #d9d9d9;\n",
    "    border-radius: 10px;\n",
    "    padding: 1%;\n",
    "    font-size: 1em;\n",
    "    border: 1px solid #3f37c9;\n",
    "\">\n",
    "    📍 <b>NOTE</b>: This notebook is intended to:\n",
    "    <ul>\n",
    "        <li>Provide exhaustive and comprehensive guide of the Postgresql.</li>\n",
    "        <li>Discuss the syntax and code of the most used functions in Postgresql.</li>\n",
    "    </ul>\n",
    "</div>\n"
   ]
  },
  {
   "cell_type": "markdown",
   "id": "0b518119",
   "metadata": {},
   "source": [
    "\n",
    "<div style=\"\n",
    "    color: black;\n",
    "    background-color: #d9d9d9;\n",
    "    border-radius: 10px;\n",
    "    padding: 1%;\n",
    "    font-size: 1em;\n",
    "    border: 1px solid #3f37c9;\n",
    "\">\n",
    "    \n",
    "<div >  <p> <strong>PostgreSQL</strong> is a free, powerful, and open-source relational database management system (RDBMS). It’s widely used in <em>Data Science</em>, <em>Web Development</em>, and <em>large-scale applications</em> due to its performance, reliability, and features like <strong>full ACID compliance</strong> and support for <strong>complex queries</strong>. </p> <p> <strong>pgAdmin</strong> is a graphical user interface (GUI) tool that makes it easier to interact with PostgreSQL databases. Instead of typing commands in the terminal, you can create, manage, and query databases <strong>visually</strong>. </p> <p> When you're getting started, installing PostgreSQL automatically installs pgAdmin <span style=\"color: #888;\">(unless you choose not to)</span>. These tools work together: </p> <ul style=\"margin-left: 1.5em;\"> <li><strong>PostgreSQL</strong> handles the <em>backend database system</em>.</li> <li><strong>pgAdmin</strong> helps you <em>view, manage, and edit</em> your databases with <strong>clicks instead of code</strong>.</li> </ul> </div>\n",
    "\n",
    "</div>\n"
   ]
  },
  {
   "cell_type": "markdown",
   "id": "2cd33233",
   "metadata": {},
   "source": [
    "\n",
    "<div style=\"\n",
    "    color: black;\n",
    "    background-color: #d9d9d9;\n",
    "    border-radius: 10px;\n",
    "    padding: 1%;\n",
    "    font-size: 1em;\n",
    "    border: 1px solid #3f37c9;\n",
    "\">\n",
    "    \n",
    "<div> <h2>Steps to Install PostgreSQL & pgAdmin</h2> <h3>Step 1: Download Installer</h3> <ul> <li>Go to the official site: <a href=\"https://www.postgresql.org/download/\" target=\"_blank\">https://www.postgresql.org/download/</a></li> <li>Select your operating system (Windows, macOS, Linux)</li> <li>Choose the “Graphical Installer” by EDB (EnterpriseDB)</li> </ul> <h3>Step 2: Run the Installer</h3> <ul> <li>Open the downloaded <code>.exe</code> or <code>.dmg</code> file</li> <li>The setup wizard will launch</li> </ul> <h3>Step 3: Installation Options</h3> <ul> <li><strong>Make sure the following are selected:</strong></li> <ul> <li>PostgreSQL Server</li> <li>pgAdmin 4</li> <li>Stack Builder (optional)</li> </ul> <li>Click “Next” to proceed</li> </ul> <h3>Step 4: Set Superuser Password</h3> <ul> <li>Set a strong password for the default PostgreSQL superuser account (usually <code>postgres</code>)</li> <li>You will need this password to log in later</li> </ul> <h3>Step 5: Choose Port</h3> <ul> <li>Leave the default port as <strong>5432</strong></li> <li>Click “Next”</li> </ul> <h3>Step 6: Finish Installation</h3> <ul> <li>Click “Finish” to complete the installation</li> </ul> </div>\n",
    "\n",
    "</div>\n"
   ]
  },
  {
   "cell_type": "markdown",
   "id": "ea7be285",
   "metadata": {},
   "source": [
    "## CREATING A DATABASE"
   ]
  },
  {
   "cell_type": "markdown",
   "id": "f3bdff97",
   "metadata": {},
   "source": [
    "\n",
    "<div style=\"\n",
    "    color: black;\n",
    "    background-color: #d9d9d9;\n",
    "    border-radius: 10px;\n",
    "    padding: 1%;\n",
    "    font-size: 1em;\n",
    "    border: 1px solid #3f37c9;\n",
    "\">\n",
    "    \n",
    "<div> <p> A <strong>database</strong> in PostgreSQL is like a container or folder where all your data is stored. You can create <em>multiple databases</em> on the same PostgreSQL server — each database can hold its own tables, schemas, functions, and data. </p> <p><strong>For example:</strong></p> <ul> <li>You might have a <code>sales_data</code> database for business analytics.</li> <li>A <code>machine_learning</code> database for storing datasets and model outputs.</li> </ul> <p><strong>Each database is isolated, which means:</strong></p> <ul> <li>Data in one database can't directly interact with data in another.</li> <li>You must connect to a specific database before running SQL queries.</li> </ul> </div>\n",
    "\n",
    "</div>\n"
   ]
  },
  {
   "cell_type": "code",
   "execution_count": null,
   "id": "df25c507",
   "metadata": {
    "vscode": {
     "languageId": "sql"
    }
   },
   "outputs": [],
   "source": [
    "-- SQL Syntax to Create a Database\n",
    "CREATE DATABASE database_name;\n",
    "-- Example:\n",
    "CREATE DATABASE sales_data;\n",
    "\n",
    "\n",
    "-- Optional Parameters You can specify additional options like encoding, owner, and template\n",
    "CREATE DATABASE database_name\n",
    "    WITH \n",
    "    OWNER = username\n",
    "    ENCODING = 'UTF8'\n",
    "    CONNECTION LIMIT = 20;\n",
    "\n",
    "-- OWNER – Who owns the DB (default is current user)\n",
    "-- ENCODING – Character set (UTF8 is standard)\n",
    "-- CONNECTION LIMIT – Max number of active connection\n"
   ]
  },
  {
   "cell_type": "markdown",
   "id": "617d971e",
   "metadata": {},
   "source": [
    "\n",
    "<div style=\"\n",
    "    color: black;\n",
    "    background-color: #d9d9d9;\n",
    "    border-radius: 10px;\n",
    "    padding: 1%;\n",
    "    font-size: 1em;\n",
    "    border: 1px solid #3f37c9;\n",
    "\">\n",
    "    \n",
    "<h3>How to Create a Database in pgAdmin GUI (Windows App)</h3> <h4>Step-by-Step Instructions</h4> <ol> <li><strong>Open pgAdmin</strong><br> Launch from Start Menu → pgAdmin 4 </li> <li><strong>Connect to Server</strong><br> Enter your master password </li> <li><strong>Navigate to the Database Section</strong><br> Expand: Servers &gt; PostgreSQL </li> <li><strong>Right-click on \"Databases\"</strong><br> Click <em>Create</em> → <em>Database...</em> </li> <li><strong>Fill in the Form:</strong> <ul> <li><strong>Database name:</strong> e.g., <em>sales_data</em></li> <li><strong>Owner:</strong> Leave as <em>postgres</em> or choose another user</li> <li>Leave other settings default unless you need advanced configuration</li> </ul> </li> <li><strong>Click Save</strong></li> </ol> <p>Your new database will now appear in the left panel under <strong>Databases</strong>.</p>\n",
    "\n",
    "</div>\n"
   ]
  }
 ],
 "metadata": {
  "kernelspec": {
   "display_name": "Python 3",
   "language": "python",
   "name": "python3"
  },
  "language_info": {
   "codemirror_mode": {
    "name": "ipython",
    "version": 3
   },
   "file_extension": ".py",
   "mimetype": "text/x-python",
   "name": "python",
   "nbconvert_exporter": "python",
   "pygments_lexer": "ipython3",
   "version": "3.13.5"
  }
 },
 "nbformat": 4,
 "nbformat_minor": 5
}
