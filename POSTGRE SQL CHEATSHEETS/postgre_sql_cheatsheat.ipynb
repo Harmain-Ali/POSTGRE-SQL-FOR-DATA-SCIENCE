{
 "cells": [
  {
   "cell_type": "markdown",
   "id": "e5bd7102",
   "metadata": {},
   "source": [
    "<div style=\"\n",
    "    font-family: 'Roboto', sans-serif;\n",
    "    color: white;\n",
    "    background-color: #AF0404;\n",
    "    padding: 1%;\n",
    "    border-radius: 10px;\n",
    "    font-size: 2em;\n",
    "    text-align: center;\n",
    "\">\n",
    "POSTGRE SQL CHEAT SHEET\n",
    "</div>\n"
   ]
  },
  {
   "cell_type": "markdown",
   "id": "d4ccba61",
   "metadata": {},
   "source": [
    "\n",
    "<div style=\"\n",
    "    color: black;\n",
    "    background-color: #d9d9d9;\n",
    "    border-radius: 10px;\n",
    "    padding: 1%;\n",
    "    font-size: 1em;\n",
    "    border: 1px solid #3f37c9;\n",
    "\">\n",
    "    📍 <b>NOTE</b>: This notebook is intended to:\n",
    "    <ul>\n",
    "        <li>Provide exhaustive and comprehensive guide of the Postgresql.</li>\n",
    "        <li>Discuss the syntax and code of the most used functions in Postgresql.</li>\n",
    "    </ul>\n",
    "</div>\n"
   ]
  },
  {
   "cell_type": "markdown",
   "id": "fbafea31",
   "metadata": {},
   "source": [
    "## 1. INSTALLATION"
   ]
  },
  {
   "cell_type": "markdown",
   "id": "0b518119",
   "metadata": {},
   "source": [
    "\n",
    "<div style=\"\n",
    "    color: black;\n",
    "    background-color: #d9d9d9;\n",
    "    border-radius: 10px;\n",
    "    padding: 1%;\n",
    "    font-size: 1em;\n",
    "    border: 1px solid #3f37c9;\n",
    "\">\n",
    "    \n",
    "<div >  <p> <strong>PostgreSQL</strong> is a free, powerful, and open-source relational database management system (RDBMS). It’s widely used in <em>Data Science</em>, <em>Web Development</em>, and <em>large-scale applications</em> due to its performance, reliability, and features like <strong>full ACID compliance</strong> and support for <strong>complex queries</strong>. </p> <p> <strong>pgAdmin</strong> is a graphical user interface (GUI) tool that makes it easier to interact with PostgreSQL databases. Instead of typing commands in the terminal, you can create, manage, and query databases <strong>visually</strong>. </p> <p> When you're getting started, installing PostgreSQL automatically installs pgAdmin <span style=\"color: #888;\">(unless you choose not to)</span>. These tools work together: </p> <ul style=\"margin-left: 1.5em;\"> <li><strong>PostgreSQL</strong> handles the <em>backend database system</em>.</li> <li><strong>pgAdmin</strong> helps you <em>view, manage, and edit</em> your databases with <strong>clicks instead of code</strong>.</li> </ul> </div>\n",
    "\n",
    "</div>\n"
   ]
  },
  {
   "cell_type": "markdown",
   "id": "2cd33233",
   "metadata": {},
   "source": [
    "###\n",
    "<div style=\"\n",
    "    color: black;\n",
    "    background-color: #d9d9d9;\n",
    "    border-radius: 10px;\n",
    "    padding: 1%;\n",
    "    font-size: 1em;\n",
    "    border: 1px solid #3f37c9;\n",
    "\">\n",
    "    \n",
    "<div> <h2>Steps to Install PostgreSQL & pgAdmin</h2> <h3>Step 1: Download Installer</h3> <ul> <li>Go to the official site: <a href=\"https://www.postgresql.org/download/\" target=\"_blank\">https://www.postgresql.org/download/</a></li> <li>Select your operating system (Windows, macOS, Linux)</li> <li>Choose the “Graphical Installer” by EDB (EnterpriseDB)</li> </ul> <h3>Step 2: Run the Installer</h3> <ul> <li>Open the downloaded <code>.exe</code> or <code>.dmg</code> file</li> <li>The setup wizard will launch</li> </ul> <h3>Step 3: Installation Options</h3> <ul> <li><strong>Make sure the following are selected:</strong></li> <ul> <li>PostgreSQL Server</li> <li>pgAdmin 4</li> <li>Stack Builder (optional)</li> </ul> <li>Click “Next” to proceed</li> </ul> <h3>Step 4: Set Superuser Password</h3> <ul> <li>Set a strong password for the default PostgreSQL superuser account (usually <code>postgres</code>)</li> <li>You will need this password to log in later</li> </ul> <h3>Step 5: Choose Port</h3> <ul> <li>Leave the default port as <strong>5432</strong></li> <li>Click “Next”</li> </ul> <h3>Step 6: Finish Installation</h3> <ul> <li>Click “Finish” to complete the installation</li> </ul> </div>\n",
    "\n",
    "</div>\n"
   ]
  },
  {
   "cell_type": "markdown",
   "id": "ea7be285",
   "metadata": {},
   "source": [
    "## 2. CREATING A DATABASE"
   ]
  },
  {
   "cell_type": "markdown",
   "id": "f3bdff97",
   "metadata": {},
   "source": [
    "\n",
    "<div style=\"\n",
    "    color: black;\n",
    "    background-color: #d9d9d9;\n",
    "    border-radius: 10px;\n",
    "    padding: 1%;\n",
    "    font-size: 1em;\n",
    "    border: 1px solid #3f37c9;\n",
    "\">\n",
    "    \n",
    "<div> <p> A <strong>database</strong> in PostgreSQL is like a container or folder where all your data is stored. You can create <em>multiple databases</em> on the same PostgreSQL server — each database can hold its own tables, schemas, functions, and data. </p> <p><strong>For example:</strong></p> <ul> <li>You might have a <code>sales_data</code> database for business analytics.</li> <li>A <code>machine_learning</code> database for storing datasets and model outputs.</li> </ul> <p><strong>Each database is isolated, which means:</strong></p> <ul> <li>Data in one database can't directly interact with data in another.</li> <li>You must connect to a specific database before running SQL queries.</li> </ul> </div>\n",
    "\n",
    "</div>\n"
   ]
  },
  {
   "cell_type": "code",
   "execution_count": null,
   "id": "df25c507",
   "metadata": {
    "vscode": {
     "languageId": "sql"
    }
   },
   "outputs": [],
   "source": [
    "-- SQL Syntax to Create a Database\n",
    "CREATE DATABASE database_name;\n",
    "-- Example:\n",
    "CREATE DATABASE sales_data;\n",
    "\n",
    "\n",
    "-- Optional Parameters: You can specify additional options like encoding, owner, and template\n",
    "CREATE DATABASE database_name\n",
    "    WITH \n",
    "    OWNER = username\n",
    "    ENCODING = 'UTF8'\n",
    "    CONNECTION LIMIT = 20;\n",
    "\n",
    "-- OWNER – Who owns the DB (default is current user)\n",
    "-- ENCODING – Character set (UTF8 is standard)\n",
    "-- CONNECTION LIMIT – Max number of active connection\n"
   ]
  },
  {
   "cell_type": "markdown",
   "id": "617d971e",
   "metadata": {},
   "source": [
    "\n",
    "<div style=\"\n",
    "    color: black;\n",
    "    background-color: #d9d9d9;\n",
    "    border-radius: 10px;\n",
    "    padding: 1%;\n",
    "    font-size: 1em;\n",
    "    border: 1px solid #3f37c9;\n",
    "\">\n",
    "    \n",
    "<h3>How to Create a Database in pgAdmin GUI (Windows App)</h3> <h4>Step-by-Step Instructions</h4> <ol> <li><strong>Open pgAdmin</strong><br> Launch from Start Menu → pgAdmin 4 </li> <li><strong>Connect to Server</strong><br> Enter your master password </li> <li><strong>Navigate to the Database Section</strong><br> Expand: Servers &gt; PostgreSQL </li> <li><strong>Right-click on \"Databases\"</strong><br> Click <em>Create</em> → <em>Database...</em> </li> <li><strong>Fill in the Form:</strong> <ul> <li><strong>Database name:</strong> e.g., <em>sales_data</em></li> <li><strong>Owner:</strong> Leave as <em>postgres</em> or choose another user</li> <li>Leave other settings default unless you need advanced configuration</li> </ul> </li> <li><strong>Click Save</strong></li> </ol> <p>Your new database will now appear in the left panel under <strong>Databases</strong>.</p>\n",
    "\n",
    "</div>\n"
   ]
  },
  {
   "cell_type": "markdown",
   "id": "1c1e161f",
   "metadata": {},
   "source": [
    "## 3. CREATING A TABLE"
   ]
  },
  {
   "cell_type": "markdown",
   "id": "2db3ab1e",
   "metadata": {},
   "source": [
    "\n",
    "<div style=\"\n",
    "    color: black;\n",
    "    background-color: #d9d9d9;\n",
    "    border-radius: 10px;\n",
    "    padding: 1%;\n",
    "    font-size: 1em;\n",
    "    border: 1px solid #3f37c9;\n",
    "\">\n",
    "    \n",
    "<title>What is a Table in PostgreSQL</title> </head> <body> <h3>What is a Table in PostgreSQL?</h3> <p>A table in PostgreSQL is like a spreadsheet inside your database.<br> It stores your data in rows (records) and columns (fields).</p> <ul> <li>Each column has a name and a data type (like text, number, date, etc.).</li> <li>Each row is a single entry — like one person, product, or transaction.</li> </ul>\n",
    "\n",
    "</div>\n"
   ]
  },
  {
   "cell_type": "code",
   "execution_count": null,
   "id": "fed5ef92",
   "metadata": {
    "vscode": {
     "languageId": "sql"
    }
   },
   "outputs": [],
   "source": [
    "-- SQL Syntax to Create a Table\n",
    "\n",
    "CREATE TABLE table_name (\n",
    "    column1 datatype constraints,\n",
    "    column2 datatype constraints,\n",
    "    ...\n",
    ");\n",
    "\n",
    "-- Example:\n",
    "\n",
    "CREATE TABLE employees (\n",
    "    employee_id SERIAL PRIMARY KEY,\n",
    "    name VARCHAR(100) NOT NULL,\n",
    "    age INTEGER,\n",
    "    email VARCHAR(100) UNIQUE,\n",
    "    hire_date DATE DEFAULT CURRENT_DATE\n",
    ");\n",
    "\n",
    "\n",
    "-- Use IF NOT EXISTS to avoid errors if table already exists:\n",
    "\n",
    "\n",
    "CREATE TABLE IF NOT EXISTS employees (\n",
    "    employee_id SERIAL PRIMARY KEY,\n",
    "    name VARCHAR(100) NOT NULL,\n",
    "    age INTEGER,\n",
    "    email VARCHAR(100) UNIQUE,\n",
    "    hire_date DATE DEFAULT CURRENT_DATE\n",
    ");"
   ]
  },
  {
   "cell_type": "markdown",
   "id": "ae75018b",
   "metadata": {},
   "source": [
    "\n",
    "<div style=\"\n",
    "    color: black;\n",
    "    background-color: #d9d9d9;\n",
    "    border-radius: 10px;\n",
    "    padding: 1%;\n",
    "    font-size: 1em;\n",
    "    border: 1px solid #3f37c9;\n",
    "\">\n",
    "    \n",
    "<title>How to Create a Table in pgAdmin (GUI)</title> </head> <body> <h3>How to Create a Table in pgAdmin (GUI Method)</h3> <h4>Step-by-Step:</h4> <ol> <li>Open pgAdmin and connect to your server.</li> <li>Navigate to:<br> <strong>Servers &gt; PostgreSQL &gt; Databases &gt; [Your Database] &gt; Schemas &gt; public &gt; Tables</strong> </li> <li>Right-click on <strong>Tables</strong> → Click <strong>Create</strong> &gt; <strong>Table...</strong></li> <li>In the Dialog Box:</li> <ul> <li><strong>General Tab</strong><br> Name: employees (or your desired table name)<br> Owner: Leave as postgres (default) </li> <li><strong>Columns Tab</strong><br> Click + Add for each column<br> Name: e.g. employee_id<br> Datatype: Choose from dropdown (e.g. serial, varchar, integer, date)<br> Set constraints like Primary Key, Not Null, Default </li> <li><strong>Constraints Tab (Optional)</strong><br> Set Primary Key or Foreign Key if needed (can also be done in the Columns tab) </li> </ul> <li>Click <strong>Save</strong></li> <li>Your table now appears in the left panel.</li> </ol>\n",
    "\n",
    "</div>\n"
   ]
  },
  {
   "cell_type": "markdown",
   "id": "4e6a2338",
   "metadata": {},
   "source": [
    "\n",
    "<div style=\"\n",
    "    color: black;\n",
    "    background-color: #d9d9d9;\n",
    "    border-radius: 10px;\n",
    "    padding: 1%;\n",
    "    font-size: 1em;\n",
    "    border: 1px solid #3f37c9;\n",
    "\">\n",
    "<h1>PostgreSQL data types:</h3>\n",
    "<table border=\"1\" cellspacing=\"0\" cellpadding=\"6\"> <thead> <tr> <th>Category</th> <th>Data Type</th> <th>Description</th> <th>When to Use</th> </tr> </thead> <tbody> <tr> <td rowspan=\"8\">Numeric</td> <td>INTEGER (INT)</td> <td>Whole numbers (-2,147,483,648 to 2,147,483,647)</td> <td>General-purpose whole numbers</td> </tr> <tr> <td>SMALLINT</td> <td>Smaller integers (-32,768 to 32,767)</td> <td>Memory-efficient integers</td> </tr> <tr> <td>BIGINT</td> <td>Large integers (-9 quintillion to +9 quintillion)</td> <td>Very large whole numbers (e.g., population count)</td> </tr> <tr> <td>DECIMAL(p,s) / NUMERIC(p,s)</td> <td>Exact fixed-point numbers (e.g., 12.34)</td> <td>Financial data, currency, precise calculations</td> </tr> <tr> <td>REAL</td> <td>Approximate floating-point (single precision)</td> <td>Scientific data (lower precision)</td> </tr> <tr> <td>DOUBLE PRECISION</td> <td>Approximate floating-point (double precision)</td> <td>Scientific or engineering use cases requiring high precision</td> </tr> <tr> <td>SERIAL</td> <td>Auto-incrementing 4-byte integer</td> <td>Primary keys, unique IDs</td> </tr> <tr> <td>BIGSERIAL</td> <td>Auto-incrementing 8-byte integer</td> <td>Large auto-generated keys</td> </tr> <tr> <td>Monetary</td> <td>MONEY</td> <td>Currency representation</td> <td>Basic financial amounts with formatting</td> </tr> <tr> <td rowspan=\"3\">Character</td> <td>CHAR(n)</td> <td>Fixed-length string</td> <td>Use when all values are same length (e.g., country code)</td> </tr> <tr> <td>VARCHAR(n)</td> <td>Variable-length string with limit</td> <td>Short text with length restriction (e.g., names, emails)</td> </tr> <tr> <td>TEXT</td> <td>Variable-length string without limit</td> <td>Large or unrestricted text (e.g., comments, descriptions)</td> </tr> <tr> <td rowspan=\"4\">Date & Time</td> <td>DATE</td> <td>Calendar date (YYYY-MM-DD)</td> <td>For date fields (e.g., DOB, created_at)</td> </tr> <tr> <td>TIME</td> <td>Time without time zone</td> <td>For storing time alone (e.g., office hours)</td> </tr> <tr> <td>TIMESTAMP</td> <td>Date and time without time zone</td> <td>When date-time is important (e.g., order timestamps)</td> </tr> <tr> <td>TIMESTAMPTZ</td> <td>Date and time with time zone</td> <td>Global apps, consistent time tracking</td> </tr> <tr> <td>Boolean</td> <td>BOOLEAN</td> <td>True or False</td> <td>Status flags (e.g., is_active, verified)</td> </tr> <tr> <td>UUID</td> <td>UUID</td> <td>Universally Unique Identifier</td> <td>Unique user/session IDs, distributed systems</td> </tr> <tr> <td rowspan=\"2\">Network Address</td> <td>INET</td> <td>IP address (IPv4 or IPv6)</td> <td>Storing IP addresses</td> </tr> <tr> <td>CIDR</td> <td>IP address with subnet</td> <td>Network configurations</td> </tr> <tr> <td rowspan=\"2\">JSON</td> <td>JSON</td> <td>Textual JSON data</td> <td>Semi-structured data that needs structure validation</td> </tr> <tr> <td>JSONB</td> <td>Binary-optimized JSON</td> <td>Efficient queries and indexing on JSON</td> </tr> <tr> <td>Geometric</td> <td>POINT, LINE, CIRCLE</td> <td>Geometric shapes</td> <td>Mapping, GIS, coordinates</td> </tr> <tr> <td>Arrays</td> <td>any[] (e.g., INT[])</td> <td>Arrays of any data type</td> <td>Multiple values in one column (e.g., tags, scores)</td> </tr> <tr> <td>HStore</td> <td>HSTORE</td> <td>Key-value pairs</td> <td>Schema-less key-value data</td> </tr> <tr> <td>Binary</td> <td>BYTEA</td> <td>Binary data</td> <td>Files, images, encrypted content</td> </tr> <tr> <td>Enumerated</td> <td>ENUM</td> <td>Predefined set of values</td> <td>Gender, status, category fields</td> </tr> <tr> <td>Range Types</td> <td>INT4RANGE, TSRANGE</td> <td>Ranges of numbers or timestamps</td> <td>Date ranges, score bands</td> </tr> <tr> <td>Full Text Search</td> <td>TSVECTOR</td> <td>Optimized format for full-text search</td> <td>Searchable documents, blog content</td> </tr> </tbody> </table>\n",
    "\n",
    "</div>\n"
   ]
  },
  {
   "cell_type": "markdown",
   "id": "8b49afcb",
   "metadata": {},
   "source": [
    "###\n",
    "<div style=\"\n",
    "    color: black;\n",
    "    background-color: #d9d9d9;\n",
    "    border-radius: 10px;\n",
    "    padding: 1%;\n",
    "    font-size: 1em;\n",
    "    border: 1px solid #3f37c9;\n",
    "\">\n",
    "<h1>PostgreSQL Constraints:</h1>\n",
    "<table style=\"border-collapse: collapse; width: 100%; border: 1px solid #000;\"> <thead> <tr> <th style=\"border: 1px solid #000; padding: 8px;\">Constraint Name</th> <th style=\"border: 1px solid #000; padding: 8px;\">Description</th> <th style=\"border: 1px solid #000; padding: 8px;\">When to Use</th> <th style=\"border: 1px solid #000; padding: 8px;\">Applicable Data Types</th> </tr> </thead> <tbody> <tr> <td style=\"border: 1px solid #000; padding: 8px;\">PRIMARY KEY</td> <td style=\"border: 1px solid #000; padding: 8px;\">Uniquely identifies each row in a table. Implicitly adds NOT NULL &amp; UNIQUE</td> <td style=\"border: 1px solid #000; padding: 8px;\">Use for unique row identifiers like id, user_id</td> <td style=\"border: 1px solid #000; padding: 8px;\">INT, BIGINT, UUID, SERIAL, etc.</td> </tr> <tr> <td style=\"border: 1px solid #000; padding: 8px;\">FOREIGN KEY</td> <td style=\"border: 1px solid #000; padding: 8px;\">Ensures values match values in another table’s primary key</td> <td style=\"border: 1px solid #000; padding: 8px;\">Use to create relationships between tables (e.g., orders.customer_id)</td> <td style=\"border: 1px solid #000; padding: 8px;\">Same type as referenced primary key</td> </tr> <tr> <td style=\"border: 1px solid #000; padding: 8px;\">UNIQUE</td> <td style=\"border: 1px solid #000; padding: 8px;\">Ensures all values in a column (or combination) are different</td> <td style=\"border: 1px solid #000; padding: 8px;\">Use when no duplicates are allowed (e.g., email, username)</td> <td style=\"border: 1px solid #000; padding: 8px;\">TEXT, VARCHAR, INT, etc.</td> </tr> <tr> <td style=\"border: 1px solid #000; padding: 8px;\">NOT NULL</td> <td style=\"border: 1px solid #000; padding: 8px;\">Prevents null (missing) values</td> <td style=\"border: 1px solid #000; padding: 8px;\">Use when every row must have a value (e.g., name, price, date_of_birth)</td> <td style=\"border: 1px solid #000; padding: 8px;\">Any type</td> </tr> <tr> <td style=\"border: 1px solid #000; padding: 8px;\">CHECK</td> <td style=\"border: 1px solid #000; padding: 8px;\">Validates that a value meets a condition</td> <td style=\"border: 1px solid #000; padding: 8px;\">Use for constraints like age &gt; 18, salary &gt; 0</td> <td style=\"border: 1px solid #000; padding: 8px;\">Depends on condition (e.g., NUMERIC)</td> </tr> <tr> <td style=\"border: 1px solid #000; padding: 8px;\">DEFAULT</td> <td style=\"border: 1px solid #000; padding: 8px;\">Assigns a default value if none is given</td> <td style=\"border: 1px solid #000; padding: 8px;\">Use to auto-fill common values (e.g., status = 'pending')</td> <td style=\"border: 1px solid #000; padding: 8px;\">Any type</td> </tr> <tr> <td style=\"border: 1px solid #000; padding: 8px;\">EXCLUDE</td> <td style=\"border: 1px solid #000; padding: 8px;\">Prevents rows with overlapping values in specified columns using operators</td> <td style=\"border: 1px solid #000; padding: 8px;\">Use for advanced rules (e.g., prevent event time overlaps in booking apps)</td> <td style=\"border: 1px solid #000; padding: 8px;\">RANGE, GEOMETRY, TIMESTAMP</td> </tr> <tr> <td style=\"border: 1px solid #000; padding: 8px;\">NULL</td> <td style=\"border: 1px solid #000; padding: 8px;\">Allows NULL values (implicitly default if NOT NULL is not specified)</td> <td style=\"border: 1px solid #000; padding: 8px;\">Use when some fields are optional (e.g., middle_name)</td> <td style=\"border: 1px solid #000; padding: 8px;\">Any type</td> </tr> <tr> <td style=\"border: 1px solid #000; padding: 8px;\">DEFERRABLE / INITIALLY DEFERRED</td> <td style=\"border: 1px solid #000; padding: 8px;\">Controls when constraints are checked (at transaction end, not immediately)</td> <td style=\"border: 1px solid #000; padding: 8px;\">Use in complex transactional logic (e.g., circular foreign keys)</td> <td style=\"border: 1px solid #000; padding: 8px;\">Used with PRIMARY, FOREIGN, etc.</td> </tr> <tr> <td style=\"border: 1px solid #000; padding: 8px;\">ON DELETE / ON UPDATE (CASCADE, SET NULL, etc.)</td> <td style=\"border: 1px solid #000; padding: 8px;\">Action to take when referenced rows are deleted/updated</td> <td style=\"border: 1px solid #000; padding: 8px;\">Use with FOREIGN KEYs for cascading behaviors</td> <td style=\"border: 1px solid #000; padding: 8px;\">FOREIGN KEY referenced data types</td> </tr> </tbody> </table>\n",
    "\n",
    "</div>\n"
   ]
  },
  {
   "cell_type": "markdown",
   "id": "fdb946db",
   "metadata": {},
   "source": [
    "## 4. INSERTING VALUES INTO A TABLE"
   ]
  },
  {
   "cell_type": "markdown",
   "id": "d3676b1c",
   "metadata": {},
   "source": [
    "\n",
    "<div style=\"\n",
    "    color: black;\n",
    "    background-color: #d9d9d9;\n",
    "    border-radius: 10px;\n",
    "    padding: 1%;\n",
    "    font-size: 1em;\n",
    "    border: 1px solid #3f37c9;\n",
    "\">\n",
    "    \n",
    "<p>Once you’ve created a table in PostgreSQL, you need to add actual data into it — this is called inserting rows.</p> <p>You can:</p> <ul> <li>Add one row at a time</li> <li>Add multiple rows in one query</li> <li>Insert values into specific columns</li> <li>Use default values if you don't want to provide all columns</li> </ul>\n",
    "</div>\n"
   ]
  },
  {
   "cell_type": "code",
   "execution_count": null,
   "id": "f58d93a3",
   "metadata": {
    "vscode": {
     "languageId": "sql"
    }
   },
   "outputs": [],
   "source": [
    "--  1. Insert a Single Row\n",
    "\n",
    "INSERT INTO table_name (column1, column2, ...)\n",
    "VALUES (value1, value2, ...);\n",
    "\n",
    "-- Example:\n",
    "INSERT INTO employees (name, age, email, hire_date)\n",
    "VALUES ('Ali Khan', 30, 'ali.khan@example.com', '2023-07-01');\n"
   ]
  },
  {
   "cell_type": "code",
   "execution_count": null,
   "id": "7a4dd8e5",
   "metadata": {
    "vscode": {
     "languageId": "sql"
    }
   },
   "outputs": [],
   "source": [
    "--  2. Insert Multiple Rows at Once\n",
    "\n",
    "INSERT INTO table_name (column1, column2, ...)\n",
    "VALUES \n",
    "    (value1a, value2a, ...),\n",
    "    (value1b, value2b, ...),\n",
    "    (value1c, value2c, ...);\n",
    "\n",
    "-- Example:\n",
    "\n",
    "INSERT INTO employees (name, age, email, hire_date)\n",
    "VALUES \n",
    "    ('Sara Malik', 28, 'sara@example.com', '2023-08-01'),\n",
    "    ('Zain Raza', 35, 'zain@example.com', '2023-08-10'),\n",
    "    ('Ayesha Iqbal', 32, 'ayesha@example.com', '2023-08-15');"
   ]
  },
  {
   "cell_type": "code",
   "execution_count": null,
   "id": "4b4ef9d9",
   "metadata": {
    "vscode": {
     "languageId": "sql"
    }
   },
   "outputs": [],
   "source": [
    "-- 3. Insert Only Some Columns\n",
    "\n",
    "INSERT INTO employees (name, age)\n",
    "VALUES ('Hamza Noor', 29);\n",
    "-- This will insert a new row with the specified name and age, while other columns will take their default values or NULL if no default is set."
   ]
  },
  {
   "cell_type": "markdown",
   "id": "74a18f00",
   "metadata": {},
   "source": [
    "\n",
    "<div style=\"\n",
    "    color: black;\n",
    "    background-color: #d9d9d9;\n",
    "    border-radius: 10px;\n",
    "    padding: 1%;\n",
    "    font-size: 1em;\n",
    "    border: 1px solid #3f37c9;\n",
    "\">\n",
    "    \n",
    "<h3>How to Insert Data Using pgAdmin GUI</h3> <p><strong>Step-by-Step (Using Data View)</strong></p> <ol> <li>Open pgAdmin 4</li> <li>Go to:<br> <code>Servers &gt; Databases &gt; [Your DB] &gt; Schemas &gt; public &gt; Tables &gt; [Your Table]</code> </li> <li>Right-click your table → Select <strong>View/Edit Data &gt; All Rows</strong></li> <li>A spreadsheet-style window will open</li> <li>In the blank row at the bottom: <ul> <li>Enter your data in each cell</li> <li>Hit Enter or click into the next row to save</li> </ul> </li> <li>pgAdmin will auto-run an <code>INSERT</code> query in the background</li> </ol> <p>You can also click the pencil icon on the top toolbar to edit existing rows.</p>\n",
    "</div>\n"
   ]
  },
  {
   "cell_type": "markdown",
   "id": "bcf199e5",
   "metadata": {},
   "source": [
    "### IMPORTING DATA FROM EXTERNAL FILLES"
   ]
  },
  {
   "cell_type": "markdown",
   "id": "750a9a90",
   "metadata": {},
   "source": [
    "\n",
    "<div style=\"\n",
    "    color: black;\n",
    "    background-color: #d9d9d9;\n",
    "    border-radius: 10px;\n",
    "    padding: 1%;\n",
    "    font-size: 1em;\n",
    "    border: 1px solid #3f37c9;\n",
    "\">\n",
    "    \n",
    "<h3>Importing Data into PostgreSQL</h3>\n",
    "\n",
    "<p>When working with PostgreSQL, you often have data stored in external files like:</p>\n",
    "\n",
    "<ul>\n",
    "  <li><code>.csv</code> (Comma-Separated Values)</li>\n",
    "  <li><code>.txt</code> (Text files)</li>\n",
    "  <li><code>.xlsx</code> (Excel files — indirectly)</li>\n",
    "</ul>\n",
    "\n",
    "<p>To import this data into PostgreSQL, you usually:</p>\n",
    "\n",
    "<ol>\n",
    "  <li>Create a table that matches the file’s structure (same column names and data types)</li>\n",
    "  <li>Use either SQL (<code>COPY</code> command) or pgAdmin’s GUI to load the file</li>\n",
    "</ol>\n",
    "\n",
    "<p>This is extremely useful for data scientists working with survey results, Kaggle datasets, or client data exports.</p>\n",
    "\n",
    "\n",
    "</div>\n"
   ]
  },
  {
   "cell_type": "markdown",
   "id": "dc58a603",
   "metadata": {},
   "source": [
    "\n",
    "<div style=\"\n",
    "    color: black;\n",
    "    background-color: #d9d9d9;\n",
    "    border-radius: 10px;\n",
    "    padding: 1%;\n",
    "    font-size: 1em;\n",
    "    border: 1px solid #3f37c9;\n",
    "\">\n",
    "    \n",
    "<h3>If Table Doesn’t Exist</h3>\n",
    "\n",
    "<ol>\n",
    "  <li>Right-click <strong>Tables</strong> → <strong>Create</strong> → <strong>Table</strong></li>\n",
    "  <li>Define columns and data types manually</li>\n",
    "</ol>\n",
    "\n",
    "\n",
    "\n",
    "</div>\n"
   ]
  },
  {
   "cell_type": "code",
   "execution_count": null,
   "id": "cdbbfcbb",
   "metadata": {
    "vscode": {
     "languageId": "sql"
    }
   },
   "outputs": [],
   "source": [
    "-- Import Using SQL \n",
    "\n",
    "COPY table_name (column1, column2, ...)\n",
    "FROM 'absolute/path/to/file.csv'\n",
    "DELIMITER ','\n",
    "CSV HEADER;\n",
    "\n",
    "-- Example:\n",
    "\n",
    "COPY sales_data (order_id, customer_name, total_amount)\n",
    "FROM 'C:/Users/JHON/Documents/sales.csv'\n",
    "DELIMITER ','\n",
    "CSV HEADER;\n",
    "\n",
    "-- Make sure:\n",
    "-- The file path is absolute\n",
    "-- The file is accessible by the PostgreSQL server\n",
    "-- If you're on Windows, use / or double \\\\ in the path"
   ]
  },
  {
   "cell_type": "code",
   "execution_count": null,
   "id": "deff6331",
   "metadata": {
    "vscode": {
     "languageId": "sql"
    }
   },
   "outputs": [],
   "source": [
    "--  Import Using \\COPY (Client-Side Method)\n",
    "\n",
    "\\COPY sales_data (order_id, customer_name, total_amount)\n",
    "FROM 'C:/Users/Harmain/Documents/sales.csv'\n",
    "DELIMITER ','\n",
    "CSV HEADER;"
   ]
  },
  {
   "cell_type": "markdown",
   "id": "e75d0b8d",
   "metadata": {},
   "source": [
    "###\n",
    "<div style=\"\n",
    "    color: black;\n",
    "    background-color: #d9d9d9;\n",
    "    border-radius: 10px;\n",
    "    padding: 1%;\n",
    "    font-size: 1em;\n",
    "    border: 1px solid #3f37c9;\n",
    "\">\n",
    "    \n",
    "<h2>Import Using pgAdmin GUI </h2>\n",
    "\n",
    "<h3>Step-by-Step (CSV File Import)</h3>\n",
    "\n",
    "<p><strong>If table already exists:</strong></p>\n",
    "\n",
    "<ol>\n",
    "  <li>Open pgAdmin</li>\n",
    "  <li>Expand:\n",
    "    <br>Servers &gt; Databases &gt; [Your DB] &gt; Schemas &gt; public &gt; Tables\n",
    "  </li>\n",
    "  <li>Right-click the table you want to import into → Select <em>Import/Export Data...</em></li>\n",
    "</ol>\n",
    "\n",
    "<p><strong>In the dialog:</strong></p>\n",
    "\n",
    "<ul>\n",
    "  <li><strong>Filename:</strong> Browse to your .csv file</li>\n",
    "  <li><strong>Format:</strong> CSV</li>\n",
    "  <li><strong>Header:</strong> Check this if your CSV has column names</li>\n",
    "  <li><strong>Delimiter:</strong> Usually ,</li>\n",
    "  <li><strong>Quote:</strong> Usually \" (default)</li>\n",
    "  <li><strong>Encoding:</strong> Keep as UTF8</li>\n",
    "</ul>\n",
    "\n",
    "<p>Click <strong>OK</strong> to import.</p>\n",
    "\n",
    "\n",
    "\n",
    "</div>\n"
   ]
  },
  {
   "cell_type": "markdown",
   "id": "f7cb28cb",
   "metadata": {},
   "source": [
    "## 5. DELETING A TABLE"
   ]
  },
  {
   "cell_type": "markdown",
   "id": "39c73ce9",
   "metadata": {},
   "source": [
    "###\n",
    "<div style=\"\n",
    "    color: black;\n",
    "    background-color: #d9d9d9;\n",
    "    border-radius: 10px;\n",
    "    padding: 1%;\n",
    "    font-size: 1em;\n",
    "    border: 1px solid #3f37c9;\n",
    "\">\n",
    "    \n",
    "<h2>Deleting a Table in PostgreSQL</h2>\n",
    "\n",
    "<p>When you delete a table in PostgreSQL, you are permanently removing:</p>\n",
    "\n",
    "<ul>\n",
    "  <li>The table structure (its columns)</li>\n",
    "  <li>All the data stored inside it</li>\n",
    "</ul>\n",
    "\n",
    "<p>This operation is done using the <code>DROP TABLE</code> command.</p>\n",
    "\n",
    "<p><strong>Warning:</strong> It cannot be undone, so use it carefully — especially in production or live environments.</p>\n",
    "\n",
    "<p><strong>Deleting a table is useful when:</strong></p>\n",
    "\n",
    "<ul>\n",
    "  <li>You imported wrong data and want to start over</li>\n",
    "  <li>You created a test table and no longer need it</li>\n",
    "  <li>You want to clean up unused tables</li>\n",
    "</ul>\n",
    "\n",
    "\n",
    "</div>\n"
   ]
  },
  {
   "cell_type": "code",
   "execution_count": null,
   "id": "45a88957",
   "metadata": {
    "vscode": {
     "languageId": "sql"
    }
   },
   "outputs": [],
   "source": [
    "-- sQL Syntax to Delete a Table\n",
    "\n",
    "DROP TABLE table_name;\n",
    "\n",
    "-- Example:\n",
    "\n",
    "DROP TABLE employees;\n",
    "-- This will permanently remove the employees table from the database."
   ]
  },
  {
   "cell_type": "code",
   "execution_count": null,
   "id": "f261016d",
   "metadata": {
    "vscode": {
     "languageId": "sql"
    }
   },
   "outputs": [],
   "source": [
    "-- Safe Deletion with IF EXISTS\n",
    "\n",
    "DROP TABLE IF EXISTS employees;"
   ]
  },
  {
   "cell_type": "code",
   "execution_count": null,
   "id": "cab5c907",
   "metadata": {
    "vscode": {
     "languageId": "sql"
    }
   },
   "outputs": [],
   "source": [
    "-- Delete Multiple Tables at Once\n",
    "\n",
    "DROP TABLE IF EXISTS table1, table2, table3;"
   ]
  },
  {
   "cell_type": "markdown",
   "id": "7dd657eb",
   "metadata": {},
   "source": [
    "###\n",
    "<div style=\"\n",
    "    color: black;\n",
    "    background-color: #d9d9d9;\n",
    "    border-radius: 10px;\n",
    "    padding: 1%;\n",
    "    font-size: 1em;\n",
    "    border: 1px solid #3f37c9;\n",
    "\">\n",
    "    \n",
    "<h2>How to Delete a Table in pgAdmin (GUI Method)</h2>\n",
    "\n",
    "<p><strong>Step-by-Step:</strong></p>\n",
    "\n",
    "<ol>\n",
    "  <li>Open pgAdmin</li>\n",
    "  <li>Navigate to:<br>\n",
    "    Servers &gt; Databases &gt; [Your DB] &gt; Schemas &gt; public &gt; Tables</li>\n",
    "  <li>Right-click the table you want to delete (e.g., <code>employees</code>)</li>\n",
    "  <li>Click <strong>Delete/Drop</strong></li>\n",
    "  <li>Confirm when prompted</li>\n",
    "</ol>\n",
    "\n",
    "<p><strong>The table is now permanently removed.</strong></p>\n",
    "\n",
    "\n",
    "</div>\n"
   ]
  },
  {
   "cell_type": "markdown",
   "id": "2cb306ee",
   "metadata": {},
   "source": [
    "## 6. MODIFYING A TABLE"
   ]
  },
  {
   "cell_type": "markdown",
   "id": "742ac602",
   "metadata": {},
   "source": [
    "\n",
    "<div style=\"\n",
    "    color: black;\n",
    "    background-color: #d9d9d9;\n",
    "    border-radius: 10px;\n",
    "    padding: 1%;\n",
    "    font-size: 1em;\n",
    "    border: 1px solid #3f37c9;\n",
    "\">\n",
    "\n",
    "<p>Modifying a table means changing its structure after it has been created. This is useful when:</p>\n",
    "\n",
    "<ul>\n",
    "  <li>You forgot a column</li>\n",
    "  <li>Need to rename something</li>\n",
    "  <li>Want to change data types</li>\n",
    "  <li>Add or remove constraints</li>\n",
    "  <li>Adjust default values, etc.</li>\n",
    "</ul>\n",
    "\n",
    "\n",
    "</div>\n"
   ]
  },
  {
   "cell_type": "code",
   "execution_count": null,
   "id": "12a1eb05",
   "metadata": {
    "vscode": {
     "languageId": "sql"
    }
   },
   "outputs": [],
   "source": [
    "-- The command used for most modifications is:\n",
    "\n",
    "ALTER TABLE table_name ...;"
   ]
  },
  {
   "cell_type": "markdown",
   "id": "3346ae0c",
   "metadata": {},
   "source": [
    "#### 1. Add a Column"
   ]
  },
  {
   "cell_type": "code",
   "execution_count": null,
   "id": "802e1193",
   "metadata": {
    "vscode": {
     "languageId": "sql"
    }
   },
   "outputs": [],
   "source": [
    "-- SQL Syntax:\n",
    "ALTER TABLE table_name ADD COLUMN column_name data_type;\n",
    "\n",
    "-- Example:\n",
    "ALTER TABLE employees ADD COLUMN age INT;"
   ]
  },
  {
   "cell_type": "markdown",
   "id": "c20bf6b5",
   "metadata": {},
   "source": [
    "#####\n",
    "<div style=\"\n",
    "    color: black;\n",
    "    background-color: #d9d9d9;\n",
    "    border-radius: 10px;\n",
    "    padding: 1%;\n",
    "    font-size: 1em;\n",
    "    border: 1px solid #3f37c9;\n",
    "\">\n",
    "\n",
    "<h3>Using pgAdmin GUI to Add a Column</h3>\n",
    "\n",
    "<ol>\n",
    "  <li>Go to: <strong>Tables &gt; [Your Table] &gt; Columns</strong></li>\n",
    "  <li>Right-click → <strong>Create &gt; Column</strong></li>\n",
    "  <li>Set name, type, and click Save</li>\n",
    "</ol>\n",
    "\n",
    "\n",
    "</div>\n"
   ]
  },
  {
   "cell_type": "markdown",
   "id": "bcc2679c",
   "metadata": {},
   "source": [
    "#### 2. Rename a Column"
   ]
  },
  {
   "cell_type": "code",
   "execution_count": null,
   "id": "4c4b9458",
   "metadata": {
    "vscode": {
     "languageId": "sql"
    }
   },
   "outputs": [],
   "source": [
    "-- SQL Syntax:\n",
    "ALTER TABLE table_name RENAME COLUMN old_name TO new_name;\n",
    "-- Example:\n",
    "ALTER TABLE employees RENAME COLUMN age TO employee_age; "
   ]
  },
  {
   "cell_type": "markdown",
   "id": "7fef3792",
   "metadata": {},
   "source": [
    "#####\n",
    "<div style=\"\n",
    "    color: black;\n",
    "    background-color: #d9d9d9;\n",
    "    border-radius: 10px;\n",
    "    padding: 1%;\n",
    "    font-size: 1em;\n",
    "    border: 1px solid #3f37c9;\n",
    "\">\n",
    "\n",
    "<h3>Rename a Column using pgAdmin GUI</h3>\n",
    "<ol>\n",
    "  <li>Right-click on the column</li>\n",
    "  <li>Click <strong>Properties</strong></li>\n",
    "  <li>Change the name → Save</li>\n",
    "</ol>\n",
    "\n",
    "\n",
    "\n",
    "</div>\n"
   ]
  },
  {
   "cell_type": "markdown",
   "id": "e2857904",
   "metadata": {},
   "source": [
    "#### 3. Change Column Data Type"
   ]
  },
  {
   "cell_type": "code",
   "execution_count": null,
   "id": "8497381c",
   "metadata": {
    "vscode": {
     "languageId": "sql"
    }
   },
   "outputs": [],
   "source": [
    "-- SQL Syntax:\n",
    "ALTER TABLE table_name ALTER COLUMN column_name TYPE new_data_type;\n",
    "\n",
    "-- Example:\n",
    "ALTER TABLE employees ALTER COLUMN age TYPE VARCHAR(3);"
   ]
  },
  {
   "cell_type": "markdown",
   "id": "1588159c",
   "metadata": {},
   "source": [
    "#####\n",
    "<div style=\"\n",
    "    color: black;\n",
    "    background-color: #d9d9d9;\n",
    "    border-radius: 10px;\n",
    "    padding: 1%;\n",
    "    font-size: 1em;\n",
    "    border: 1px solid #3f37c9;\n",
    "\">\n",
    "\n",
    "<h3>Change Column Data Type using pgAdmin GUI</h3>\n",
    "\n",
    "<ol>\n",
    "  <li>Right-click on the column → <strong>Properties</strong></li>\n",
    "  <li>Change the data type</li>\n",
    "  <li>Click <strong>Save</strong></li>\n",
    "</ol>\n",
    "\n",
    "\n",
    "\n",
    "\n",
    "</div>\n"
   ]
  },
  {
   "cell_type": "markdown",
   "id": "5228cf7a",
   "metadata": {},
   "source": [
    "####  4. Set or Change a Default Value"
   ]
  },
  {
   "cell_type": "code",
   "execution_count": null,
   "id": "94062bb7",
   "metadata": {
    "vscode": {
     "languageId": "sql"
    }
   },
   "outputs": [],
   "source": [
    "-- SQL Syntax:\n",
    "ALTER TABLE table_name ALTER COLUMN column_name SET DEFAULT default_value;\n",
    "\n",
    "-- Example:\n",
    "ALTER TABLE employees ALTER COLUMN age SET DEFAULT 25;"
   ]
  },
  {
   "cell_type": "markdown",
   "id": "ff07243e",
   "metadata": {},
   "source": [
    "#####\n",
    "<div style=\"\n",
    "    color: black;\n",
    "    background-color: #d9d9d9;\n",
    "    border-radius: 10px;\n",
    "    padding: 1%;\n",
    "    font-size: 1em;\n",
    "    border: 1px solid #3f37c9;\n",
    "\">\n",
    "\n",
    "<h3>Set Default Value using pgAdmin GUI</h3>\n",
    "\n",
    "<ol>\n",
    "  <li>Open the column → <strong>Properties</strong></li>\n",
    "  <li>Scroll to the <strong>Default</strong> field</li>\n",
    "  <li>Set the desired value</li>\n",
    "  <li>Click <strong>Save</strong></li>\n",
    "</ol>\n",
    "</div>\n"
   ]
  },
  {
   "cell_type": "markdown",
   "id": "9d0be38f",
   "metadata": {},
   "source": [
    "#### 5. Remove a Default Value"
   ]
  },
  {
   "cell_type": "code",
   "execution_count": null,
   "id": "b8b49dba",
   "metadata": {
    "vscode": {
     "languageId": "sql"
    }
   },
   "outputs": [],
   "source": [
    "-- SQL Syntax:\n",
    "ALTER TABLE table_name ALTER COLUMN column_name DROP DEFAULT;"
   ]
  },
  {
   "cell_type": "markdown",
   "id": "11c23e45",
   "metadata": {},
   "source": [
    "####  6. Delete a Column"
   ]
  },
  {
   "cell_type": "code",
   "execution_count": null,
   "id": "5c1c6916",
   "metadata": {
    "vscode": {
     "languageId": "sql"
    }
   },
   "outputs": [],
   "source": [
    "-- SQL Syntax:\n",
    "ALTER TABLE table_name DROP COLUMN column_name;\n",
    "\n",
    "-- Example:\n",
    "ALTER TABLE employees DROP COLUMN age;"
   ]
  },
  {
   "cell_type": "markdown",
   "id": "6a1953a8",
   "metadata": {},
   "source": [
    "#####\n",
    "<div style=\"\n",
    "    color: black;\n",
    "    background-color: #d9d9d9;\n",
    "    border-radius: 10px;\n",
    "    padding: 1%;\n",
    "    font-size: 1em;\n",
    "    border: 1px solid #3f37c9;\n",
    "\">\n",
    "\n",
    "<h3>Delete Column using pgAdmin GUI</h3>\n",
    "<ol>\n",
    "  <li>Right-click the column under <strong>Columns</strong></li>\n",
    "  <li>Click <strong>Delete/Drop</strong></li>\n",
    "</ol>\n",
    "\n",
    "\n",
    "</div>\n"
   ]
  },
  {
   "cell_type": "markdown",
   "id": "f0fe8814",
   "metadata": {},
   "source": [
    "#### 7. Rename the Table"
   ]
  },
  {
   "cell_type": "code",
   "execution_count": null,
   "id": "b7342d92",
   "metadata": {
    "vscode": {
     "languageId": "sql"
    }
   },
   "outputs": [],
   "source": [
    "-- SQL Syntax:\n",
    "ALTER TABLE old_table_name RENAME TO new_table_name;\n",
    "\n",
    "-- Example:\n",
    "ALTER TABLE employees RENAME TO staff;"
   ]
  },
  {
   "cell_type": "markdown",
   "id": "5412daa0",
   "metadata": {},
   "source": [
    "#####\n",
    "<div style=\"\n",
    "    color: black;\n",
    "    background-color: #d9d9d9;\n",
    "    border-radius: 10px;\n",
    "    padding: 1%;\n",
    "    font-size: 1em;\n",
    "    border: 1px solid #3f37c9;\n",
    "\">\n",
    "\n",
    "<h3>Rename a Table using pgAdmin GUI</h3>\n",
    "<ol>\n",
    "  <li>Right-click the table</li>\n",
    "  <li>Select <strong>Rename</strong></li>\n",
    "  <li>Enter the new name</li>\n",
    "</ol>\n",
    "\n",
    "\n",
    "</div>\n"
   ]
  },
  {
   "cell_type": "markdown",
   "id": "db5c2b57",
   "metadata": {},
   "source": [
    "#### 8. Add a Constraint"
   ]
  },
  {
   "cell_type": "code",
   "execution_count": null,
   "id": "4322e3e8",
   "metadata": {
    "vscode": {
     "languageId": "sql"
    }
   },
   "outputs": [],
   "source": [
    "-- You can add constraints like NOT NULL, UNIQUE, CHECK, FOREIGN KEY, PRIMARY KEY.\n",
    "\n",
    "-- Add NOT NULL:\n",
    "ALTER TABLE employees ALTER COLUMN name SET NOT NULL;\n",
    "\n",
    "-- Add UNIQUE:\n",
    "ALTER TABLE employees ADD CONSTRAINT unique_email UNIQUE(email);\n",
    "\n",
    "-- Add CHECK:\n",
    "ALTER TABLE employees ADD CONSTRAINT age_check CHECK (age > 18);"
   ]
  },
  {
   "cell_type": "markdown",
   "id": "6a12e1cd",
   "metadata": {},
   "source": [
    "#####\n",
    "<div style=\"\n",
    "    color: black;\n",
    "    background-color: #d9d9d9;\n",
    "    border-radius: 10px;\n",
    "    padding: 1%;\n",
    "    font-size: 1em;\n",
    "    border: 1px solid #3f37c9;\n",
    "\">\n",
    "\n",
    "<h3>Add a Constraint using pgAdmin GUI</h3>\n",
    "<ol>\n",
    "  <li>Go to: <strong>Constraints &gt; [Type]</strong></li>\n",
    "  <li>Right-click → <strong>Create</strong></li>\n",
    "  <li>Set values and condition → <strong>Save</strong></li>\n",
    "</ol>\n",
    "\n",
    "\n",
    "</div>\n"
   ]
  },
  {
   "cell_type": "markdown",
   "id": "aa519785",
   "metadata": {},
   "source": [
    "#### 9. Drop a Constraint"
   ]
  },
  {
   "cell_type": "code",
   "execution_count": null,
   "id": "2774ad40",
   "metadata": {
    "vscode": {
     "languageId": "sql"
    }
   },
   "outputs": [],
   "source": [
    "-- SQL Syntax:\n",
    "ALTER TABLE table_name DROP CONSTRAINT constraint_name;\n",
    "\n",
    "-- Example:\n",
    "ALTER TABLE employees DROP CONSTRAINT age_check;"
   ]
  },
  {
   "cell_type": "markdown",
   "id": "393a4d51",
   "metadata": {},
   "source": [
    "#### 10. Truncate Table (Delete All Rows but Keep Structure)"
   ]
  },
  {
   "cell_type": "code",
   "execution_count": null,
   "id": "4e3b408a",
   "metadata": {
    "vscode": {
     "languageId": "sql"
    }
   },
   "outputs": [],
   "source": [
    "-- SQL Syntax:\n",
    "TRUNCATE TABLE table_name;\n",
    "\n",
    "-- This deletes all records instantly — much faster than DELETE."
   ]
  },
  {
   "cell_type": "markdown",
   "id": "f4244eac",
   "metadata": {},
   "source": [
    "\n",
    "<div style=\"\n",
    "    color: black;\n",
    "    background-color: #d9d9d9;\n",
    "    border-radius: 10px;\n",
    "    padding: 1%;\n",
    "    font-size: 1em;\n",
    "    border: 1px solid #3f37c9;\n",
    "\">\n",
    "<table border=\"1\" cellspacing=\"0\" cellpadding=\"6\">\n",
    "  <thead>\n",
    "    <tr>\n",
    "      <th>Task</th>\n",
    "      <th>SQL Command</th>\n",
    "      <th>pgAdmin Path</th>\n",
    "    </tr>\n",
    "  </thead>\n",
    "  <tbody>\n",
    "    <tr>\n",
    "      <td>Add Column</td>\n",
    "      <td><code>ADD COLUMN</code></td>\n",
    "      <td>Columns → Create</td>\n",
    "    </tr>\n",
    "    <tr>\n",
    "      <td>Drop Column</td>\n",
    "      <td><code>DROP COLUMN</code></td>\n",
    "      <td>Right-click column → Delete</td>\n",
    "    </tr>\n",
    "    <tr>\n",
    "      <td>Rename Column</td>\n",
    "      <td><code>RENAME COLUMN</code></td>\n",
    "      <td>Column → Properties</td>\n",
    "    </tr>\n",
    "    <tr>\n",
    "      <td>Change Data Type</td>\n",
    "      <td><code>ALTER COLUMN ... TYPE</code></td>\n",
    "      <td>Column → Properties</td>\n",
    "    </tr>\n",
    "    <tr>\n",
    "      <td>Add Constraint</td>\n",
    "      <td><code>ADD CONSTRAINT</code></td>\n",
    "      <td>Constraints → Create</td>\n",
    "    </tr>\n",
    "    <tr>\n",
    "      <td>Drop Constraint</td>\n",
    "      <td><code>DROP CONSTRAINT</code></td>\n",
    "      <td>Constraints → Delete</td>\n",
    "    </tr>\n",
    "    <tr>\n",
    "      <td>Rename Table</td>\n",
    "      <td><code>RENAME TO</code></td>\n",
    "      <td>Table → Rename</td>\n",
    "    </tr>\n",
    "    <tr>\n",
    "      <td>Truncate</td>\n",
    "      <td><code>TRUNCATE TABLE</code></td>\n",
    "      <td>Right-click table → Truncate/Empty</td>\n",
    "    </tr>\n",
    "  </tbody>\n",
    "</table>\n",
    "\n",
    "\n",
    "</div>\n"
   ]
  },
  {
   "cell_type": "markdown",
   "id": "dafc933a",
   "metadata": {},
   "source": [
    "## 7. SELECT ... FROM COMMAND"
   ]
  },
  {
   "cell_type": "markdown",
   "id": "caaccb33",
   "metadata": {},
   "source": [
    "\n",
    "<div style=\"\n",
    "    color: black;\n",
    "    background-color: #d9d9d9;\n",
    "    border-radius: 10px;\n",
    "    padding: 1%;\n",
    "    font-size: 1em;\n",
    "    border: 1px solid #3f37c9;\n",
    "\">\n",
    "<p><strong>SELECT ... FROM</strong> is used to retrieve data from one or more tables.</p>\n",
    "\n",
    "<p>You tell the database:</p>\n",
    "<ul>\n",
    "  <li>What columns you want to see → <code>SELECT</code></li>\n",
    "  <li>Where to get them from → <code>FROM</code></li>\n",
    "</ul>\n",
    "\n",
    "<p>This command is the most frequently used in SQL and is the base of all data exploration, filtering, reporting, and joining.</p>\n",
    "\n",
    "\n",
    "</div>\n"
   ]
  },
  {
   "cell_type": "markdown",
   "id": "260c4be3",
   "metadata": {},
   "source": [
    "#### 1. Basic SELECT Query"
   ]
  },
  {
   "cell_type": "code",
   "execution_count": null,
   "id": "86119796",
   "metadata": {
    "vscode": {
     "languageId": "sql"
    }
   },
   "outputs": [],
   "source": [
    "-- SQL Syntax:\n",
    "SELECT column1, column2 FROM table_name;\n",
    "\n",
    "-- Example:C\n",
    "SELECT name, age FROM employees;"
   ]
  },
  {
   "cell_type": "markdown",
   "id": "93901bfa",
   "metadata": {},
   "source": [
    "#### 2. Select All Columns"
   ]
  },
  {
   "cell_type": "code",
   "execution_count": null,
   "id": "d4e40561",
   "metadata": {
    "vscode": {
     "languageId": "sql"
    }
   },
   "outputs": [],
   "source": [
    "-- SQL Syntax:\n",
    "SELECT * FROM table_name;\n",
    "\n",
    "-- Example:C\n",
    "SELECT * FROM employees;"
   ]
  },
  {
   "cell_type": "markdown",
   "id": "3af5efa8",
   "metadata": {},
   "source": [
    "#### 3. Rename Columns with Aliases"
   ]
  },
  {
   "cell_type": "code",
   "execution_count": null,
   "id": "ea441cbf",
   "metadata": {
    "vscode": {
     "languageId": "sql"
    }
   },
   "outputs": [],
   "source": [
    "-- SQL Syntax:\n",
    "SELECT column_name AS alias_name FROM table_name;\n",
    "\n",
    "-- Example:\n",
    "SELECT name AS employee_name FROM employees;"
   ]
  },
  {
   "cell_type": "markdown",
   "id": "e4515d5a",
   "metadata": {},
   "source": [
    "## 8. WHERE command (filtering rows)"
   ]
  },
  {
   "cell_type": "markdown",
   "id": "c27c6f73",
   "metadata": {},
   "source": [
    "#### 4. Filter Rows Using WHERE"
   ]
  },
  {
   "cell_type": "code",
   "execution_count": null,
   "id": "8a61627a",
   "metadata": {
    "vscode": {
     "languageId": "sql"
    }
   },
   "outputs": [],
   "source": [
    "-- SQL Syntax:\n",
    "SELECT * FROM table_name WHERE condition;\n",
    "\n",
    "-- Examples:\n",
    "\n",
    "SELECT * FROM employees WHERE age > 30;\n",
    "SELECT * FROM employees WHERE department = 'HR';"
   ]
  },
  {
   "cell_type": "markdown",
   "id": "834586b6",
   "metadata": {},
   "source": [
    "\n",
    "<div style=\"\n",
    "    color: black;\n",
    "    background-color: #d9d9d9;\n",
    "    border-radius: 10px;\n",
    "    padding: 1%;\n",
    "    font-size: 1em;\n",
    "    border: 1px solid #3f37c9;\n",
    "\">\n",
    "<p><strong>5. Use Comparison Operators</strong></p>\n",
    "\n",
    "<table border=\"1\" cellpadding=\"6\" cellspacing=\"0\">\n",
    "  <thead>\n",
    "    <tr>\n",
    "      <th>Operator</th>\n",
    "      <th>Meaning</th>\n",
    "    </tr>\n",
    "  </thead>\n",
    "  <tbody>\n",
    "    <tr>\n",
    "      <td>=</td>\n",
    "      <td>Equals</td>\n",
    "    </tr>\n",
    "    <tr>\n",
    "      <td>!= or &lt;&gt;</td>\n",
    "      <td>Not equal</td>\n",
    "    </tr>\n",
    "    <tr>\n",
    "      <td>&gt;, &lt;</td>\n",
    "      <td>Greater/Less than</td>\n",
    "    </tr>\n",
    "    <tr>\n",
    "      <td>&gt;=, &lt;=</td>\n",
    "      <td>Greater/Less than or equal</td>\n",
    "    </tr>\n",
    "  </tbody>\n",
    "</table>\n",
    "\n",
    "\n",
    "<p><strong>6. Use Logical Operators</strong></p>\n",
    "\n",
    "<table border=\"1\" cellpadding=\"6\" cellspacing=\"0\">\n",
    "  <thead>\n",
    "    <tr>\n",
    "      <th>Operator</th>\n",
    "      <th>Use Case</th>\n",
    "    </tr>\n",
    "  </thead>\n",
    "  <tbody>\n",
    "    <tr>\n",
    "      <td>AND</td>\n",
    "      <td>Combines conditions (both must be true)</td>\n",
    "    </tr>\n",
    "    <tr>\n",
    "      <td>OR</td>\n",
    "      <td>Either condition must be true</td>\n",
    "    </tr>\n",
    "    <tr>\n",
    "      <td>NOT</td>\n",
    "      <td>Negates a condition</td>\n",
    "    </tr>\n",
    "  </tbody>\n",
    "</table>\n",
    "\n",
    "\n",
    "</div>\n"
   ]
  },
  {
   "cell_type": "markdown",
   "id": "b74dbae9",
   "metadata": {},
   "source": [
    "### 7. Sorting Results – ORDER BY\n"
   ]
  },
  {
   "cell_type": "code",
   "execution_count": null,
   "id": "4975ee87",
   "metadata": {
    "vscode": {
     "languageId": "sql"
    }
   },
   "outputs": [],
   "source": [
    "SELECT * FROM employees ORDER BY age ASC;\n",
    "SELECT * FROM employees ORDER BY salary DESC;\n",
    "\n",
    "-- ASC is for ascending order, DESC is for descending order."
   ]
  },
  {
   "cell_type": "markdown",
   "id": "79b8957a",
   "metadata": {},
   "source": [
    "### 8. Limiting Results – LIMIT"
   ]
  },
  {
   "cell_type": "code",
   "execution_count": null,
   "id": "b52c3f13",
   "metadata": {
    "vscode": {
     "languageId": "sql"
    }
   },
   "outputs": [],
   "source": [
    "-- LIMIT is used to limit the number of rows returned by a query.\n",
    "-- Example:\n",
    "\n",
    "SELECT * FROM employees LIMIT 10;\n",
    "-- This will return the first 10 rows of the result set.\n",
    "\n",
    "-- Use OFFSET to skip rows:\n",
    "-- OFFSET specifies how many rows to skip before starting to return rows from the query.\n",
    "\n",
    "-- SQL Syntax:\n",
    "\n",
    "SELECT column1, column2\n",
    "FROM table_name\n",
    "ORDER BY column_name\n",
    "OFFSET n;\n",
    "\n",
    "-- where n is the number of rows to skip.\n",
    "\n",
    "-- Example:\n",
    "SELECT * FROM employees LIMIT 10 OFFSET 5;"
   ]
  },
  {
   "cell_type": "markdown",
   "id": "60d11bb6",
   "metadata": {},
   "source": [
    "###  9. DISTINCT Values"
   ]
  },
  {
   "cell_type": "code",
   "execution_count": null,
   "id": "2c4f6e71",
   "metadata": {
    "vscode": {
     "languageId": "sql"
    }
   },
   "outputs": [],
   "source": [
    "-- The DISTINCT keyword in SQL is used to remove duplicate rows from the result set — it ensures that only unique values are returned.\n",
    "\n",
    "-- SQL Syntax:\n",
    "\n",
    "SELECT DISTINCT column1, column2, ...\n",
    "FROM table_name;\n",
    "\n",
    "-- Example:\n",
    "SELECT DISTINCT department FROM employees;\n",
    "\n"
   ]
  },
  {
   "cell_type": "markdown",
   "id": "b5046af3",
   "metadata": {},
   "source": [
    "## 9. GROUP BY in PostgreSQL"
   ]
  },
  {
   "cell_type": "markdown",
   "id": "c884cafc",
   "metadata": {},
   "source": [
    "\n",
    "<div style=\"\n",
    "    color: black;\n",
    "    background-color: #d9d9d9;\n",
    "    border-radius: 10px;\n",
    "    padding: 1%;\n",
    "    font-size: 1em;\n",
    "    border: 1px solid #3f37c9;\n",
    "\">\n",
    "\n",
    "<p>The GROUP BY statement in PostgreSQL is used to group rows that have the same values in specified columns.\n",
    "Then, we can apply aggregate functions like COUNT(), SUM(), AVG(), MAX(), MIN() on each group instead of the entire table.</p>\n",
    "\n",
    "<p><b>Think of it like this:</b></p>\n",
    "<ol>\n",
    "  <li>First, PostgreSQL divides your data into groups based on the column(s) you choose.</li>\n",
    "  <li>Then, it summarizes each group with your aggregate functions.</li>\n",
    "</ol>\n",
    "\n",
    "<p><b>Use Cases for Data Science:</b></p>\n",
    "<ul>\n",
    "  <li>Count users in each city</li>\n",
    "  <li>Average salary per department</li>\n",
    "  <li>Total sales per month</li>\n",
    "</ul>\n",
    "\n",
    "\n",
    "</div>\n"
   ]
  },
  {
   "cell_type": "code",
   "execution_count": null,
   "id": "da7df8fa",
   "metadata": {
    "vscode": {
     "languageId": "sql"
    }
   },
   "outputs": [],
   "source": [
    "-- Basic Syntax\n",
    "\n",
    "SELECT column1, AGGREGATE_FUNCTION(column2)\n",
    "FROM table_name\n",
    "GROUP BY column1;\n",
    "\n",
    "-- Example\n",
    "\n",
    "SELECT department, COUNT(*) AS employee_count\n",
    "FROM employees\n",
    "GROUP BY department;\n",
    "\n",
    "-- Explanation:\n",
    "-- Groups all employees by department\n",
    "-- Counts the number of employees in each department"
   ]
  },
  {
   "cell_type": "code",
   "execution_count": null,
   "id": "32a036b1",
   "metadata": {
    "vscode": {
     "languageId": "sql"
    }
   },
   "outputs": [],
   "source": [
    "-- Multiple Columns in GROUP BY\n",
    "\n",
    "SELECT department, job_title, AVG(salary) AS avg_salary\n",
    "FROM employees\n",
    "GROUP BY department, job_title;\n",
    "\n",
    "-- Explanation:\n",
    "-- Groups employees by both department and job title\n",
    "-- Calculates the average salary for each group"
   ]
  }
 ],
 "metadata": {
  "kernelspec": {
   "display_name": "Python 3",
   "language": "python",
   "name": "python3"
  },
  "language_info": {
   "codemirror_mode": {
    "name": "ipython",
    "version": 3
   },
   "file_extension": ".py",
   "mimetype": "text/x-python",
   "name": "python",
   "nbconvert_exporter": "python",
   "pygments_lexer": "ipython3",
   "version": "3.13.5"
  }
 },
 "nbformat": 4,
 "nbformat_minor": 5
}
