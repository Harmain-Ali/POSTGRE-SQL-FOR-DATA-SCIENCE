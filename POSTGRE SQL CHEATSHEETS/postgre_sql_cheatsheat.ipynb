{
 "cells": [
  {
   "cell_type": "markdown",
   "id": "e5bd7102",
   "metadata": {},
   "source": [
    "<div style=\"\n",
    "    font-family: 'Roboto', sans-serif;\n",
    "    color: white;\n",
    "    background-color: #AF0404;\n",
    "    padding: 1%;\n",
    "    border-radius: 10px;\n",
    "    font-size: 2em;\n",
    "    text-align: center;\n",
    "\">\n",
    "POSTGRE SQL CHEAT SHEET\n",
    "</div>\n"
   ]
  },
  {
   "cell_type": "markdown",
   "id": "d4ccba61",
   "metadata": {},
   "source": [
    "\n",
    "<div style=\"\n",
    "    color: black;\n",
    "    background-color: #d9d9d9;\n",
    "    border-radius: 10px;\n",
    "    padding: 1%;\n",
    "    font-size: 1em;\n",
    "    border: 1px solid #3f37c9;\n",
    "\">\n",
    "    📍 <b>NOTE</b>: This notebook is intended to:\n",
    "    <ul>\n",
    "        <li>Provide exhaustive and comprehensive guide of the Postgresql.</li>\n",
    "        <li>Discuss the syntax and code of the most used functions in Postgresql.</li>\n",
    "    </ul>\n",
    "</div>\n"
   ]
  },
  {
   "cell_type": "markdown",
   "id": "fbafea31",
   "metadata": {},
   "source": [
    "## 1. INSTALLATION"
   ]
  },
  {
   "cell_type": "markdown",
   "id": "0b518119",
   "metadata": {},
   "source": [
    "\n",
    "<div style=\"\n",
    "    color: black;\n",
    "    background-color: #d9d9d9;\n",
    "    border-radius: 10px;\n",
    "    padding: 1%;\n",
    "    font-size: 1em;\n",
    "    border: 1px solid #3f37c9;\n",
    "\">\n",
    "    \n",
    "<div >  <p> <strong>PostgreSQL</strong> is a free, powerful, and open-source relational database management system (RDBMS). It’s widely used in <em>Data Science</em>, <em>Web Development</em>, and <em>large-scale applications</em> due to its performance, reliability, and features like <strong>full ACID compliance</strong> and support for <strong>complex queries</strong>. </p> <p> <strong>pgAdmin</strong> is a graphical user interface (GUI) tool that makes it easier to interact with PostgreSQL databases. Instead of typing commands in the terminal, you can create, manage, and query databases <strong>visually</strong>. </p> <p> When you're getting started, installing PostgreSQL automatically installs pgAdmin <span style=\"color: #888;\">(unless you choose not to)</span>. These tools work together: </p> <ul style=\"margin-left: 1.5em;\"> <li><strong>PostgreSQL</strong> handles the <em>backend database system</em>.</li> <li><strong>pgAdmin</strong> helps you <em>view, manage, and edit</em> your databases with <strong>clicks instead of code</strong>.</li> </ul> </div>\n",
    "\n",
    "</div>\n"
   ]
  },
  {
   "cell_type": "markdown",
   "id": "2cd33233",
   "metadata": {},
   "source": [
    "###\n",
    "<div style=\"\n",
    "    color: black;\n",
    "    background-color: #d9d9d9;\n",
    "    border-radius: 10px;\n",
    "    padding: 1%;\n",
    "    font-size: 1em;\n",
    "    border: 1px solid #3f37c9;\n",
    "\">\n",
    "    \n",
    "<div> <h2>Steps to Install PostgreSQL & pgAdmin</h2> <h3>Step 1: Download Installer</h3> <ul> <li>Go to the official site: <a href=\"https://www.postgresql.org/download/\" target=\"_blank\">https://www.postgresql.org/download/</a></li> <li>Select your operating system (Windows, macOS, Linux)</li> <li>Choose the “Graphical Installer” by EDB (EnterpriseDB)</li> </ul> <h3>Step 2: Run the Installer</h3> <ul> <li>Open the downloaded <code>.exe</code> or <code>.dmg</code> file</li> <li>The setup wizard will launch</li> </ul> <h3>Step 3: Installation Options</h3> <ul> <li><strong>Make sure the following are selected:</strong></li> <ul> <li>PostgreSQL Server</li> <li>pgAdmin 4</li> <li>Stack Builder (optional)</li> </ul> <li>Click “Next” to proceed</li> </ul> <h3>Step 4: Set Superuser Password</h3> <ul> <li>Set a strong password for the default PostgreSQL superuser account (usually <code>postgres</code>)</li> <li>You will need this password to log in later</li> </ul> <h3>Step 5: Choose Port</h3> <ul> <li>Leave the default port as <strong>5432</strong></li> <li>Click “Next”</li> </ul> <h3>Step 6: Finish Installation</h3> <ul> <li>Click “Finish” to complete the installation</li> </ul> </div>\n",
    "\n",
    "</div>\n"
   ]
  },
  {
   "cell_type": "markdown",
   "id": "ea7be285",
   "metadata": {},
   "source": [
    "## 2. CREATING A DATABASE"
   ]
  },
  {
   "cell_type": "markdown",
   "id": "f3bdff97",
   "metadata": {},
   "source": [
    "\n",
    "<div style=\"\n",
    "    color: black;\n",
    "    background-color: #d9d9d9;\n",
    "    border-radius: 10px;\n",
    "    padding: 1%;\n",
    "    font-size: 1em;\n",
    "    border: 1px solid #3f37c9;\n",
    "\">\n",
    "    \n",
    "<div> <p> A <strong>database</strong> in PostgreSQL is like a container or folder where all your data is stored. You can create <em>multiple databases</em> on the same PostgreSQL server — each database can hold its own tables, schemas, functions, and data. </p> <p><strong>For example:</strong></p> <ul> <li>You might have a <code>sales_data</code> database for business analytics.</li> <li>A <code>machine_learning</code> database for storing datasets and model outputs.</li> </ul> <p><strong>Each database is isolated, which means:</strong></p> <ul> <li>Data in one database can't directly interact with data in another.</li> <li>You must connect to a specific database before running SQL queries.</li> </ul> </div>\n",
    "\n",
    "</div>\n"
   ]
  },
  {
   "cell_type": "code",
   "execution_count": null,
   "id": "df25c507",
   "metadata": {
    "vscode": {
     "languageId": "sql"
    }
   },
   "outputs": [],
   "source": [
    "-- SQL Syntax to Create a Database\n",
    "CREATE DATABASE database_name;\n",
    "-- Example:\n",
    "CREATE DATABASE sales_data;\n",
    "\n",
    "\n",
    "-- Optional Parameters: You can specify additional options like encoding, owner, and template\n",
    "CREATE DATABASE database_name\n",
    "    WITH \n",
    "    OWNER = username\n",
    "    ENCODING = 'UTF8'\n",
    "    CONNECTION LIMIT = 20;\n",
    "\n",
    "-- OWNER – Who owns the DB (default is current user)\n",
    "-- ENCODING – Character set (UTF8 is standard)\n",
    "-- CONNECTION LIMIT – Max number of active connection\n"
   ]
  },
  {
   "cell_type": "markdown",
   "id": "617d971e",
   "metadata": {},
   "source": [
    "\n",
    "<div style=\"\n",
    "    color: black;\n",
    "    background-color: #d9d9d9;\n",
    "    border-radius: 10px;\n",
    "    padding: 1%;\n",
    "    font-size: 1em;\n",
    "    border: 1px solid #3f37c9;\n",
    "\">\n",
    "    \n",
    "<h3>How to Create a Database in pgAdmin GUI (Windows App)</h3> <h4>Step-by-Step Instructions</h4> <ol> <li><strong>Open pgAdmin</strong><br> Launch from Start Menu → pgAdmin 4 </li> <li><strong>Connect to Server</strong><br> Enter your master password </li> <li><strong>Navigate to the Database Section</strong><br> Expand: Servers &gt; PostgreSQL </li> <li><strong>Right-click on \"Databases\"</strong><br> Click <em>Create</em> → <em>Database...</em> </li> <li><strong>Fill in the Form:</strong> <ul> <li><strong>Database name:</strong> e.g., <em>sales_data</em></li> <li><strong>Owner:</strong> Leave as <em>postgres</em> or choose another user</li> <li>Leave other settings default unless you need advanced configuration</li> </ul> </li> <li><strong>Click Save</strong></li> </ol> <p>Your new database will now appear in the left panel under <strong>Databases</strong>.</p>\n",
    "\n",
    "</div>\n"
   ]
  },
  {
   "cell_type": "markdown",
   "id": "1c1e161f",
   "metadata": {},
   "source": [
    "## 3. CREATING A TABLE"
   ]
  },
  {
   "cell_type": "markdown",
   "id": "2db3ab1e",
   "metadata": {},
   "source": [
    "\n",
    "<div style=\"\n",
    "    color: black;\n",
    "    background-color: #d9d9d9;\n",
    "    border-radius: 10px;\n",
    "    padding: 1%;\n",
    "    font-size: 1em;\n",
    "    border: 1px solid #3f37c9;\n",
    "\">\n",
    "    \n",
    "<title>What is a Table in PostgreSQL</title> </head> <body> <h3>What is a Table in PostgreSQL?</h3> <p>A table in PostgreSQL is like a spreadsheet inside your database.<br> It stores your data in rows (records) and columns (fields).</p> <ul> <li>Each column has a name and a data type (like text, number, date, etc.).</li> <li>Each row is a single entry — like one person, product, or transaction.</li> </ul>\n",
    "\n",
    "</div>\n"
   ]
  },
  {
   "cell_type": "code",
   "execution_count": null,
   "id": "fed5ef92",
   "metadata": {
    "vscode": {
     "languageId": "sql"
    }
   },
   "outputs": [],
   "source": [
    "-- SQL Syntax to Create a Table\n",
    "\n",
    "CREATE TABLE table_name (\n",
    "    column1 datatype constraints,\n",
    "    column2 datatype constraints,\n",
    "    ...\n",
    ");\n",
    "\n",
    "-- Example:\n",
    "\n",
    "CREATE TABLE employees (\n",
    "    employee_id SERIAL PRIMARY KEY,\n",
    "    name VARCHAR(100) NOT NULL,\n",
    "    age INTEGER,\n",
    "    email VARCHAR(100) UNIQUE,\n",
    "    hire_date DATE DEFAULT CURRENT_DATE\n",
    ");\n",
    "\n",
    "\n",
    "-- Use IF NOT EXISTS to avoid errors if table already exists:\n",
    "\n",
    "\n",
    "CREATE TABLE IF NOT EXISTS employees (\n",
    "    employee_id SERIAL PRIMARY KEY,\n",
    "    name VARCHAR(100) NOT NULL,\n",
    "    age INTEGER,\n",
    "    email VARCHAR(100) UNIQUE,\n",
    "    hire_date DATE DEFAULT CURRENT_DATE\n",
    ");"
   ]
  },
  {
   "cell_type": "markdown",
   "id": "ae75018b",
   "metadata": {},
   "source": [
    "\n",
    "<div style=\"\n",
    "    color: black;\n",
    "    background-color: #d9d9d9;\n",
    "    border-radius: 10px;\n",
    "    padding: 1%;\n",
    "    font-size: 1em;\n",
    "    border: 1px solid #3f37c9;\n",
    "\">\n",
    "    \n",
    "<title>How to Create a Table in pgAdmin (GUI)</title> </head> <body> <h3>How to Create a Table in pgAdmin (GUI Method)</h3> <h4>Step-by-Step:</h4> <ol> <li>Open pgAdmin and connect to your server.</li> <li>Navigate to:<br> <strong>Servers &gt; PostgreSQL &gt; Databases &gt; [Your Database] &gt; Schemas &gt; public &gt; Tables</strong> </li> <li>Right-click on <strong>Tables</strong> → Click <strong>Create</strong> &gt; <strong>Table...</strong></li> <li>In the Dialog Box:</li> <ul> <li><strong>General Tab</strong><br> Name: employees (or your desired table name)<br> Owner: Leave as postgres (default) </li> <li><strong>Columns Tab</strong><br> Click + Add for each column<br> Name: e.g. employee_id<br> Datatype: Choose from dropdown (e.g. serial, varchar, integer, date)<br> Set constraints like Primary Key, Not Null, Default </li> <li><strong>Constraints Tab (Optional)</strong><br> Set Primary Key or Foreign Key if needed (can also be done in the Columns tab) </li> </ul> <li>Click <strong>Save</strong></li> <li>Your table now appears in the left panel.</li> </ol>\n",
    "\n",
    "</div>\n"
   ]
  },
  {
   "cell_type": "markdown",
   "id": "4e6a2338",
   "metadata": {},
   "source": [
    "\n",
    "<div style=\"\n",
    "    color: black;\n",
    "    background-color: #d9d9d9;\n",
    "    border-radius: 10px;\n",
    "    padding: 1%;\n",
    "    font-size: 1em;\n",
    "    border: 1px solid #3f37c9;\n",
    "\">\n",
    "<h1>PostgreSQL data types:</h3>\n",
    "<table border=\"1\" cellspacing=\"0\" cellpadding=\"6\"> <thead> <tr> <th>Category</th> <th>Data Type</th> <th>Description</th> <th>When to Use</th> </tr> </thead> <tbody> <tr> <td rowspan=\"8\">Numeric</td> <td>INTEGER (INT)</td> <td>Whole numbers (-2,147,483,648 to 2,147,483,647)</td> <td>General-purpose whole numbers</td> </tr> <tr> <td>SMALLINT</td> <td>Smaller integers (-32,768 to 32,767)</td> <td>Memory-efficient integers</td> </tr> <tr> <td>BIGINT</td> <td>Large integers (-9 quintillion to +9 quintillion)</td> <td>Very large whole numbers (e.g., population count)</td> </tr> <tr> <td>DECIMAL(p,s) / NUMERIC(p,s)</td> <td>Exact fixed-point numbers (e.g., 12.34)</td> <td>Financial data, currency, precise calculations</td> </tr> <tr> <td>REAL</td> <td>Approximate floating-point (single precision)</td> <td>Scientific data (lower precision)</td> </tr> <tr> <td>DOUBLE PRECISION</td> <td>Approximate floating-point (double precision)</td> <td>Scientific or engineering use cases requiring high precision</td> </tr> <tr> <td>SERIAL</td> <td>Auto-incrementing 4-byte integer</td> <td>Primary keys, unique IDs</td> </tr> <tr> <td>BIGSERIAL</td> <td>Auto-incrementing 8-byte integer</td> <td>Large auto-generated keys</td> </tr> <tr> <td>Monetary</td> <td>MONEY</td> <td>Currency representation</td> <td>Basic financial amounts with formatting</td> </tr> <tr> <td rowspan=\"3\">Character</td> <td>CHAR(n)</td> <td>Fixed-length string</td> <td>Use when all values are same length (e.g., country code)</td> </tr> <tr> <td>VARCHAR(n)</td> <td>Variable-length string with limit</td> <td>Short text with length restriction (e.g., names, emails)</td> </tr> <tr> <td>TEXT</td> <td>Variable-length string without limit</td> <td>Large or unrestricted text (e.g., comments, descriptions)</td> </tr> <tr> <td rowspan=\"4\">Date & Time</td> <td>DATE</td> <td>Calendar date (YYYY-MM-DD)</td> <td>For date fields (e.g., DOB, created_at)</td> </tr> <tr> <td>TIME</td> <td>Time without time zone</td> <td>For storing time alone (e.g., office hours)</td> </tr> <tr> <td>TIMESTAMP</td> <td>Date and time without time zone</td> <td>When date-time is important (e.g., order timestamps)</td> </tr> <tr> <td>TIMESTAMPTZ</td> <td>Date and time with time zone</td> <td>Global apps, consistent time tracking</td> </tr> <tr> <td>Boolean</td> <td>BOOLEAN</td> <td>True or False</td> <td>Status flags (e.g., is_active, verified)</td> </tr> <tr> <td>UUID</td> <td>UUID</td> <td>Universally Unique Identifier</td> <td>Unique user/session IDs, distributed systems</td> </tr> <tr> <td rowspan=\"2\">Network Address</td> <td>INET</td> <td>IP address (IPv4 or IPv6)</td> <td>Storing IP addresses</td> </tr> <tr> <td>CIDR</td> <td>IP address with subnet</td> <td>Network configurations</td> </tr> <tr> <td rowspan=\"2\">JSON</td> <td>JSON</td> <td>Textual JSON data</td> <td>Semi-structured data that needs structure validation</td> </tr> <tr> <td>JSONB</td> <td>Binary-optimized JSON</td> <td>Efficient queries and indexing on JSON</td> </tr> <tr> <td>Geometric</td> <td>POINT, LINE, CIRCLE</td> <td>Geometric shapes</td> <td>Mapping, GIS, coordinates</td> </tr> <tr> <td>Arrays</td> <td>any[] (e.g., INT[])</td> <td>Arrays of any data type</td> <td>Multiple values in one column (e.g., tags, scores)</td> </tr> <tr> <td>HStore</td> <td>HSTORE</td> <td>Key-value pairs</td> <td>Schema-less key-value data</td> </tr> <tr> <td>Binary</td> <td>BYTEA</td> <td>Binary data</td> <td>Files, images, encrypted content</td> </tr> <tr> <td>Enumerated</td> <td>ENUM</td> <td>Predefined set of values</td> <td>Gender, status, category fields</td> </tr> <tr> <td>Range Types</td> <td>INT4RANGE, TSRANGE</td> <td>Ranges of numbers or timestamps</td> <td>Date ranges, score bands</td> </tr> <tr> <td>Full Text Search</td> <td>TSVECTOR</td> <td>Optimized format for full-text search</td> <td>Searchable documents, blog content</td> </tr> </tbody> </table>\n",
    "\n",
    "</div>\n"
   ]
  },
  {
   "cell_type": "markdown",
   "id": "8b49afcb",
   "metadata": {},
   "source": [
    "\n",
    "<div style=\"\n",
    "    color: black;\n",
    "    background-color: #d9d9d9;\n",
    "    border-radius: 10px;\n",
    "    padding: 1%;\n",
    "    font-size: 1em;\n",
    "    border: 1px solid #3f37c9;\n",
    "\">\n",
    "<h3>PostgreSQL Constraints:</h3>\n",
    "<table style=\"border-collapse: collapse; width: 100%; border: 1px solid #000;\"> <thead> <tr> <th style=\"border: 1px solid #000; padding: 8px;\">Constraint Name</th> <th style=\"border: 1px solid #000; padding: 8px;\">Description</th> <th style=\"border: 1px solid #000; padding: 8px;\">When to Use</th> <th style=\"border: 1px solid #000; padding: 8px;\">Applicable Data Types</th> </tr> </thead> <tbody> <tr> <td style=\"border: 1px solid #000; padding: 8px;\">PRIMARY KEY</td> <td style=\"border: 1px solid #000; padding: 8px;\">Uniquely identifies each row in a table. Implicitly adds NOT NULL &amp; UNIQUE</td> <td style=\"border: 1px solid #000; padding: 8px;\">Use for unique row identifiers like id, user_id</td> <td style=\"border: 1px solid #000; padding: 8px;\">INT, BIGINT, UUID, SERIAL, etc.</td> </tr> <tr> <td style=\"border: 1px solid #000; padding: 8px;\">FOREIGN KEY</td> <td style=\"border: 1px solid #000; padding: 8px;\">Ensures values match values in another table’s primary key</td> <td style=\"border: 1px solid #000; padding: 8px;\">Use to create relationships between tables (e.g., orders.customer_id)</td> <td style=\"border: 1px solid #000; padding: 8px;\">Same type as referenced primary key</td> </tr> <tr> <td style=\"border: 1px solid #000; padding: 8px;\">UNIQUE</td> <td style=\"border: 1px solid #000; padding: 8px;\">Ensures all values in a column (or combination) are different</td> <td style=\"border: 1px solid #000; padding: 8px;\">Use when no duplicates are allowed (e.g., email, username)</td> <td style=\"border: 1px solid #000; padding: 8px;\">TEXT, VARCHAR, INT, etc.</td> </tr> <tr> <td style=\"border: 1px solid #000; padding: 8px;\">NOT NULL</td> <td style=\"border: 1px solid #000; padding: 8px;\">Prevents null (missing) values</td> <td style=\"border: 1px solid #000; padding: 8px;\">Use when every row must have a value (e.g., name, price, date_of_birth)</td> <td style=\"border: 1px solid #000; padding: 8px;\">Any type</td> </tr> <tr> <td style=\"border: 1px solid #000; padding: 8px;\">CHECK</td> <td style=\"border: 1px solid #000; padding: 8px;\">Validates that a value meets a condition</td> <td style=\"border: 1px solid #000; padding: 8px;\">Use for constraints like age &gt; 18, salary &gt; 0</td> <td style=\"border: 1px solid #000; padding: 8px;\">Depends on condition (e.g., NUMERIC)</td> </tr> <tr> <td style=\"border: 1px solid #000; padding: 8px;\">DEFAULT</td> <td style=\"border: 1px solid #000; padding: 8px;\">Assigns a default value if none is given</td> <td style=\"border: 1px solid #000; padding: 8px;\">Use to auto-fill common values (e.g., status = 'pending')</td> <td style=\"border: 1px solid #000; padding: 8px;\">Any type</td> </tr> <tr> <td style=\"border: 1px solid #000; padding: 8px;\">EXCLUDE</td> <td style=\"border: 1px solid #000; padding: 8px;\">Prevents rows with overlapping values in specified columns using operators</td> <td style=\"border: 1px solid #000; padding: 8px;\">Use for advanced rules (e.g., prevent event time overlaps in booking apps)</td> <td style=\"border: 1px solid #000; padding: 8px;\">RANGE, GEOMETRY, TIMESTAMP</td> </tr> <tr> <td style=\"border: 1px solid #000; padding: 8px;\">NULL</td> <td style=\"border: 1px solid #000; padding: 8px;\">Allows NULL values (implicitly default if NOT NULL is not specified)</td> <td style=\"border: 1px solid #000; padding: 8px;\">Use when some fields are optional (e.g., middle_name)</td> <td style=\"border: 1px solid #000; padding: 8px;\">Any type</td> </tr> <tr> <td style=\"border: 1px solid #000; padding: 8px;\">DEFERRABLE / INITIALLY DEFERRED</td> <td style=\"border: 1px solid #000; padding: 8px;\">Controls when constraints are checked (at transaction end, not immediately)</td> <td style=\"border: 1px solid #000; padding: 8px;\">Use in complex transactional logic (e.g., circular foreign keys)</td> <td style=\"border: 1px solid #000; padding: 8px;\">Used with PRIMARY, FOREIGN, etc.</td> </tr> <tr> <td style=\"border: 1px solid #000; padding: 8px;\">ON DELETE / ON UPDATE (CASCADE, SET NULL, etc.)</td> <td style=\"border: 1px solid #000; padding: 8px;\">Action to take when referenced rows are deleted/updated</td> <td style=\"border: 1px solid #000; padding: 8px;\">Use with FOREIGN KEYs for cascading behaviors</td> <td style=\"border: 1px solid #000; padding: 8px;\">FOREIGN KEY referenced data types</td> </tr> </tbody> </table>\n",
    "\n",
    "</div>\n"
   ]
  },
  {
   "cell_type": "markdown",
   "id": "fdb946db",
   "metadata": {},
   "source": [
    "## 4. INSERTING VALUES INTO A TABLE"
   ]
  },
  {
   "cell_type": "markdown",
   "id": "d3676b1c",
   "metadata": {},
   "source": [
    "\n",
    "<div style=\"\n",
    "    color: black;\n",
    "    background-color: #d9d9d9;\n",
    "    border-radius: 10px;\n",
    "    padding: 1%;\n",
    "    font-size: 1em;\n",
    "    border: 1px solid #3f37c9;\n",
    "\">\n",
    "    \n",
    "<p>Once you’ve created a table in PostgreSQL, you need to add actual data into it — this is called inserting rows.</p> <p>You can:</p> <ul> <li>Add one row at a time</li> <li>Add multiple rows in one query</li> <li>Insert values into specific columns</li> <li>Use default values if you don't want to provide all columns</li> </ul>\n",
    "</div>\n"
   ]
  },
  {
   "cell_type": "code",
   "execution_count": null,
   "id": "f58d93a3",
   "metadata": {
    "vscode": {
     "languageId": "sql"
    }
   },
   "outputs": [],
   "source": [
    "--  1. Insert a Single Row\n",
    "\n",
    "INSERT INTO table_name (column1, column2, ...)\n",
    "VALUES (value1, value2, ...);\n",
    "\n",
    "-- Example:\n",
    "INSERT INTO employees (name, age, email, hire_date)\n",
    "VALUES ('Ali Khan', 30, 'ali.khan@example.com', '2023-07-01');\n"
   ]
  },
  {
   "cell_type": "code",
   "execution_count": null,
   "id": "7a4dd8e5",
   "metadata": {
    "vscode": {
     "languageId": "sql"
    }
   },
   "outputs": [],
   "source": [
    "--  2. Insert Multiple Rows at Once\n",
    "\n",
    "INSERT INTO table_name (column1, column2, ...)\n",
    "VALUES \n",
    "    (value1a, value2a, ...),\n",
    "    (value1b, value2b, ...),\n",
    "    (value1c, value2c, ...);\n",
    "\n",
    "-- Example:\n",
    "\n",
    "INSERT INTO employees (name, age, email, hire_date)\n",
    "VALUES \n",
    "    ('Sara Malik', 28, 'sara@example.com', '2023-08-01'),\n",
    "    ('Zain Raza', 35, 'zain@example.com', '2023-08-10'),\n",
    "    ('Ayesha Iqbal', 32, 'ayesha@example.com', '2023-08-15');"
   ]
  },
  {
   "cell_type": "code",
   "execution_count": null,
   "id": "4b4ef9d9",
   "metadata": {
    "vscode": {
     "languageId": "sql"
    }
   },
   "outputs": [],
   "source": [
    "-- 3. Insert Only Some Columns\n",
    "\n",
    "INSERT INTO employees (name, age)\n",
    "VALUES ('Hamza Noor', 29);\n",
    "-- This will insert a new row with the specified name and age, while other columns will take their default values or NULL if no default is set."
   ]
  },
  {
   "cell_type": "markdown",
   "id": "74a18f00",
   "metadata": {},
   "source": [
    "\n",
    "<div style=\"\n",
    "    color: black;\n",
    "    background-color: #d9d9d9;\n",
    "    border-radius: 10px;\n",
    "    padding: 1%;\n",
    "    font-size: 1em;\n",
    "    border: 1px solid #3f37c9;\n",
    "\">\n",
    "    \n",
    "<h3>How to Insert Data Using pgAdmin GUI</h3> <p><strong>Step-by-Step (Using Data View)</strong></p> <ol> <li>Open pgAdmin 4</li> <li>Go to:<br> <code>Servers &gt; Databases &gt; [Your DB] &gt; Schemas &gt; public &gt; Tables &gt; [Your Table]</code> </li> <li>Right-click your table → Select <strong>View/Edit Data &gt; All Rows</strong></li> <li>A spreadsheet-style window will open</li> <li>In the blank row at the bottom: <ul> <li>Enter your data in each cell</li> <li>Hit Enter or click into the next row to save</li> </ul> </li> <li>pgAdmin will auto-run an <code>INSERT</code> query in the background</li> </ol> <p>You can also click the pencil icon on the top toolbar to edit existing rows.</p>\n",
    "</div>\n"
   ]
  },
  {
   "cell_type": "markdown",
   "id": "bcf199e5",
   "metadata": {},
   "source": [
    "### IMPORTING DATA FROM EXTERNAL FILLES"
   ]
  },
  {
   "cell_type": "markdown",
   "id": "750a9a90",
   "metadata": {},
   "source": [
    "\n",
    "<div style=\"\n",
    "    color: black;\n",
    "    background-color: #d9d9d9;\n",
    "    border-radius: 10px;\n",
    "    padding: 1%;\n",
    "    font-size: 1em;\n",
    "    border: 1px solid #3f37c9;\n",
    "\">\n",
    "    \n",
    "<h3>Importing Data into PostgreSQL</h3>\n",
    "\n",
    "<p>When working with PostgreSQL, you often have data stored in external files like:</p>\n",
    "\n",
    "<ul>\n",
    "  <li><code>.csv</code> (Comma-Separated Values)</li>\n",
    "  <li><code>.txt</code> (Text files)</li>\n",
    "  <li><code>.xlsx</code> (Excel files — indirectly)</li>\n",
    "</ul>\n",
    "\n",
    "<p>To import this data into PostgreSQL, you usually:</p>\n",
    "\n",
    "<ol>\n",
    "  <li>Create a table that matches the file’s structure (same column names and data types)</li>\n",
    "  <li>Use either SQL (<code>COPY</code> command) or pgAdmin’s GUI to load the file</li>\n",
    "</ol>\n",
    "\n",
    "<p>This is extremely useful for data scientists working with survey results, Kaggle datasets, or client data exports.</p>\n",
    "\n",
    "\n",
    "</div>\n"
   ]
  },
  {
   "cell_type": "markdown",
   "id": "dc58a603",
   "metadata": {},
   "source": [
    "\n",
    "<div style=\"\n",
    "    color: black;\n",
    "    background-color: #d9d9d9;\n",
    "    border-radius: 10px;\n",
    "    padding: 1%;\n",
    "    font-size: 1em;\n",
    "    border: 1px solid #3f37c9;\n",
    "\">\n",
    "    \n",
    "<h3>If Table Doesn’t Exist</h3>\n",
    "\n",
    "<ol>\n",
    "  <li>Right-click <strong>Tables</strong> → <strong>Create</strong> → <strong>Table</strong></li>\n",
    "  <li>Define columns and data types manually</li>\n",
    "</ol>\n",
    "\n",
    "\n",
    "\n",
    "</div>\n"
   ]
  },
  {
   "cell_type": "code",
   "execution_count": null,
   "id": "cdbbfcbb",
   "metadata": {
    "vscode": {
     "languageId": "sql"
    }
   },
   "outputs": [],
   "source": [
    "-- Import Using SQL \n",
    "\n",
    "COPY table_name (column1, column2, ...)\n",
    "FROM 'absolute/path/to/file.csv'\n",
    "DELIMITER ','\n",
    "CSV HEADER;\n",
    "\n",
    "-- Example:\n",
    "\n",
    "COPY sales_data (order_id, customer_name, total_amount)\n",
    "FROM 'C:/Users/JHON/Documents/sales.csv'\n",
    "DELIMITER ','\n",
    "CSV HEADER;\n",
    "\n",
    "-- Make sure:\n",
    "-- The file path is absolute\n",
    "-- The file is accessible by the PostgreSQL server\n",
    "-- If you're on Windows, use / or double \\\\ in the path"
   ]
  },
  {
   "cell_type": "code",
   "execution_count": null,
   "id": "deff6331",
   "metadata": {
    "vscode": {
     "languageId": "sql"
    }
   },
   "outputs": [],
   "source": [
    "--  Import Using \\COPY (Client-Side Method)\n",
    "\n",
    "\\COPY sales_data (order_id, customer_name, total_amount)\n",
    "FROM 'C:/Users/Harmain/Documents/sales.csv'\n",
    "DELIMITER ','\n",
    "CSV HEADER;"
   ]
  },
  {
   "cell_type": "markdown",
   "id": "e75d0b8d",
   "metadata": {},
   "source": [
    "\n",
    "<div style=\"\n",
    "    color: black;\n",
    "    background-color: #d9d9d9;\n",
    "    border-radius: 10px;\n",
    "    padding: 1%;\n",
    "    font-size: 1em;\n",
    "    border: 1px solid #3f37c9;\n",
    "\">\n",
    "    \n",
    "<h3>Import Using pgAdmin GUI </h3>\n",
    "\n",
    "<h3>Step-by-Step (CSV File Import)</h3>\n",
    "\n",
    "<p><strong>If table already exists:</strong></p>\n",
    "\n",
    "<ol>\n",
    "  <li>Open pgAdmin</li>\n",
    "  <li>Expand:\n",
    "    <br>Servers &gt; Databases &gt; [Your DB] &gt; Schemas &gt; public &gt; Tables\n",
    "  </li>\n",
    "  <li>Right-click the table you want to import into → Select <em>Import/Export Data...</em></li>\n",
    "</ol>\n",
    "\n",
    "<p><strong>In the dialog:</strong></p>\n",
    "\n",
    "<ul>\n",
    "  <li><strong>Filename:</strong> Browse to your .csv file</li>\n",
    "  <li><strong>Format:</strong> CSV</li>\n",
    "  <li><strong>Header:</strong> Check this if your CSV has column names</li>\n",
    "  <li><strong>Delimiter:</strong> Usually ,</li>\n",
    "  <li><strong>Quote:</strong> Usually \" (default)</li>\n",
    "  <li><strong>Encoding:</strong> Keep as UTF8</li>\n",
    "</ul>\n",
    "\n",
    "<p>Click <strong>OK</strong> to import.</p>\n",
    "\n",
    "\n",
    "\n",
    "</div>\n"
   ]
  },
  {
   "cell_type": "markdown",
   "id": "f7cb28cb",
   "metadata": {},
   "source": [
    "## 5. DELETING A TABLE"
   ]
  },
  {
   "cell_type": "markdown",
   "id": "39c73ce9",
   "metadata": {},
   "source": [
    "\n",
    "<div style=\"\n",
    "    color: black;\n",
    "    background-color: #d9d9d9;\n",
    "    border-radius: 10px;\n",
    "    padding: 1%;\n",
    "    font-size: 1em;\n",
    "    border: 1px solid #3f37c9;\n",
    "\">\n",
    "\n",
    "<p>When you delete a table in PostgreSQL, you are permanently removing:</p>\n",
    "\n",
    "<ul>\n",
    "  <li>The table structure (its columns)</li>\n",
    "  <li>All the data stored inside it</li>\n",
    "</ul>\n",
    "\n",
    "<p>This operation is done using the <code>DROP TABLE</code> command.</p>\n",
    "\n",
    "<p><strong>Warning:</strong> It cannot be undone, so use it carefully — especially in production or live environments.</p>\n",
    "\n",
    "<p><strong>Deleting a table is useful when:</strong></p>\n",
    "\n",
    "<ul>\n",
    "  <li>You imported wrong data and want to start over</li>\n",
    "  <li>You created a test table and no longer need it</li>\n",
    "  <li>You want to clean up unused tables</li>\n",
    "</ul>\n",
    "\n",
    "\n",
    "</div>\n"
   ]
  },
  {
   "cell_type": "code",
   "execution_count": null,
   "id": "45a88957",
   "metadata": {
    "vscode": {
     "languageId": "sql"
    }
   },
   "outputs": [],
   "source": [
    "-- SQL Syntax to Delete a Table\n",
    "\n",
    "DROP TABLE table_name;\n",
    "\n",
    "-- Example:\n",
    "\n",
    "DROP TABLE employees;\n",
    "-- This will permanently remove the employees table from the database."
   ]
  },
  {
   "cell_type": "code",
   "execution_count": null,
   "id": "f261016d",
   "metadata": {
    "vscode": {
     "languageId": "sql"
    }
   },
   "outputs": [],
   "source": [
    "-- Safe Deletion with IF EXISTS\n",
    "\n",
    "DROP TABLE IF EXISTS employees;"
   ]
  },
  {
   "cell_type": "code",
   "execution_count": null,
   "id": "cab5c907",
   "metadata": {
    "vscode": {
     "languageId": "sql"
    }
   },
   "outputs": [],
   "source": [
    "-- Delete Multiple Tables at Once\n",
    "\n",
    "DROP TABLE IF EXISTS table1, table2, table3;"
   ]
  },
  {
   "cell_type": "markdown",
   "id": "7dd657eb",
   "metadata": {},
   "source": [
    "\n",
    "<div style=\"\n",
    "    color: black;\n",
    "    background-color: #d9d9d9;\n",
    "    border-radius: 10px;\n",
    "    padding: 1%;\n",
    "    font-size: 1em;\n",
    "    border: 1px solid #3f37c9;\n",
    "\">\n",
    "    \n",
    "<h3>How to Delete a Table in pgAdmin (GUI Method)</h3>\n",
    "\n",
    "<p><strong>Step-by-Step:</strong></p>\n",
    "\n",
    "<ol>\n",
    "  <li>Open pgAdmin</li>\n",
    "  <li>Navigate to:<br>\n",
    "    Servers &gt; Databases &gt; [Your DB] &gt; Schemas &gt; public &gt; Tables</li>\n",
    "  <li>Right-click the table you want to delete (e.g., <code>employees</code>)</li>\n",
    "  <li>Click <strong>Delete/Drop</strong></li>\n",
    "  <li>Confirm when prompted</li>\n",
    "</ol>\n",
    "\n",
    "<p><strong>The table is now permanently removed.</strong></p>\n",
    "\n",
    "\n",
    "</div>\n"
   ]
  },
  {
   "cell_type": "markdown",
   "id": "2cb306ee",
   "metadata": {},
   "source": [
    "## 6. MODIFYING A TABLE"
   ]
  },
  {
   "cell_type": "markdown",
   "id": "742ac602",
   "metadata": {},
   "source": [
    "\n",
    "<div style=\"\n",
    "    color: black;\n",
    "    background-color: #d9d9d9;\n",
    "    border-radius: 10px;\n",
    "    padding: 1%;\n",
    "    font-size: 1em;\n",
    "    border: 1px solid #3f37c9;\n",
    "\">\n",
    "\n",
    "<p>Modifying a table means changing its structure after it has been created. This is useful when:</p>\n",
    "\n",
    "<ul>\n",
    "  <li>You forgot a column</li>\n",
    "  <li>Need to rename something</li>\n",
    "  <li>Want to change data types</li>\n",
    "  <li>Add or remove constraints</li>\n",
    "  <li>Adjust default values, etc.</li>\n",
    "</ul>\n",
    "\n",
    "\n",
    "</div>\n"
   ]
  },
  {
   "cell_type": "code",
   "execution_count": null,
   "id": "12a1eb05",
   "metadata": {
    "vscode": {
     "languageId": "sql"
    }
   },
   "outputs": [],
   "source": [
    "-- The command used for most modifications is:\n",
    "\n",
    "ALTER TABLE table_name ...;"
   ]
  },
  {
   "cell_type": "markdown",
   "id": "3346ae0c",
   "metadata": {},
   "source": [
    "#### 1. Add a Column"
   ]
  },
  {
   "cell_type": "code",
   "execution_count": null,
   "id": "802e1193",
   "metadata": {
    "vscode": {
     "languageId": "sql"
    }
   },
   "outputs": [],
   "source": [
    "-- SQL Syntax:\n",
    "ALTER TABLE table_name ADD COLUMN column_name data_type;\n",
    "\n",
    "-- Example:\n",
    "ALTER TABLE employees ADD COLUMN age INT;"
   ]
  },
  {
   "cell_type": "markdown",
   "id": "c20bf6b5",
   "metadata": {},
   "source": [
    "#####\n",
    "<div style=\"\n",
    "    color: black;\n",
    "    background-color: #d9d9d9;\n",
    "    border-radius: 10px;\n",
    "    padding: 1%;\n",
    "    font-size: 1em;\n",
    "    border: 1px solid #3f37c9;\n",
    "\">\n",
    "\n",
    "<h3>Using pgAdmin GUI to Add a Column</h3>\n",
    "\n",
    "<ol>\n",
    "  <li>Go to: <strong>Tables &gt; [Your Table] &gt; Columns</strong></li>\n",
    "  <li>Right-click → <strong>Create &gt; Column</strong></li>\n",
    "  <li>Set name, type, and click Save</li>\n",
    "</ol>\n",
    "\n",
    "\n",
    "</div>\n"
   ]
  },
  {
   "cell_type": "markdown",
   "id": "bcc2679c",
   "metadata": {},
   "source": [
    "#### 2. Rename a Column"
   ]
  },
  {
   "cell_type": "code",
   "execution_count": null,
   "id": "4c4b9458",
   "metadata": {
    "vscode": {
     "languageId": "sql"
    }
   },
   "outputs": [],
   "source": [
    "-- SQL Syntax:\n",
    "ALTER TABLE table_name RENAME COLUMN old_name TO new_name;\n",
    "-- Example:\n",
    "ALTER TABLE employees RENAME COLUMN age TO employee_age; "
   ]
  },
  {
   "cell_type": "markdown",
   "id": "7fef3792",
   "metadata": {},
   "source": [
    "#####\n",
    "<div style=\"\n",
    "    color: black;\n",
    "    background-color: #d9d9d9;\n",
    "    border-radius: 10px;\n",
    "    padding: 1%;\n",
    "    font-size: 1em;\n",
    "    border: 1px solid #3f37c9;\n",
    "\">\n",
    "\n",
    "<h3>Rename a Column using pgAdmin GUI</h3>\n",
    "<ol>\n",
    "  <li>Right-click on the column</li>\n",
    "  <li>Click <strong>Properties</strong></li>\n",
    "  <li>Change the name → Save</li>\n",
    "</ol>\n",
    "\n",
    "\n",
    "\n",
    "</div>\n"
   ]
  },
  {
   "cell_type": "markdown",
   "id": "e2857904",
   "metadata": {},
   "source": [
    "#### 3. Change Column Data Type"
   ]
  },
  {
   "cell_type": "code",
   "execution_count": null,
   "id": "8497381c",
   "metadata": {
    "vscode": {
     "languageId": "sql"
    }
   },
   "outputs": [],
   "source": [
    "-- SQL Syntax:\n",
    "ALTER TABLE table_name ALTER COLUMN column_name TYPE new_data_type;\n",
    "\n",
    "-- Example:\n",
    "ALTER TABLE employees ALTER COLUMN age TYPE VARCHAR(3);"
   ]
  },
  {
   "cell_type": "markdown",
   "id": "1588159c",
   "metadata": {},
   "source": [
    "#####\n",
    "<div style=\"\n",
    "    color: black;\n",
    "    background-color: #d9d9d9;\n",
    "    border-radius: 10px;\n",
    "    padding: 1%;\n",
    "    font-size: 1em;\n",
    "    border: 1px solid #3f37c9;\n",
    "\">\n",
    "\n",
    "<h3>Change Column Data Type using pgAdmin GUI</h3>\n",
    "\n",
    "<ol>\n",
    "  <li>Right-click on the column → <strong>Properties</strong></li>\n",
    "  <li>Change the data type</li>\n",
    "  <li>Click <strong>Save</strong></li>\n",
    "</ol>\n",
    "\n",
    "\n",
    "\n",
    "\n",
    "</div>\n"
   ]
  },
  {
   "cell_type": "markdown",
   "id": "5228cf7a",
   "metadata": {},
   "source": [
    "####  4. Set or Change a Default Value"
   ]
  },
  {
   "cell_type": "code",
   "execution_count": null,
   "id": "94062bb7",
   "metadata": {
    "vscode": {
     "languageId": "sql"
    }
   },
   "outputs": [],
   "source": [
    "-- SQL Syntax:\n",
    "ALTER TABLE table_name ALTER COLUMN column_name SET DEFAULT default_value;\n",
    "\n",
    "-- Example:\n",
    "ALTER TABLE employees ALTER COLUMN age SET DEFAULT 25;"
   ]
  },
  {
   "cell_type": "markdown",
   "id": "ff07243e",
   "metadata": {},
   "source": [
    "#####\n",
    "<div style=\"\n",
    "    color: black;\n",
    "    background-color: #d9d9d9;\n",
    "    border-radius: 10px;\n",
    "    padding: 1%;\n",
    "    font-size: 1em;\n",
    "    border: 1px solid #3f37c9;\n",
    "\">\n",
    "\n",
    "<h3>Set Default Value using pgAdmin GUI</h3>\n",
    "\n",
    "<ol>\n",
    "  <li>Open the column → <strong>Properties</strong></li>\n",
    "  <li>Scroll to the <strong>Default</strong> field</li>\n",
    "  <li>Set the desired value</li>\n",
    "  <li>Click <strong>Save</strong></li>\n",
    "</ol>\n",
    "</div>\n"
   ]
  },
  {
   "cell_type": "markdown",
   "id": "9d0be38f",
   "metadata": {},
   "source": [
    "#### 5. Remove a Default Value"
   ]
  },
  {
   "cell_type": "code",
   "execution_count": null,
   "id": "b8b49dba",
   "metadata": {
    "vscode": {
     "languageId": "sql"
    }
   },
   "outputs": [],
   "source": [
    "-- SQL Syntax:\n",
    "ALTER TABLE table_name ALTER COLUMN column_name DROP DEFAULT;"
   ]
  },
  {
   "cell_type": "markdown",
   "id": "11c23e45",
   "metadata": {},
   "source": [
    "####  6. Delete a Column"
   ]
  },
  {
   "cell_type": "code",
   "execution_count": null,
   "id": "5c1c6916",
   "metadata": {
    "vscode": {
     "languageId": "sql"
    }
   },
   "outputs": [],
   "source": [
    "-- SQL Syntax:\n",
    "ALTER TABLE table_name DROP COLUMN column_name;\n",
    "\n",
    "-- Example:\n",
    "ALTER TABLE employees DROP COLUMN age;"
   ]
  },
  {
   "cell_type": "markdown",
   "id": "6a1953a8",
   "metadata": {},
   "source": [
    "#####\n",
    "<div style=\"\n",
    "    color: black;\n",
    "    background-color: #d9d9d9;\n",
    "    border-radius: 10px;\n",
    "    padding: 1%;\n",
    "    font-size: 1em;\n",
    "    border: 1px solid #3f37c9;\n",
    "\">\n",
    "\n",
    "<h3>Delete Column using pgAdmin GUI</h3>\n",
    "<ol>\n",
    "  <li>Right-click the column under <strong>Columns</strong></li>\n",
    "  <li>Click <strong>Delete/Drop</strong></li>\n",
    "</ol>\n",
    "\n",
    "\n",
    "</div>\n"
   ]
  },
  {
   "cell_type": "markdown",
   "id": "f0fe8814",
   "metadata": {},
   "source": [
    "#### 7. Rename the Table"
   ]
  },
  {
   "cell_type": "code",
   "execution_count": null,
   "id": "b7342d92",
   "metadata": {
    "vscode": {
     "languageId": "sql"
    }
   },
   "outputs": [],
   "source": [
    "-- SQL Syntax:\n",
    "ALTER TABLE old_table_name RENAME TO new_table_name;\n",
    "\n",
    "-- Example:\n",
    "ALTER TABLE employees RENAME TO staff;"
   ]
  },
  {
   "cell_type": "markdown",
   "id": "5412daa0",
   "metadata": {},
   "source": [
    "#####\n",
    "<div style=\"\n",
    "    color: black;\n",
    "    background-color: #d9d9d9;\n",
    "    border-radius: 10px;\n",
    "    padding: 1%;\n",
    "    font-size: 1em;\n",
    "    border: 1px solid #3f37c9;\n",
    "\">\n",
    "\n",
    "<h3>Rename a Table using pgAdmin GUI</h3>\n",
    "<ol>\n",
    "  <li>Right-click the table</li>\n",
    "  <li>Select <strong>Rename</strong></li>\n",
    "  <li>Enter the new name</li>\n",
    "</ol>\n",
    "\n",
    "\n",
    "</div>\n"
   ]
  },
  {
   "cell_type": "markdown",
   "id": "db5c2b57",
   "metadata": {},
   "source": [
    "#### 8. Add a Constraint"
   ]
  },
  {
   "cell_type": "code",
   "execution_count": null,
   "id": "4322e3e8",
   "metadata": {
    "vscode": {
     "languageId": "sql"
    }
   },
   "outputs": [],
   "source": [
    "-- You can add constraints like NOT NULL, UNIQUE, CHECK, FOREIGN KEY, PRIMARY KEY.\n",
    "\n",
    "-- Add NOT NULL:\n",
    "ALTER TABLE employees ALTER COLUMN name SET NOT NULL;\n",
    "\n",
    "-- Add UNIQUE:\n",
    "ALTER TABLE employees ADD CONSTRAINT unique_email UNIQUE(email);\n",
    "\n",
    "-- Add CHECK:\n",
    "ALTER TABLE employees ADD CONSTRAINT age_check CHECK (age > 18);"
   ]
  },
  {
   "cell_type": "markdown",
   "id": "6a12e1cd",
   "metadata": {},
   "source": [
    "#####\n",
    "<div style=\"\n",
    "    color: black;\n",
    "    background-color: #d9d9d9;\n",
    "    border-radius: 10px;\n",
    "    padding: 1%;\n",
    "    font-size: 1em;\n",
    "    border: 1px solid #3f37c9;\n",
    "\">\n",
    "\n",
    "<h3>Add a Constraint using pgAdmin GUI</h3>\n",
    "<ol>\n",
    "  <li>Go to: <strong>Constraints &gt; [Type]</strong></li>\n",
    "  <li>Right-click → <strong>Create</strong></li>\n",
    "  <li>Set values and condition → <strong>Save</strong></li>\n",
    "</ol>\n",
    "\n",
    "\n",
    "</div>\n"
   ]
  },
  {
   "cell_type": "markdown",
   "id": "aa519785",
   "metadata": {},
   "source": [
    "#### 9. Drop a Constraint"
   ]
  },
  {
   "cell_type": "code",
   "execution_count": null,
   "id": "2774ad40",
   "metadata": {
    "vscode": {
     "languageId": "sql"
    }
   },
   "outputs": [],
   "source": [
    "-- SQL Syntax:\n",
    "ALTER TABLE table_name DROP CONSTRAINT constraint_name;\n",
    "\n",
    "-- Example:\n",
    "ALTER TABLE employees DROP CONSTRAINT age_check;"
   ]
  },
  {
   "cell_type": "markdown",
   "id": "393a4d51",
   "metadata": {},
   "source": [
    "#### 10. Truncate Table (Delete All Rows but Keep Structure)"
   ]
  },
  {
   "cell_type": "code",
   "execution_count": null,
   "id": "4e3b408a",
   "metadata": {
    "vscode": {
     "languageId": "sql"
    }
   },
   "outputs": [],
   "source": [
    "-- SQL Syntax:\n",
    "TRUNCATE TABLE table_name;\n",
    "\n",
    "-- This deletes all records instantly — much faster than DELETE."
   ]
  },
  {
   "cell_type": "markdown",
   "id": "f4244eac",
   "metadata": {},
   "source": [
    "\n",
    "<div style=\"\n",
    "    color: black;\n",
    "    background-color: #d9d9d9;\n",
    "    border-radius: 10px;\n",
    "    padding: 1%;\n",
    "    font-size: 1em;\n",
    "    border: 1px solid #3f37c9;\n",
    "\">\n",
    "<table border=\"1\" cellspacing=\"0\" cellpadding=\"6\">\n",
    "  <thead>\n",
    "    <tr>\n",
    "      <th>Task</th>\n",
    "      <th>SQL Command</th>\n",
    "      <th>pgAdmin Path</th>\n",
    "    </tr>\n",
    "  </thead>\n",
    "  <tbody>\n",
    "    <tr>\n",
    "      <td>Add Column</td>\n",
    "      <td><code>ADD COLUMN</code></td>\n",
    "      <td>Columns → Create</td>\n",
    "    </tr>\n",
    "    <tr>\n",
    "      <td>Drop Column</td>\n",
    "      <td><code>DROP COLUMN</code></td>\n",
    "      <td>Right-click column → Delete</td>\n",
    "    </tr>\n",
    "    <tr>\n",
    "      <td>Rename Column</td>\n",
    "      <td><code>RENAME COLUMN</code></td>\n",
    "      <td>Column → Properties</td>\n",
    "    </tr>\n",
    "    <tr>\n",
    "      <td>Change Data Type</td>\n",
    "      <td><code>ALTER COLUMN ... TYPE</code></td>\n",
    "      <td>Column → Properties</td>\n",
    "    </tr>\n",
    "    <tr>\n",
    "      <td>Add Constraint</td>\n",
    "      <td><code>ADD CONSTRAINT</code></td>\n",
    "      <td>Constraints → Create</td>\n",
    "    </tr>\n",
    "    <tr>\n",
    "      <td>Drop Constraint</td>\n",
    "      <td><code>DROP CONSTRAINT</code></td>\n",
    "      <td>Constraints → Delete</td>\n",
    "    </tr>\n",
    "    <tr>\n",
    "      <td>Rename Table</td>\n",
    "      <td><code>RENAME TO</code></td>\n",
    "      <td>Table → Rename</td>\n",
    "    </tr>\n",
    "    <tr>\n",
    "      <td>Truncate</td>\n",
    "      <td><code>TRUNCATE TABLE</code></td>\n",
    "      <td>Right-click table → Truncate/Empty</td>\n",
    "    </tr>\n",
    "  </tbody>\n",
    "</table>\n",
    "\n",
    "\n",
    "</div>\n"
   ]
  },
  {
   "cell_type": "markdown",
   "id": "dafc933a",
   "metadata": {},
   "source": [
    "## 7. SELECT ... FROM COMMAND"
   ]
  },
  {
   "cell_type": "markdown",
   "id": "caaccb33",
   "metadata": {},
   "source": [
    "\n",
    "<div style=\"\n",
    "    color: black;\n",
    "    background-color: #d9d9d9;\n",
    "    border-radius: 10px;\n",
    "    padding: 1%;\n",
    "    font-size: 1em;\n",
    "    border: 1px solid #3f37c9;\n",
    "\">\n",
    "<p><strong>SELECT ... FROM</strong> is used to retrieve data from one or more tables.</p>\n",
    "\n",
    "<p>You tell the database:</p>\n",
    "<ul>\n",
    "  <li>What columns you want to see → <code>SELECT</code></li>\n",
    "  <li>Where to get them from → <code>FROM</code></li>\n",
    "</ul>\n",
    "\n",
    "<p>This command is the most frequently used in SQL and is the base of all data exploration, filtering, reporting, and joining.</p>\n",
    "\n",
    "\n",
    "</div>\n"
   ]
  },
  {
   "cell_type": "markdown",
   "id": "260c4be3",
   "metadata": {},
   "source": [
    "#### 1. Basic SELECT Query"
   ]
  },
  {
   "cell_type": "code",
   "execution_count": null,
   "id": "86119796",
   "metadata": {
    "vscode": {
     "languageId": "sql"
    }
   },
   "outputs": [],
   "source": [
    "-- SQL Syntax:\n",
    "SELECT column1, column2 FROM table_name;\n",
    "\n",
    "-- Example:C\n",
    "SELECT name, age FROM employees;"
   ]
  },
  {
   "cell_type": "markdown",
   "id": "93901bfa",
   "metadata": {},
   "source": [
    "#### 2. Select All Columns"
   ]
  },
  {
   "cell_type": "code",
   "execution_count": null,
   "id": "d4e40561",
   "metadata": {
    "vscode": {
     "languageId": "sql"
    }
   },
   "outputs": [],
   "source": [
    "-- SQL Syntax:\n",
    "SELECT * FROM table_name;\n",
    "\n",
    "-- Example:C\n",
    "SELECT * FROM employees;"
   ]
  },
  {
   "cell_type": "markdown",
   "id": "3af5efa8",
   "metadata": {},
   "source": [
    "#### 3. Rename Columns with Aliases"
   ]
  },
  {
   "cell_type": "code",
   "execution_count": null,
   "id": "ea441cbf",
   "metadata": {
    "vscode": {
     "languageId": "sql"
    }
   },
   "outputs": [],
   "source": [
    "-- SQL Syntax:\n",
    "SELECT column_name AS alias_name FROM table_name;\n",
    "\n",
    "-- Example:\n",
    "SELECT name AS employee_name FROM employees;"
   ]
  },
  {
   "cell_type": "markdown",
   "id": "e4515d5a",
   "metadata": {},
   "source": [
    "## 8. WHERE COMMAND "
   ]
  },
  {
   "cell_type": "markdown",
   "id": "c27c6f73",
   "metadata": {},
   "source": [
    "#### 4. Filter Rows Using WHERE"
   ]
  },
  {
   "cell_type": "code",
   "execution_count": null,
   "id": "8a61627a",
   "metadata": {
    "vscode": {
     "languageId": "sql"
    }
   },
   "outputs": [],
   "source": [
    "-- SQL Syntax:\n",
    "SELECT * FROM table_name WHERE condition;\n",
    "\n",
    "-- Examples:\n",
    "\n",
    "SELECT * FROM employees WHERE age > 30;\n",
    "SELECT * FROM employees WHERE department = 'HR';"
   ]
  },
  {
   "cell_type": "markdown",
   "id": "834586b6",
   "metadata": {},
   "source": [
    "\n",
    "<div style=\"\n",
    "    color: black;\n",
    "    background-color: #d9d9d9;\n",
    "    border-radius: 10px;\n",
    "    padding: 1%;\n",
    "    font-size: 1em;\n",
    "    border: 1px solid #3f37c9;\n",
    "\">\n",
    "<p><strong>5. Use Comparison Operators</strong></p>\n",
    "\n",
    "<table border=\"1\" cellpadding=\"6\" cellspacing=\"0\">\n",
    "  <thead>\n",
    "    <tr>\n",
    "      <th>Operator</th>\n",
    "      <th>Meaning</th>\n",
    "    </tr>\n",
    "  </thead>\n",
    "  <tbody>\n",
    "    <tr>\n",
    "      <td>=</td>\n",
    "      <td>Equals</td>\n",
    "    </tr>\n",
    "    <tr>\n",
    "      <td>!= or &lt;&gt;</td>\n",
    "      <td>Not equal</td>\n",
    "    </tr>\n",
    "    <tr>\n",
    "      <td>&gt;, &lt;</td>\n",
    "      <td>Greater/Less than</td>\n",
    "    </tr>\n",
    "    <tr>\n",
    "      <td>&gt;=, &lt;=</td>\n",
    "      <td>Greater/Less than or equal</td>\n",
    "    </tr>\n",
    "  </tbody>\n",
    "</table>\n",
    "\n",
    "\n",
    "<p><strong>6. Use Logical Operators</strong></p>\n",
    "\n",
    "<table border=\"1\" cellpadding=\"6\" cellspacing=\"0\">\n",
    "  <thead>\n",
    "    <tr>\n",
    "      <th>Operator</th>\n",
    "      <th>Use Case</th>\n",
    "    </tr>\n",
    "  </thead>\n",
    "  <tbody>\n",
    "    <tr>\n",
    "      <td>AND</td>\n",
    "      <td>Combines conditions (both must be true)</td>\n",
    "    </tr>\n",
    "    <tr>\n",
    "      <td>OR</td>\n",
    "      <td>Either condition must be true</td>\n",
    "    </tr>\n",
    "    <tr>\n",
    "      <td>NOT</td>\n",
    "      <td>Negates a condition</td>\n",
    "    </tr>\n",
    "  </tbody>\n",
    "</table>\n",
    "\n",
    "\n",
    "</div>\n"
   ]
  },
  {
   "cell_type": "markdown",
   "id": "b74dbae9",
   "metadata": {},
   "source": [
    "### 7. Sorting Results – ORDER BY\n"
   ]
  },
  {
   "cell_type": "code",
   "execution_count": null,
   "id": "4975ee87",
   "metadata": {
    "vscode": {
     "languageId": "sql"
    }
   },
   "outputs": [],
   "source": [
    "SELECT * FROM employees ORDER BY age ASC;\n",
    "SELECT * FROM employees ORDER BY salary DESC;\n",
    "\n",
    "-- ASC is for ascending order, DESC is for descending order."
   ]
  },
  {
   "cell_type": "markdown",
   "id": "79b8957a",
   "metadata": {},
   "source": [
    "### 8. Limiting Results – LIMIT"
   ]
  },
  {
   "cell_type": "code",
   "execution_count": null,
   "id": "b52c3f13",
   "metadata": {
    "vscode": {
     "languageId": "sql"
    }
   },
   "outputs": [],
   "source": [
    "-- LIMIT is used to limit the number of rows returned by a query.\n",
    "-- Example:\n",
    "\n",
    "SELECT * FROM employees LIMIT 10;\n",
    "-- This will return the first 10 rows of the result set.\n",
    "\n",
    "-- Use OFFSET to skip rows:\n",
    "-- OFFSET specifies how many rows to skip before starting to return rows from the query.\n",
    "\n",
    "-- SQL Syntax:\n",
    "\n",
    "SELECT column1, column2\n",
    "FROM table_name\n",
    "ORDER BY column_name\n",
    "OFFSET n;\n",
    "\n",
    "-- where n is the number of rows to skip.\n",
    "\n",
    "-- Example:\n",
    "SELECT * FROM employees LIMIT 10 OFFSET 5;"
   ]
  },
  {
   "cell_type": "markdown",
   "id": "60d11bb6",
   "metadata": {},
   "source": [
    "###  9. DISTINCT Values"
   ]
  },
  {
   "cell_type": "code",
   "execution_count": null,
   "id": "2c4f6e71",
   "metadata": {
    "vscode": {
     "languageId": "sql"
    }
   },
   "outputs": [],
   "source": [
    "-- The DISTINCT keyword in SQL is used to remove duplicate rows from the result set — it ensures that only unique values are returned.\n",
    "\n",
    "-- SQL Syntax:\n",
    "\n",
    "SELECT DISTINCT column1, column2, ...\n",
    "FROM table_name;\n",
    "\n",
    "-- Example:\n",
    "SELECT DISTINCT department FROM employees;\n",
    "\n"
   ]
  },
  {
   "cell_type": "markdown",
   "id": "e96bf5a2",
   "metadata": {},
   "source": [
    "### 10. IN, BETWEEN, IS NULL"
   ]
  },
  {
   "cell_type": "markdown",
   "id": "0f6dbeee",
   "metadata": {},
   "source": [
    "\n",
    "<div style=\"\n",
    "    color: black;\n",
    "    background-color: #d9d9d9;\n",
    "    border-radius: 10px;\n",
    "    padding: 1%;\n",
    "    font-size: 1em;\n",
    "    border: 1px solid #3f37c9;\n",
    "\">\n",
    "\n",
    "<h3>Special Conditions for Filtering Rows in PostgreSQL</h3>\n",
    "<p>PostgreSQL provides several useful operators for filtering rows in a <b>WHERE</b> clause:</p>\n",
    "\n",
    "<ul>\n",
    "  <li>\n",
    "    <b>IN</b> – Checks if a value exists in a list of values.\n",
    "  </li>\n",
    "\n",
    "  <li>\n",
    "    <b>BETWEEN</b> – Checks if a value lies within a range (inclusive).\n",
    "  </li>\n",
    "\n",
    "  <li>\n",
    "    <b>IS NULL / IS NOT NULL</b> – Checks if a column is empty (NULL) or not empty.\n",
    "  </li>\n",
    "</ul>\n",
    "\n",
    "\n",
    "</div>\n"
   ]
  },
  {
   "cell_type": "code",
   "execution_count": null,
   "id": "898d4de6",
   "metadata": {
    "vscode": {
     "languageId": "sql"
    }
   },
   "outputs": [],
   "source": [
    "-- Syntax:\n",
    "\n",
    "SELECT column1, column2\n",
    "FROM table_name\n",
    "WHERE column_name IN (value1, value2, ...);\n",
    "\n",
    "-- Example:\n",
    "SELECT * \n",
    "FROM employees\n",
    "WHERE department IN ('IT', 'HR');\n",
    "-- Find employees in IT or HR department"
   ]
  },
  {
   "cell_type": "code",
   "execution_count": null,
   "id": "33d5aa8d",
   "metadata": {
    "vscode": {
     "languageId": "sql"
    }
   },
   "outputs": [],
   "source": [
    "-- NOT IN: \n",
    "-- The NOT IN operator is used to exclude rows that match any value in a specified list.\n",
    "\n",
    "-- Example:\n",
    "SELECT * \n",
    "FROM employees\n",
    "WHERE department NOT IN ('IT', 'HR');\n",
    "-- Employees not in IT or HR"
   ]
  },
  {
   "cell_type": "code",
   "execution_count": null,
   "id": "a165657b",
   "metadata": {
    "vscode": {
     "languageId": "sql"
    }
   },
   "outputs": [],
   "source": [
    "-- Syntax:\n",
    "\n",
    "SELECT column1, column2\n",
    "FROM table_name\n",
    "WHERE column_name BETWEEN value1 AND value2;\n",
    "\n",
    "-- Example:\n",
    "SELECT * \n",
    "FROM employees\n",
    "WHERE age BETWEEN 25 AND 35;\n",
    "-- Employees aged between 25 and 35"
   ]
  },
  {
   "cell_type": "code",
   "execution_count": null,
   "id": "d33fdd14",
   "metadata": {
    "vscode": {
     "languageId": "sql"
    }
   },
   "outputs": [],
   "source": [
    "NOT BETWEEN:\n",
    "-- The NOT BETWEEN operator is used to exclude rows that fall within a specified range.\n",
    "\n",
    "-- example:\n",
    "SELECT * \n",
    "FROM employees\n",
    "WHERE age NOT BETWEEN 25 AND 35;\n",
    "-- Employees outside age range 25 to 35\n",
    "\n",
    "-- Note: BETWEEN works with numbers, dates, and text (alphabetical range)."
   ]
  },
  {
   "cell_type": "code",
   "execution_count": null,
   "id": "1212099f",
   "metadata": {
    "vscode": {
     "languageId": "sql"
    }
   },
   "outputs": [],
   "source": [
    "-- Syntax:\n",
    "\n",
    "SELECT column1, column2\n",
    "FROM table_name\n",
    "WHERE column_name IS NULL;\n",
    "\n",
    "-- Example:\n",
    "SELECT *\n",
    "FROM employees\n",
    "WHERE email IS NULL;\n",
    "-- Find employees with no email\n",
    "\n",
    "SELECT *\n",
    "FROM employees\n",
    "WHERE email IS NOT NULL;\n",
    "-- Find employees who have an email"
   ]
  },
  {
   "cell_type": "code",
   "execution_count": null,
   "id": "cd7408a6",
   "metadata": {
    "vscode": {
     "languageId": "sql"
    }
   },
   "outputs": [],
   "source": [
    "-- Combine These Operators\n",
    "-- we can combine them using AND / OR:\n",
    "\n",
    "SELECT *\n",
    "FROM employees\n",
    "WHERE department IN ('IT', 'HR')\n",
    "  AND age BETWEEN 25 AND 35\n",
    "  AND email IS NOT NULL;\n",
    "-- Employees in IT or HR, age 25–35, and email is present"
   ]
  },
  {
   "cell_type": "markdown",
   "id": "0f68df6a",
   "metadata": {},
   "source": [
    "## 9. AGGREGATE FUNCTIONS"
   ]
  },
  {
   "cell_type": "markdown",
   "id": "198750f3",
   "metadata": {},
   "source": [
    "\n",
    "<div style=\"\n",
    "    color: black;\n",
    "    background-color: #d9d9d9;\n",
    "    border-radius: 10px;\n",
    "    padding: 1%;\n",
    "    font-size: 1em;\n",
    "    border: 1px solid #3f37c9;\n",
    "\">\n",
    "\n",
    "<h3>Aggregate Functions in PostgreSQL</h3>\n",
    "<p>Aggregate functions are functions that take multiple rows as input and return a single value as output.</p>\n",
    "<p>They are mainly used to summarize or analyze data.</p>\n",
    "\n",
    "<p><b>Example:</b> Counting rows, calculating average salary, finding maximum sales.</p>\n",
    "\n",
    "<p>Aggregate functions ignore NULL values (except <b>COUNT(*)</b> which counts all rows).</p>\n",
    "\n",
    "<p>They are most often used with:</p>\n",
    "<ul>\n",
    "  <li>SELECT</li>\n",
    "  <li>GROUP BY</li>\n",
    "  <li>HAVING</li>\n",
    "</ul>\n",
    "\n",
    "<h4>Common Aggregate Functions</h4>\n",
    "<table border=\"1\" cellspacing=\"0\" cellpadding=\"6\">\n",
    "  <thead>\n",
    "    <tr>\n",
    "      <th>Function</th>\n",
    "      <th>Description</th>\n",
    "    </tr>\n",
    "  </thead>\n",
    "  <tbody>\n",
    "    <tr>\n",
    "      <td>COUNT()</td>\n",
    "      <td>Returns the number of rows</td>\n",
    "    </tr>\n",
    "    <tr>\n",
    "      <td>SUM()</td>\n",
    "      <td>Returns the sum of values</td>\n",
    "    </tr>\n",
    "    <tr>\n",
    "      <td>AVG()</td>\n",
    "      <td>Returns the average of values</td>\n",
    "    </tr>\n",
    "    <tr>\n",
    "      <td>MAX()</td>\n",
    "      <td>Returns the largest value</td>\n",
    "    </tr>\n",
    "    <tr>\n",
    "      <td>MIN()</td>\n",
    "      <td>Returns the smallest value</td>\n",
    "    </tr>\n",
    "    <tr>\n",
    "      <td>ARRAY_AGG()</td>\n",
    "      <td>Combines values into an array</td>\n",
    "    </tr>\n",
    "    <tr>\n",
    "      <td>STRING_AGG()</td>\n",
    "      <td>Concatenates strings with a separator</td>\n",
    "    </tr>\n",
    "    <tr>\n",
    "      <td>VARIANCE() / VAR_POP() / VAR_SAMP()</td>\n",
    "      <td>Measures data spread</td>\n",
    "    </tr>\n",
    "    <tr>\n",
    "      <td>STDDEV() / STDDEV_POP() / STDDEV_SAMP()</td>\n",
    "      <td>Standard deviation</td>\n",
    "    </tr>\n",
    "  </tbody>\n",
    "</table>\n",
    "\n",
    "\n",
    "</div>\n"
   ]
  },
  {
   "cell_type": "code",
   "execution_count": null,
   "id": "2b613be8",
   "metadata": {
    "vscode": {
     "languageId": "sql"
    }
   },
   "outputs": [],
   "source": [
    "-- 1. COUNT() – Count Rows\n",
    "\n",
    "SELECT COUNT(*) FROM employees;              -- Count all rows\n",
    "SELECT COUNT(email) FROM employees;          -- Count non-NULL emails"
   ]
  },
  {
   "cell_type": "code",
   "execution_count": null,
   "id": "e11637a1",
   "metadata": {
    "vscode": {
     "languageId": "sql"
    }
   },
   "outputs": [],
   "source": [
    "-- 2. SUM() – Total of Values\n",
    "\n",
    "SELECT SUM(salary) AS total_salary FROM employees; -- Total salary of all employees"
   ]
  },
  {
   "cell_type": "code",
   "execution_count": null,
   "id": "5dc02f24",
   "metadata": {
    "vscode": {
     "languageId": "sql"
    }
   },
   "outputs": [],
   "source": [
    "-- 3. AVG() – Average Value\n",
    "\n",
    "SELECT AVG(salary) AS average_salary FROM employees; -- Average salary of all employees"
   ]
  },
  {
   "cell_type": "code",
   "execution_count": null,
   "id": "2a29bd7d",
   "metadata": {
    "vscode": {
     "languageId": "sql"
    }
   },
   "outputs": [],
   "source": [
    "-- 4. MAX() and MIN() – Largest & Smallest\n",
    "\n",
    "SELECT MAX(salary) AS highest_salary FROM employees;  -- Highest salary among employees\n",
    "SELECT MIN(salary) AS lowest_salary FROM employees;  -- Lowest salary among employees"
   ]
  },
  {
   "cell_type": "code",
   "execution_count": null,
   "id": "e0c9fe1c",
   "metadata": {
    "vscode": {
     "languageId": "sql"
    }
   },
   "outputs": [],
   "source": [
    "-- 5. ARRAY_AGG() – Combine Values into Array\n",
    "\n",
    "SELECT ARRAY_AGG(name) AS all_names FROM employees;  -- Combine all employee names into an array"
   ]
  },
  {
   "cell_type": "code",
   "execution_count": null,
   "id": "54eba866",
   "metadata": {
    "vscode": {
     "languageId": "sql"
    }
   },
   "outputs": [],
   "source": [
    "-- 6. STRING_AGG() – Combine Strings\n",
    "\n",
    "SELECT STRING_AGG(name, ', ') AS all_names FROM employees;  \n",
    "-- Combine all employee names into a single string, separated by commas"
   ]
  },
  {
   "cell_type": "markdown",
   "id": "b5046af3",
   "metadata": {},
   "source": [
    "## 10. GROUP BY "
   ]
  },
  {
   "cell_type": "markdown",
   "id": "c884cafc",
   "metadata": {},
   "source": [
    "\n",
    "<div style=\"\n",
    "    color: black;\n",
    "    background-color: #d9d9d9;\n",
    "    border-radius: 10px;\n",
    "    padding: 1%;\n",
    "    font-size: 1em;\n",
    "    border: 1px solid #3f37c9;\n",
    "\">\n",
    "\n",
    "<p>The GROUP BY statement in PostgreSQL is used to group rows that have the same values in specified columns.\n",
    "Then, we can apply aggregate functions like COUNT(), SUM(), AVG(), MAX(), MIN() on each group instead of the entire table.</p>\n",
    "\n",
    "<p><b>Think of it like this:</b></p>\n",
    "<ol>\n",
    "  <li>First, PostgreSQL divides your data into groups based on the column(s) you choose.</li>\n",
    "  <li>Then, it summarizes each group with your aggregate functions.</li>\n",
    "</ol>\n",
    "\n",
    "<p><b>Use Cases for Data Science:</b></p>\n",
    "<ul>\n",
    "  <li>Count users in each city</li>\n",
    "  <li>Average salary per department</li>\n",
    "  <li>Total sales per month</li>\n",
    "</ul>\n",
    "\n",
    "\n",
    "</div>\n"
   ]
  },
  {
   "cell_type": "code",
   "execution_count": null,
   "id": "da7df8fa",
   "metadata": {
    "vscode": {
     "languageId": "sql"
    }
   },
   "outputs": [],
   "source": [
    "-- Basic Syntax\n",
    "\n",
    "SELECT column1, AGGREGATE_FUNCTION(column2)\n",
    "FROM table_name\n",
    "GROUP BY column1;\n",
    "\n",
    "-- Example\n",
    "\n",
    "SELECT department, COUNT(*) AS employee_count\n",
    "FROM employees\n",
    "GROUP BY department;\n",
    "\n",
    "-- Explanation:\n",
    "-- Groups all employees by department\n",
    "-- Counts the number of employees in each department"
   ]
  },
  {
   "cell_type": "markdown",
   "id": "b4323dd6",
   "metadata": {},
   "source": [
    "### 2. Multiple Columns in GROUP BY"
   ]
  },
  {
   "cell_type": "code",
   "execution_count": null,
   "id": "32a036b1",
   "metadata": {
    "vscode": {
     "languageId": "sql"
    }
   },
   "outputs": [],
   "source": [
    "-- Multiple Columns in GROUP BY\n",
    "\n",
    "SELECT department, job_title, AVG(salary) AS avg_salary\n",
    "FROM employees\n",
    "GROUP BY department, job_title;\n",
    "\n",
    "-- Explanation:\n",
    "-- Groups employees by both department and job title\n",
    "-- Calculates the average salary for each group"
   ]
  },
  {
   "cell_type": "markdown",
   "id": "827e1a15",
   "metadata": {},
   "source": [
    "### 3. Using GROUP BY with ORDER BY"
   ]
  },
  {
   "cell_type": "code",
   "execution_count": null,
   "id": "24075467",
   "metadata": {
    "vscode": {
     "languageId": "sql"
    }
   },
   "outputs": [],
   "source": [
    "-- Sexample\n",
    "\n",
    "SELECT department, SUM(salary) AS total_salary\n",
    "FROM employees\n",
    "GROUP BY department\n",
    "ORDER BY total_salary DESC;\n",
    "\n",
    "-- Explanation:\n",
    "-- Groups salaries by department\n",
    "-- Orders departments by total salary in descending order"
   ]
  },
  {
   "cell_type": "markdown",
   "id": "8567b13c",
   "metadata": {},
   "source": [
    "### 4. Filter Groups with HAVING"
   ]
  },
  {
   "cell_type": "code",
   "execution_count": null,
   "id": "11922f2e",
   "metadata": {
    "vscode": {
     "languageId": "sql"
    }
   },
   "outputs": [],
   "source": [
    "-- HAVING is like a WHERE for groups.\n",
    "-- WHERE filters rows before grouping\n",
    "-- HAVING filters groups after aggregation"
   ]
  },
  {
   "cell_type": "code",
   "execution_count": null,
   "id": "96309abc",
   "metadata": {
    "vscode": {
     "languageId": "sql"
    }
   },
   "outputs": [],
   "source": [
    "-- example\n",
    "\n",
    "SELECT department, COUNT(*) AS emp_count\n",
    "FROM employees\n",
    "GROUP BY department\n",
    "HAVING COUNT(*) > 5;\n",
    "\n",
    "-- Explanation:\n",
    "-- Only shows departments with more than 5 employees"
   ]
  },
  {
   "cell_type": "markdown",
   "id": "c3656cc9",
   "metadata": {},
   "source": [
    "### 5. Combine with Aggregate Functions"
   ]
  },
  {
   "cell_type": "code",
   "execution_count": null,
   "id": "bf279d5c",
   "metadata": {
    "vscode": {
     "languageId": "sql"
    }
   },
   "outputs": [],
   "source": [
    "-- Example:\n",
    "\n",
    "SELECT department,\n",
    "       COUNT(*) AS emp_count,\n",
    "       AVG(salary) AS avg_salary,\n",
    "       MAX(salary) AS top_salary\n",
    "FROM employees\n",
    "GROUP BY department;\n",
    "\n",
    "-- Explanation:\n",
    "-- Groups employees by department \n",
    "-- Calculates the number of employees, average salary, and maximum salary for each department"
   ]
  },
  {
   "cell_type": "markdown",
   "id": "a804c2b3",
   "metadata": {},
   "source": [
    "## 11. WILDCARDS"
   ]
  },
  {
   "cell_type": "markdown",
   "id": "634e4983",
   "metadata": {},
   "source": [
    "\n",
    "<div style=\"\n",
    "    color: black;\n",
    "    background-color: #d9d9d9;\n",
    "    border-radius: 10px;\n",
    "    padding: 1%;\n",
    "    font-size: 1em;\n",
    "    border: 1px solid #3f37c9;\n",
    "\">\n",
    "\n",
    "<p>Wildcards are special characters used in SQL queries to match unknown characters or sequences of characters in a string.</p>\n",
    "\n",
    "<p>They are mainly used with:</p>\n",
    "<ul>\n",
    "  <li><b>LIKE</b> / <b>ILIKE</b> (for simple pattern matching)</li>\n",
    "  <li><b>SIMILAR TO</b> (for regex-like matching)</li>\n",
    "  <li><b>Regular Expressions</b> (~, ~*)</li>\n",
    "</ul>\n",
    "\n",
    "<p>Wildcards allow you to search for partial matches instead of exact matches.</p>\n",
    "\n",
    "<p><b>Example:</b> Finding all emails ending with <code>@gmail.com</code> or all names starting with <b>A</b>.</p>\n",
    "\n",
    "</div>\n"
   ]
  },
  {
   "cell_type": "markdown",
   "id": "7c8166d7",
   "metadata": {},
   "source": [
    "### 1. Wildcards with LIKE / ILIKE"
   ]
  },
  {
   "cell_type": "markdown",
   "id": "a011e8fc",
   "metadata": {},
   "source": [
    "\n",
    "<div style=\"\n",
    "    color: black;\n",
    "    background-color: #d9d9d9;\n",
    "    border-radius: 10px;\n",
    "    padding: 1%;\n",
    "    font-size: 1em;\n",
    "    border: 1px solid #3f37c9;\n",
    "\">\n",
    "\n",
    "<p>\n",
    "<b>LIKE</b> = Case-sensitive pattern matching<br>\n",
    "<b>ILIKE</b> = Case-insensitive pattern matching\n",
    "</p>\n",
    "\n",
    "<h4>Wildcards:</h4>\n",
    "<table border=\"1\" cellspacing=\"0\" cellpadding=\"6\">\n",
    "  <thead>\n",
    "    <tr>\n",
    "      <th>Wildcard</th>\n",
    "      <th>Meaning</th>\n",
    "    </tr>\n",
    "  </thead>\n",
    "  <tbody>\n",
    "    <tr>\n",
    "      <td>%</td>\n",
    "      <td>Matches 0 or more characters</td>\n",
    "    </tr>\n",
    "    <tr>\n",
    "      <td>_</td>\n",
    "      <td>Matches exactly 1 character</td>\n",
    "    </tr>\n",
    "  </tbody>\n",
    "</table>\n",
    "\n",
    "</div>\n"
   ]
  },
  {
   "cell_type": "code",
   "execution_count": null,
   "id": "e5147148",
   "metadata": {
    "vscode": {
     "languageId": "sql"
    }
   },
   "outputs": [],
   "source": [
    "-- Examples: Using %\n",
    "\n",
    "-- Names starting with A\n",
    "SELECT * FROM employees WHERE name LIKE 'A%';\n",
    "\n",
    "-- Names ending with n\n",
    "SELECT * FROM employees WHERE name LIKE '%n';\n",
    "\n",
    "-- Names containing 'li'\n",
    "SELECT * FROM employees WHERE name LIKE '%li%';\n",
    "\n",
    "-- Examples: Using _\n",
    "\n",
    "-- Names with exactly 5 letters\n",
    "SELECT * FROM employees WHERE name LIKE '_____';\n",
    "\n",
    "-- Names starting with J and 4 letters total\n",
    "SELECT * FROM employees WHERE name LIKE 'J____';"
   ]
  },
  {
   "cell_type": "markdown",
   "id": "fed6680d",
   "metadata": {},
   "source": [
    "### 2. Wildcards with SIMILAR TO"
   ]
  },
  {
   "cell_type": "markdown",
   "id": "c690eeb1",
   "metadata": {},
   "source": [
    "\n",
    "<div style=\"\n",
    "    color: black;\n",
    "    background-color: #d9d9d9;\n",
    "    border-radius: 10px;\n",
    "    padding: 1%;\n",
    "    font-size: 1em;\n",
    "    border: 1px solid #3f37c9;\n",
    "\">\n",
    "\n",
    "<p>\n",
    "<b>SIMILAR TO</b> allows SQL-style regular expressions for pattern matching.  \n",
    "It combines features of <b>LIKE</b> with more regex-like flexibility.\n",
    "</p>\n",
    "\n",
    "<h4>Wildcards:</h4>\n",
    "<table border=\"1\" cellspacing=\"0\" cellpadding=\"6\">\n",
    "  <thead>\n",
    "    <tr>\n",
    "      <th>Wildcard</th>\n",
    "      <th>Meaning</th>\n",
    "    </tr>\n",
    "  </thead>\n",
    "  <tbody>\n",
    "    <tr>\n",
    "      <td>%</td>\n",
    "      <td>Matches 0 or more characters</td>\n",
    "    </tr>\n",
    "    <tr>\n",
    "      <td>_</td>\n",
    "      <td>Matches exactly 1 character</td>\n",
    "    </tr>\n",
    "    <tr>\n",
    "      <td>[ ]</td>\n",
    "      <td>Matches any one of the characters inside the brackets</td>\n",
    "    </tr>\n",
    "  </tbody>\n",
    "</table>\n",
    "\n",
    "\n",
    "</div>\n"
   ]
  },
  {
   "cell_type": "code",
   "execution_count": null,
   "id": "6dd68c8b",
   "metadata": {
    "vscode": {
     "languageId": "sql"
    }
   },
   "outputs": [],
   "source": [
    "-- Example:\n",
    "\n",
    "-- Names starting with Ali or Ahmed\n",
    "SELECT * FROM employees WHERE name SIMILAR TO '(Ali|Ahmed)%';\n",
    "\n",
    "-- Names starting with A or B\n",
    "SELECT * FROM employees WHERE name SIMILAR TO '[AB]%';"
   ]
  },
  {
   "cell_type": "markdown",
   "id": "4318121a",
   "metadata": {},
   "source": [
    "### 3. Wildcards in Regular Expressions"
   ]
  },
  {
   "cell_type": "markdown",
   "id": "64222593",
   "metadata": {},
   "source": [
    "\n",
    "<div style=\"\n",
    "    color: black;\n",
    "    background-color: #d9d9d9;\n",
    "    border-radius: 10px;\n",
    "    padding: 1%;\n",
    "    font-size: 1em;\n",
    "    border: 1px solid #3f37c9;\n",
    "\">\n",
    "\n",
    "<h4>PostgreSQL Regular Expressions Operators</h4>\n",
    "<p>\n",
    "PostgreSQL supports full regular expressions using operators like <b>~</b> (case-sensitive) and <b>~*</b> (case-insensitive) for pattern matching.\n",
    "</p>\n",
    "\n",
    "<table border=\"1\" cellspacing=\"0\" cellpadding=\"6\">\n",
    "  <thead>\n",
    "    <tr>\n",
    "      <th>Regex Operator</th>\n",
    "      <th>Description</th>\n",
    "      <th>Example Pattern</th>\n",
    "      <th>Matches</th>\n",
    "      <th>Does Not Match</th>\n",
    "    </tr>\n",
    "  </thead>\n",
    "  <tbody>\n",
    "    <tr>\n",
    "      <td>.</td>\n",
    "      <td>Any single character</td>\n",
    "      <td>'a.c'</td>\n",
    "      <td>'abc', 'axc'</td>\n",
    "      <td>'ac', 'abbc'</td>\n",
    "    </tr>\n",
    "    <tr>\n",
    "      <td>*</td>\n",
    "      <td>0 or more occurrences</td>\n",
    "      <td>'ab*c'</td>\n",
    "      <td>'ac', 'abc', 'abbc', 'abbbc'</td>\n",
    "      <td>'adc'</td>\n",
    "    </tr>\n",
    "    <tr>\n",
    "      <td>+</td>\n",
    "      <td>1 or more occurrences</td>\n",
    "      <td>'ab+c'</td>\n",
    "      <td>'abc', 'abbc', 'abbbc'</td>\n",
    "      <td>'ac'</td>\n",
    "    </tr>\n",
    "    <tr>\n",
    "      <td>?</td>\n",
    "      <td>0 or 1 occurrence</td>\n",
    "      <td>'ab?c'</td>\n",
    "      <td>'ac', 'abc'</td>\n",
    "      <td>'abbc'</td>\n",
    "    </tr>\n",
    "    <tr>\n",
    "      <td>^</td>\n",
    "      <td>Start of string</td>\n",
    "      <td>'^abc'</td>\n",
    "      <td>'abcdef'</td>\n",
    "      <td>'xabc'</td>\n",
    "    </tr>\n",
    "    <tr>\n",
    "      <td>$</td>\n",
    "      <td>End of string</td>\n",
    "      <td>'abc$'</td>\n",
    "      <td>'xyzabc'</td>\n",
    "      <td>'abcx'</td>\n",
    "    </tr>\n",
    "    <tr>\n",
    "      <td>[abc]</td>\n",
    "      <td>Match a, b, or c</td>\n",
    "      <td>'gr[ae]y'</td>\n",
    "      <td>'gray', 'grey'</td>\n",
    "      <td>'groy'</td>\n",
    "    </tr>\n",
    "    <tr>\n",
    "      <td>[^abc]</td>\n",
    "      <td>Match anything except a, b, or c</td>\n",
    "      <td>'[^abc]'</td>\n",
    "      <td>'d', 'x'</td>\n",
    "      <td>'a', 'b', 'c'</td>\n",
    "    </tr>\n",
    "    <tr>\n",
    "      <td>{n}</td>\n",
    "      <td>Exactly n times</td>\n",
    "      <td>'a{3}'</td>\n",
    "      <td>'aaa'</td>\n",
    "      <td>'aa', 'aaaa'</td>\n",
    "    </tr>\n",
    "    <tr>\n",
    "      <td>{n,}</td>\n",
    "      <td>At least n times</td>\n",
    "      <td>'a{2,}'</td>\n",
    "      <td>'aa', 'aaa', 'aaaa'</td>\n",
    "      <td>'a'</td>\n",
    "    </tr>\n",
    "    <tr>\n",
    "      <td>{n,m}</td>\n",
    "      <td>Between n and m times</td>\n",
    "      <td>'a{2,4}'</td>\n",
    "      <td>'aa', 'aaa', 'aaaa'</td>\n",
    "      <td>'a', 'aaaaa'</td>\n",
    "    </tr>\n",
    "  </tbody>\n",
    "</table>\n",
    "\n",
    "\n",
    "</div>\n"
   ]
  },
  {
   "cell_type": "code",
   "execution_count": null,
   "id": "ba8130ae",
   "metadata": {
    "vscode": {
     "languageId": "sql"
    }
   },
   "outputs": [],
   "source": [
    "-- Examples:\n",
    "\n",
    "-- Names ending with 'son'\n",
    "SELECT * FROM employees WHERE name ~ 'son$';\n",
    "\n",
    "-- Names starting with A or B\n",
    "SELECT * FROM employees WHERE name ~* '^[ab]';\n",
    "\n",
    "-- Names with 2 consecutive vowels\n",
    "SELECT * FROM employees WHERE name ~* '[aeiou]{2}';\n"
   ]
  },
  {
   "cell_type": "markdown",
   "id": "6b19a207",
   "metadata": {},
   "source": [
    "## 12. UPDATE COMMAND"
   ]
  },
  {
   "cell_type": "markdown",
   "id": "885fd7c0",
   "metadata": {},
   "source": [
    "\n",
    "<div style=\"\n",
    "    color: black;\n",
    "    background-color: #d9d9d9;\n",
    "    border-radius: 10px;\n",
    "    padding: 1%;\n",
    "    font-size: 1em;\n",
    "    border: 1px solid #3f37c9;\n",
    "\">\n",
    "<p>The <b>UPDATE</b> command is used to modify existing records in a table.</p>\n",
    "\n",
    "<ul>\n",
    "  <li>You can change one column, multiple columns, or all rows.</li>\n",
    "  <li>Usually combined with a <b>WHERE</b> clause to avoid changing every row by mistake.</li>\n",
    "  <li><b>Warning:</b> If you omit the WHERE clause, PostgreSQL will update <b>all rows</b> in the table!</li>\n",
    "</ul>\n",
    "\n",
    "</div>\n"
   ]
  },
  {
   "cell_type": "code",
   "execution_count": null,
   "id": "56cacfd4",
   "metadata": {
    "vscode": {
     "languageId": "sql"
    }
   },
   "outputs": [],
   "source": [
    "-- Basic Syntax\n",
    "\n",
    "UPDATE table_name\n",
    "SET column1 = value1,\n",
    "    column2 = value2\n",
    "WHERE condition;"
   ]
  },
  {
   "cell_type": "markdown",
   "id": "ff501fef",
   "metadata": {},
   "source": [
    "### 1. Update a Single Column"
   ]
  },
  {
   "cell_type": "code",
   "execution_count": null,
   "id": "f97a14e6",
   "metadata": {
    "vscode": {
     "languageId": "sql"
    }
   },
   "outputs": [],
   "source": [
    "-- Increase salary of employee with id 101 to 60000\n",
    "UPDATE employees\n",
    "SET salary = 60000\n",
    "WHERE id = 101;"
   ]
  },
  {
   "cell_type": "markdown",
   "id": "5d630371",
   "metadata": {},
   "source": [
    "### 2. Update Multiple Columns"
   ]
  },
  {
   "cell_type": "code",
   "execution_count": null,
   "id": "e3e54bc1",
   "metadata": {
    "vscode": {
     "languageId": "sql"
    }
   },
   "outputs": [],
   "source": [
    "-- Update both salary and department for employee 101\n",
    "UPDATE employees\n",
    "SET salary = 65000,\n",
    "    department = 'Finance'\n",
    "WHERE id = 101;"
   ]
  },
  {
   "cell_type": "markdown",
   "id": "9f2000b2",
   "metadata": {},
   "source": [
    "### 3. Update All Rows "
   ]
  },
  {
   "cell_type": "code",
   "execution_count": null,
   "id": "930d9b58",
   "metadata": {
    "vscode": {
     "languageId": "sql"
    }
   },
   "outputs": [],
   "source": [
    "-- Set all employees to active\n",
    "UPDATE employees\n",
    "SET status = 'Active';"
   ]
  },
  {
   "cell_type": "markdown",
   "id": "b887ccde",
   "metadata": {},
   "source": [
    "### 4. Update Using Expressions"
   ]
  },
  {
   "cell_type": "code",
   "execution_count": null,
   "id": "1ac0593a",
   "metadata": {
    "vscode": {
     "languageId": "sql"
    }
   },
   "outputs": [],
   "source": [
    "-- Increase all salaries by 10%\n",
    "UPDATE employees\n",
    "SET salary = salary * 1.1;"
   ]
  },
  {
   "cell_type": "markdown",
   "id": "e7f638db",
   "metadata": {},
   "source": [
    "### 5. Update Using Data From Another Table"
   ]
  },
  {
   "cell_type": "code",
   "execution_count": null,
   "id": "4a5e8090",
   "metadata": {
    "vscode": {
     "languageId": "sql"
    }
   },
   "outputs": [],
   "source": [
    "-- Sync employees department from departments table\n",
    "UPDATE employees e\n",
    "SET department = d.name\n",
    "FROM departments d\n",
    "WHERE e.department_id = d.id;"
   ]
  },
  {
   "cell_type": "markdown",
   "id": "542d68b2",
   "metadata": {},
   "source": [
    "### 6. Conditional Updates with CASE"
   ]
  },
  {
   "cell_type": "code",
   "execution_count": null,
   "id": "2a553293",
   "metadata": {
    "vscode": {
     "languageId": "sql"
    }
   },
   "outputs": [],
   "source": [
    "-- Give a 10% raise to IT employees, 5% to HR\n",
    "UPDATE employees\n",
    "SET salary = salary * \n",
    "    CASE \n",
    "        WHEN department = 'IT' THEN 1.10\n",
    "        WHEN department = 'HR' THEN 1.05\n",
    "        ELSE 1.00\n",
    "    END;"
   ]
  },
  {
   "cell_type": "markdown",
   "id": "d8b55588",
   "metadata": {},
   "source": [
    "## 13. DELETE COMMAND"
   ]
  },
  {
   "cell_type": "markdown",
   "id": "f537d81e",
   "metadata": {},
   "source": [
    "\n",
    "<div style=\"\n",
    "    color: black;\n",
    "    background-color: #d9d9d9;\n",
    "    border-radius: 10px;\n",
    "    padding: 1%;\n",
    "    font-size: 1em;\n",
    "    border: 1px solid #3f37c9;\n",
    "\">\n",
    "<p>The <b>DELETE</b> command is used to remove rows from a table in PostgreSQL.</p>\n",
    "\n",
    "<ul>\n",
    "  <li>It only removes the <b>data</b>, not the table structure.</li>\n",
    "  <li>Combine with a <b>WHERE</b> clause to delete specific rows.</li>\n",
    "</ul>\n",
    "\n",
    "<p><b>Warning:</b> If you omit <b>WHERE</b>, all rows will be deleted and the table will be empty.</p>\n",
    "\n",
    "</div>\n"
   ]
  },
  {
   "cell_type": "code",
   "execution_count": null,
   "id": "164bff20",
   "metadata": {
    "vscode": {
     "languageId": "sql"
    }
   },
   "outputs": [],
   "source": [
    "-- Basic Syntax\n",
    "DELETE FROM table_name\n",
    "WHERE condition;"
   ]
  },
  {
   "cell_type": "markdown",
   "id": "aef953c1",
   "metadata": {},
   "source": [
    "### 1. Delete Specific Rows"
   ]
  },
  {
   "cell_type": "code",
   "execution_count": null,
   "id": "d4482db0",
   "metadata": {
    "vscode": {
     "languageId": "sql"
    }
   },
   "outputs": [],
   "source": [
    "-- Delete employee with id 101\n",
    "DELETE FROM employees\n",
    "WHERE id = 101;\n",
    "\n",
    "-- Delete all employees in HR department\n",
    "DELETE FROM employees\n",
    "WHERE department = 'HR';"
   ]
  },
  {
   "cell_type": "markdown",
   "id": "d7a7a2ac",
   "metadata": {},
   "source": [
    "### 2. Delete All Rows"
   ]
  },
  {
   "cell_type": "code",
   "execution_count": null,
   "id": "31841af4",
   "metadata": {
    "vscode": {
     "languageId": "sql"
    }
   },
   "outputs": [],
   "source": [
    "DELETE FROM employees;"
   ]
  },
  {
   "cell_type": "markdown",
   "id": "0e2f5856",
   "metadata": {},
   "source": [
    "### 3. Delete Using a Condition with Operators"
   ]
  },
  {
   "cell_type": "code",
   "execution_count": null,
   "id": "5eb68dfc",
   "metadata": {
    "vscode": {
     "languageId": "sql"
    }
   },
   "outputs": [],
   "source": [
    "-- Delete employees younger than 18\n",
    "DELETE FROM employees\n",
    "WHERE age < 18;\n",
    "\n",
    "-- Delete employees hired before 2020\n",
    "DELETE FROM employees\n",
    "WHERE hire_date < '2020-01-01';"
   ]
  },
  {
   "cell_type": "markdown",
   "id": "38356f00",
   "metadata": {},
   "source": [
    "### 4. Delete Using Subquery"
   ]
  },
  {
   "cell_type": "code",
   "execution_count": null,
   "id": "f2747cac",
   "metadata": {
    "vscode": {
     "languageId": "sql"
    }
   },
   "outputs": [],
   "source": [
    "-- Delete employees who belong to inactive departments\n",
    "DELETE FROM employees\n",
    "WHERE department_id IN (\n",
    "    SELECT id FROM departments WHERE active = false\n",
    ");"
   ]
  },
  {
   "cell_type": "markdown",
   "id": "44bcd366",
   "metadata": {},
   "source": [
    "### 5. Delete All Rows Quickly"
   ]
  },
  {
   "cell_type": "code",
   "execution_count": null,
   "id": "0f0e643c",
   "metadata": {
    "vscode": {
     "languageId": "sql"
    }
   },
   "outputs": [],
   "source": [
    "TRUNCATE TABLE employees RESTART IDENTITY;   -- RESTART IDENTITY resets auto-incrementing IDs."
   ]
  },
  {
   "cell_type": "markdown",
   "id": "61c79e50",
   "metadata": {},
   "source": [
    "## 14. SUBQUERY"
   ]
  },
  {
   "cell_type": "markdown",
   "id": "a6c0c844",
   "metadata": {},
   "source": [
    "\n",
    "<div style=\"\n",
    "    color: black;\n",
    "    background-color: #d9d9d9;\n",
    "    border-radius: 10px;\n",
    "    padding: 1%;\n",
    "    font-size: 1em;\n",
    "    border: 1px solid #3f37c9;\n",
    "\">\n",
    "<p>A <b>subquery</b> (or inner query) is a query inside another query.</p>\n",
    "\n",
    "<p>PostgreSQL executes the <b>inner query first</b>, and its result is used by the outer query.</p>\n",
    "\n",
    "<p>Subqueries can return:</p>\n",
    "<ul>\n",
    "  <li><b>Single value</b> (scalar subquery)</li>\n",
    "  <li><b>Single column</b> (used with <b>IN</b>)</li>\n",
    "  <li><b>Entire table</b> (used in <b>FROM</b>)</li>\n",
    "</ul>\n",
    "\n",
    "</div>\n"
   ]
  },
  {
   "cell_type": "code",
   "execution_count": null,
   "id": "4ba44294",
   "metadata": {
    "vscode": {
     "languageId": "sql"
    }
   },
   "outputs": [],
   "source": [
    "-- Basic Syntax\n",
    "\n",
    "SELECT column_list\n",
    "FROM table_name\n",
    "WHERE column OPERATOR (SELECT column FROM another_table WHERE condition);"
   ]
  },
  {
   "cell_type": "markdown",
   "id": "d031bcc4",
   "metadata": {},
   "source": [
    "###  1. Subquery in WHERE Clause"
   ]
  },
  {
   "cell_type": "code",
   "execution_count": null,
   "id": "13632353",
   "metadata": {
    "vscode": {
     "languageId": "sql"
    }
   },
   "outputs": [],
   "source": [
    "-- Employees earning more than average salary\n",
    "SELECT *\n",
    "FROM employees\n",
    "WHERE salary > (SELECT AVG(salary) FROM employees);"
   ]
  },
  {
   "cell_type": "code",
   "execution_count": null,
   "id": "163da674",
   "metadata": {
    "vscode": {
     "languageId": "sql"
    }
   },
   "outputs": [],
   "source": [
    "-- Employees in active departments\n",
    "SELECT *\n",
    "FROM employees\n",
    "WHERE department_id IN (\n",
    "    SELECT id FROM departments WHERE active = true\n",
    ");"
   ]
  },
  {
   "cell_type": "markdown",
   "id": "edc3ad35",
   "metadata": {},
   "source": [
    "###  2. Subquery in FROM Clause"
   ]
  },
  {
   "cell_type": "code",
   "execution_count": null,
   "id": "cad580ec",
   "metadata": {
    "vscode": {
     "languageId": "sql"
    }
   },
   "outputs": [],
   "source": [
    "-- Top 3 highest average salaries by department\n",
    "SELECT department, avg_salary\n",
    "FROM (\n",
    "    SELECT department, AVG(salary) AS avg_salary\n",
    "    FROM employees\n",
    "    GROUP BY department\n",
    ") AS dept_avg\n",
    "ORDER BY avg_salary DESC\n",
    "LIMIT 3;\n",
    "\n",
    "-- Treats the subquery as a temporary table"
   ]
  },
  {
   "cell_type": "markdown",
   "id": "421c1759",
   "metadata": {},
   "source": [
    "### 3. Subquery in SELECT Clause"
   ]
  },
  {
   "cell_type": "code",
   "execution_count": null,
   "id": "bfe37672",
   "metadata": {
    "vscode": {
     "languageId": "sql"
    }
   },
   "outputs": [],
   "source": [
    "-- Show each employee with the company-wide average salary\n",
    "SELECT name,\n",
    "       salary,\n",
    "       (SELECT AVG(salary) FROM employees) AS company_avg\n",
    "FROM employees;\n",
    "\n",
    "-- Subquery returns a single value per row."
   ]
  },
  {
   "cell_type": "markdown",
   "id": "4b9422f4",
   "metadata": {},
   "source": [
    "### 4. Correlated Subquery"
   ]
  },
  {
   "cell_type": "code",
   "execution_count": null,
   "id": "d5671d5a",
   "metadata": {
    "vscode": {
     "languageId": "sql"
    }
   },
   "outputs": [],
   "source": [
    "-- Employees whose salary is above their department's average\n",
    "SELECT e.name, e.salary\n",
    "FROM employees e\n",
    "WHERE salary > (\n",
    "    SELECT AVG(salary) \n",
    "    FROM employees\n",
    "    WHERE department = e.department\n",
    ");\n",
    "\n",
    "-- The inner query depends on the outer query row\n",
    "-- Runs once for each row of the outer query"
   ]
  },
  {
   "cell_type": "markdown",
   "id": "98ab8751",
   "metadata": {},
   "source": [
    "### 5. EXISTS with Subquery"
   ]
  },
  {
   "cell_type": "code",
   "execution_count": null,
   "id": "d74c8976",
   "metadata": {
    "vscode": {
     "languageId": "sql"
    }
   },
   "outputs": [],
   "source": [
    "-- Employees who belong to at least one project\n",
    "SELECT *\n",
    "FROM employees e\n",
    "WHERE EXISTS (\n",
    "    SELECT 1 FROM projects p\n",
    "    WHERE p.employee_id = e.id\n",
    ");\n",
    "\n",
    "-- Checks if any row exists in the subquery result"
   ]
  },
  {
   "cell_type": "markdown",
   "id": "3412acd8",
   "metadata": {},
   "source": [
    "## 15. FOREIGN KEYS"
   ]
  },
  {
   "cell_type": "markdown",
   "id": "be3d6838",
   "metadata": {},
   "source": [
    "\n",
    "<div style=\"\n",
    "    color: black;\n",
    "    background-color: #d9d9d9;\n",
    "    border-radius: 10px;\n",
    "    padding: 1%;\n",
    "    font-size: 1em;\n",
    "    border: 1px solid #3f37c9;\n",
    "\">\n",
    "<p>A <b>foreign key</b> is a column (or set of columns) in one table that refers to the primary key in another table.</p>\n",
    "\n",
    "<p><b>Purpose:</b> To create relationships between tables and maintain data integrity.</p>\n",
    "\n",
    "<p><b>Foreign keys prevent invalid data from being inserted:</b></p>\n",
    "<ul>\n",
    "  <li>You cannot insert a value in the foreign key column that doesn’t exist in the referenced primary key column.</li>\n",
    "  <li>You cannot delete a parent row if child rows reference it (unless cascading rules are used).</li>\n",
    "</ul>\n",
    "\n",
    "<p>Think of it like linking tables:</p>\n",
    "<ul>\n",
    "  <li><b>Parent table</b> → Has a primary key</li>\n",
    "  <li><b>Child table</b> → Has a foreign key pointing to that primary key</li>\n",
    "</ul>\n",
    "\n",
    "<h4>Example Scenario</h4>\n",
    "\n",
    "<p><b>Table: departments</b></p>\n",
    "<pre>\n",
    "id (PK) | department_name\n",
    "--------|----------------\n",
    "1       | IT\n",
    "2       | HR\n",
    "</pre>\n",
    "\n",
    "<p><b>Table: employees</b></p>\n",
    "<pre>\n",
    "id (PK) | name     | department_id (FK)\n",
    "--------|---------|-------------------\n",
    "101     | Ali     | 1\n",
    "102     | Sara    | 2\n",
    "</pre>\n",
    "\n",
    "<p>Here, <b>department_id</b> in <b>employees</b> is a foreign key referencing <b>departments.id</b>.</p>\n",
    "<p>Means Ali belongs to the IT department because his <b>departments.id</b> is 1 and Sara belongs to the HR department because her <b>departments.id</b> is 2 </p>\n",
    "\n",
    "</div>\n"
   ]
  },
  {
   "cell_type": "markdown",
   "id": "b695a4f0",
   "metadata": {},
   "source": [
    "### 1. Create Table with Foreign Key"
   ]
  },
  {
   "cell_type": "code",
   "execution_count": null,
   "id": "724e2aa7",
   "metadata": {
    "vscode": {
     "languageId": "sql"
    }
   },
   "outputs": [],
   "source": [
    "CREATE TABLE departments (\n",
    "    id SERIAL PRIMARY KEY,\n",
    "    department_name VARCHAR(50) NOT NULL\n",
    ");\n",
    "\n",
    "CREATE TABLE employees (\n",
    "    id SERIAL PRIMARY KEY,\n",
    "    name VARCHAR(50),\n",
    "    department_id INT,\n",
    "    CONSTRAINT fk_department\n",
    "        FOREIGN KEY (department_id)\n",
    "        REFERENCES departments(id)\n",
    ");\n"
   ]
  },
  {
   "cell_type": "markdown",
   "id": "b92ddd22",
   "metadata": {},
   "source": [
    "### 2. Add Foreign Key to an Existing Table"
   ]
  },
  {
   "cell_type": "code",
   "execution_count": null,
   "id": "e9e7fe35",
   "metadata": {
    "vscode": {
     "languageId": "sql"
    }
   },
   "outputs": [],
   "source": [
    "ALTER TABLE employees\n",
    "ADD CONSTRAINT fk_department\n",
    "FOREIGN KEY (department_id)\n",
    "REFERENCES departments(id);"
   ]
  },
  {
   "cell_type": "markdown",
   "id": "5ec555e1",
   "metadata": {},
   "source": [
    "### 3. Delete or Update Behavior"
   ]
  },
  {
   "cell_type": "markdown",
   "id": "42672f37",
   "metadata": {},
   "source": [
    "\n",
    "<div style=\"\n",
    "    color: black;\n",
    "    background-color: #d9d9d9;\n",
    "    border-radius: 10px;\n",
    "    padding: 1%;\n",
    "    font-size: 1em;\n",
    "    border: 1px solid #3f37c9;\n",
    "\">\n",
    "<p>When a parent row is deleted or updated, PostgreSQL checks what to do with child rows.</p>\n",
    "\n",
    "<table border=\"1\" cellspacing=\"0\" cellpadding=\"6\">\n",
    "  <thead>\n",
    "    <tr>\n",
    "      <th>Option</th>\n",
    "      <th>Behavior</th>\n",
    "    </tr>\n",
    "  </thead>\n",
    "  <tbody>\n",
    "    <tr>\n",
    "      <td>ON DELETE CASCADE</td>\n",
    "      <td>Delete child rows automatically</td>\n",
    "    </tr>\n",
    "    <tr>\n",
    "      <td>ON DELETE SET NULL</td>\n",
    "      <td>Set child rows to NULL</td>\n",
    "    </tr>\n",
    "    <tr>\n",
    "      <td>ON DELETE RESTRICT</td>\n",
    "      <td>Prevent deletion if child rows exist (default)</td>\n",
    "    </tr>\n",
    "    <tr>\n",
    "      <td>ON DELETE NO ACTION</td>\n",
    "      <td>Similar to RESTRICT</td>\n",
    "    </tr>\n",
    "    <tr>\n",
    "      <td>ON UPDATE CASCADE</td>\n",
    "      <td>Update child rows if parent key changes</td>\n",
    "    </tr>\n",
    "  </tbody>\n",
    "</table>\n",
    "\n",
    "</div>\n"
   ]
  },
  {
   "cell_type": "code",
   "execution_count": null,
   "id": "7de37580",
   "metadata": {
    "vscode": {
     "languageId": "sql"
    }
   },
   "outputs": [],
   "source": [
    "-- Example:\n",
    "\n",
    "CREATE TABLE employees (\n",
    "    id SERIAL PRIMARY KEY,\n",
    "    name VARCHAR(50),\n",
    "    department_id INT,\n",
    "    FOREIGN KEY (department_id)\n",
    "        REFERENCES departments(id)\n",
    "        ON DELETE CASCADE\n",
    "        ON UPDATE CASCADE\n",
    ");"
   ]
  },
  {
   "cell_type": "markdown",
   "id": "1dd48450",
   "metadata": {},
   "source": [
    "###  4. Drop a Foreign Key Constraint"
   ]
  },
  {
   "cell_type": "code",
   "execution_count": null,
   "id": "14689c66",
   "metadata": {
    "vscode": {
     "languageId": "sql"
    }
   },
   "outputs": [],
   "source": [
    "ALTER TABLE employees\n",
    "DROP CONSTRAINT fk_department;"
   ]
  },
  {
   "cell_type": "markdown",
   "id": "d2b33273",
   "metadata": {},
   "source": [
    "\n",
    "<div style=\"\n",
    "    color: black;\n",
    "    background-color: #d9d9d9;\n",
    "    border-radius: 10px;\n",
    "    padding: 1%;\n",
    "    font-size: 1em;\n",
    "    border: 1px solid #3f37c9;\n",
    "\">\n",
    "<p><strong>pgAdmin GUI Steps</strong></p>\n",
    "\n",
    "<p><strong>Create Foreign Key When Creating Table</strong></p>\n",
    "<ol>\n",
    "  <li>Right-click Tables → Create → Table</li>\n",
    "  <li>In Columns tab, define your column</li>\n",
    "  <li>In Constraints tab → Foreign Keys, add:\n",
    "    <ul>\n",
    "      <li>Referenced table & column</li>\n",
    "      <li>Optional ON DELETE / ON UPDATE behavior</li>\n",
    "    </ul>\n",
    "  </li>\n",
    "</ol>\n",
    "\n",
    "<p><strong>Add Foreign Key to Existing Table</strong></p>\n",
    "<ol>\n",
    "  <li>Right-click your table → Properties → Constraints → Foreign Keys → Add</li>\n",
    "  <li>Select referenced table and column</li>\n",
    "  <li>Set cascade rules if needed</li>\n",
    "  <li>Click Save</li>\n",
    "</ol>\n",
    "\n",
    "<p><strong>View Foreign Keys</strong></p>\n",
    "<ol>\n",
    "  <li>Right-click the table → Properties → Constraints tab</li>\n",
    "  <li>Check all foreign keys and their referenced tables</li>\n",
    "</ol>\n",
    "\n",
    "</div>\n"
   ]
  }
 ],
 "metadata": {
  "kernelspec": {
   "display_name": "Python 3",
   "language": "python",
   "name": "python3"
  },
  "language_info": {
   "codemirror_mode": {
    "name": "ipython",
    "version": 3
   },
   "file_extension": ".py",
   "mimetype": "text/x-python",
   "name": "python",
   "nbconvert_exporter": "python",
   "pygments_lexer": "ipython3",
   "version": "3.13.5"
  }
 },
 "nbformat": 4,
 "nbformat_minor": 5
}
