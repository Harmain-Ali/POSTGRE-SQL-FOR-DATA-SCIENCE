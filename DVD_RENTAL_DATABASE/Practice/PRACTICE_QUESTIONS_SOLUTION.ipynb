{
 "cells": [
  {
   "cell_type": "markdown",
   "id": "5067376c",
   "metadata": {},
   "source": [
    "<div style=\"\n",
    "    font-family: 'Roboto', sans-serif;\n",
    "    color: white;\n",
    "    background-color: #AF0404;\n",
    "    padding: 1%;\n",
    "    border-radius: 10px;\n",
    "    font-size: 2em;\n",
    "    text-align: center;\n",
    "\">\n",
    "DVD RENTAL DB PRACTICE\n",
    "</div>\n"
   ]
  },
  {
   "cell_type": "markdown",
   "id": "33b29806",
   "metadata": {},
   "source": [
    "\n",
    "<div style=\"\n",
    "    color: black;\n",
    "    background-color: #f0f0f0ff;\n",
    "    border-radius: 10px;\n",
    "    padding: 1%;\n",
    "    font-size: 1em;\n",
    "    border: 1px solid #3f37c9;\n",
    "\">\n",
    "    📍 <b>NOTE</b>: This notebook is intended to:\n",
    "    <ul>\n",
    "        <li>Provide solutions to the practice questions of dvdrental database.</li>\n",
    "    </ul>\n",
    "</div>\n"
   ]
  },
  {
   "cell_type": "markdown",
   "id": "d7861e41",
   "metadata": {},
   "source": [
    "\n",
    "<div style=\"\n",
    "    color: black;\n",
    "    background-color: #f0f0f0ff;\n",
    "    border-radius: 10px;\n",
    "    padding: 1%;\n",
    "    font-size: 1em;\n",
    "    border: 1px solid #3f37c9;\n",
    "\">\n",
    "    <li> To setup dvdrental database see setup guide in the setup folder!</li>\n",
    "</div>\n"
   ]
  },
  {
   "cell_type": "markdown",
   "id": "4f76f5d1",
   "metadata": {},
   "source": [
    "## 1. Basic SELECT Queries "
   ]
  },
  {
   "cell_type": "code",
   "execution_count": null,
   "id": "bec4cb9e",
   "metadata": {
    "vscode": {
     "languageId": "sql"
    }
   },
   "outputs": [],
   "source": [
    "-- 1. List all customers.\n",
    "SELECT * FROM customers;"
   ]
  },
  {
   "cell_type": "code",
   "execution_count": null,
   "id": "61ca2b24",
   "metadata": {
    "vscode": {
     "languageId": "sql"
    }
   },
   "outputs": [],
   "source": [
    "-- 2. Show first and last names of all actors.\n",
    "SELECT first_name, last_name\n",
    "FROM actor;"
   ]
  },
  {
   "cell_type": "code",
   "execution_count": null,
   "id": "ce02214c",
   "metadata": {
    "vscode": {
     "languageId": "sql"
    }
   },
   "outputs": [],
   "source": [
    "-- 3. Display all films with their rental rates.\n",
    "SELECT title,rental_rate\n",
    "FROM film;"
   ]
  },
  {
   "cell_type": "code",
   "execution_count": null,
   "id": "d7ed9858",
   "metadata": {
    "vscode": {
     "languageId": "sql"
    }
   },
   "outputs": [],
   "source": [
    "-- 4. Find all active customers.\n",
    "SELECT first_name, last_name,active\n",
    "FROM customer\n",
    "where active = 1;"
   ]
  },
  {
   "cell_type": "code",
   "execution_count": null,
   "id": "39c1621d",
   "metadata": {
    "vscode": {
     "languageId": "sql"
    }
   },
   "outputs": [],
   "source": [
    "-- 4. Find all active customers.\n",
    "SELECT first_name, email\n",
    "FROM customer;"
   ]
  },
  {
   "cell_type": "code",
   "execution_count": null,
   "id": "f2daecd1",
   "metadata": {
    "vscode": {
     "languageId": "sql"
    }
   },
   "outputs": [],
   "source": [
    "-- 5. Show the email addresses of all customers.\n",
    "SELECT first_name, email\n",
    "FROM customer;"
   ]
  },
  {
   "cell_type": "code",
   "execution_count": null,
   "id": "d1a92e6e",
   "metadata": {
    "vscode": {
     "languageId": "sql"
    }
   },
   "outputs": [],
   "source": [
    "-- 6. List all films with a rating of ‘PG’.\n",
    "SELECT title,rating\n",
    "FROM film\n",
    "WHERE rating = 'PG';"
   ]
  },
  {
   "cell_type": "code",
   "execution_count": null,
   "id": "af2c5c06",
   "metadata": {
    "vscode": {
     "languageId": "sql"
    }
   },
   "outputs": [],
   "source": [
    "-- 7. Find all categories.\n",
    "SELECT name\n",
    "FROM category;"
   ]
  },
  {
   "cell_type": "code",
   "execution_count": null,
   "id": "6217a8bf",
   "metadata": {
    "vscode": {
     "languageId": "sql"
    }
   },
   "outputs": [],
   "source": [
    "-- 8. Show the names of all staff members.\n",
    "SELECT name\n",
    "FROM staff;"
   ]
  }
 ],
 "metadata": {
  "kernelspec": {
   "display_name": "Python 3",
   "language": "python",
   "name": "python3"
  },
  "language_info": {
   "codemirror_mode": {
    "name": "ipython",
    "version": 3
   },
   "file_extension": ".py",
   "mimetype": "text/x-python",
   "name": "python",
   "nbconvert_exporter": "python",
   "pygments_lexer": "ipython3",
   "version": "3.13.5"
  }
 },
 "nbformat": 4,
 "nbformat_minor": 5
}
