{
 "cells": [
  {
   "cell_type": "markdown",
   "id": "5067376c",
   "metadata": {},
   "source": [
    "<div style=\"\n",
    "    font-family: 'Roboto', sans-serif;\n",
    "    color: white;\n",
    "    background-color: #AF0404;\n",
    "    padding: 1%;\n",
    "    border-radius: 10px;\n",
    "    font-size: 2em;\n",
    "    text-align: center;\n",
    "\">\n",
    "DVD RENTAL DB PRACTICE\n",
    "</div>\n"
   ]
  },
  {
   "cell_type": "markdown",
   "id": "33b29806",
   "metadata": {},
   "source": [
    "\n",
    "<div style=\"\n",
    "    color: black;\n",
    "    background-color: #f0f0f0ff;\n",
    "    border-radius: 10px;\n",
    "    padding: 1%;\n",
    "    font-size: 1em;\n",
    "    border: 1px solid #3f37c9;\n",
    "\">\n",
    "    📍 <b>NOTE</b>: This notebook is intended to:\n",
    "    <ul>\n",
    "        <li>Provide solutions to the practice questions of dvdrental database.</li>\n",
    "    </ul>\n",
    "</div>\n"
   ]
  },
  {
   "cell_type": "markdown",
   "id": "d7861e41",
   "metadata": {},
   "source": [
    "\n",
    "<div style=\"\n",
    "    color: black;\n",
    "    background-color: #f0f0f0ff;\n",
    "    border-radius: 10px;\n",
    "    padding: 1%;\n",
    "    font-size: 1em;\n",
    "    border: 1px solid #3f37c9;\n",
    "\">\n",
    "    <li> To setup dvdrental database see setup guide in the setup folder!</li>\n",
    "</div>\n"
   ]
  },
  {
   "cell_type": "code",
   "execution_count": null,
   "id": "bec4cb9e",
   "metadata": {
    "vscode": {
     "languageId": "sql"
    }
   },
   "outputs": [],
   "source": [
    "-- 1. List all customers.\n",
    "SELECT * FROM customers;"
   ]
  },
  {
   "cell_type": "code",
   "execution_count": null,
   "id": "61ca2b24",
   "metadata": {
    "vscode": {
     "languageId": "sql"
    }
   },
   "outputs": [],
   "source": [
    "-- 2. Show first and last names of all actors.\n",
    "SELECT first_name, last_name\n",
    "FROM actor;"
   ]
  },
  {
   "cell_type": "code",
   "execution_count": null,
   "id": "ce02214c",
   "metadata": {
    "vscode": {
     "languageId": "sql"
    }
   },
   "outputs": [],
   "source": [
    "-- 3. Display all films with their rental rates.\n",
    "SELECT title,rental_rate\n",
    "FROM film;"
   ]
  },
  {
   "cell_type": "code",
   "execution_count": null,
   "id": "d7ed9858",
   "metadata": {
    "vscode": {
     "languageId": "sql"
    }
   },
   "outputs": [],
   "source": [
    "-- 4. Find all active customers.\n",
    "SELECT first_name, last_name,active\n",
    "FROM customer\n",
    "WHERE active = 1;"
   ]
  },
  {
   "cell_type": "code",
   "execution_count": null,
   "id": "39c1621d",
   "metadata": {
    "vscode": {
     "languageId": "sql"
    }
   },
   "outputs": [],
   "source": [
    "-- 4. Find all active customers.\n",
    "SELECT first_name, email\n",
    "FROM customer;"
   ]
  },
  {
   "cell_type": "code",
   "execution_count": null,
   "id": "f2daecd1",
   "metadata": {
    "vscode": {
     "languageId": "sql"
    }
   },
   "outputs": [],
   "source": [
    "-- 5. Show the email addresses of all customers.\n",
    "SELECT first_name, email\n",
    "FROM customer;"
   ]
  },
  {
   "cell_type": "code",
   "execution_count": null,
   "id": "d1a92e6e",
   "metadata": {
    "vscode": {
     "languageId": "sql"
    }
   },
   "outputs": [],
   "source": [
    "-- 6. List all films with a rating of ‘PG’.\n",
    "SELECT title,rating\n",
    "FROM film\n",
    "WHERE rating = 'PG';"
   ]
  },
  {
   "cell_type": "code",
   "execution_count": null,
   "id": "af2c5c06",
   "metadata": {
    "vscode": {
     "languageId": "sql"
    }
   },
   "outputs": [],
   "source": [
    "-- 7. Find all categories.\n",
    "SELECT name\n",
    "FROM category;"
   ]
  },
  {
   "cell_type": "code",
   "execution_count": null,
   "id": "6217a8bf",
   "metadata": {
    "vscode": {
     "languageId": "sql"
    }
   },
   "outputs": [],
   "source": [
    "-- 8. Show the names of all staff members.\n",
    "SELECT name\n",
    "FROM staff;"
   ]
  },
  {
   "cell_type": "code",
   "execution_count": null,
   "id": "df471043",
   "metadata": {
    "vscode": {
     "languageId": "sql"
    }
   },
   "outputs": [],
   "source": [
    "-- 9. Display all stores.\n",
    "SELECT * \n",
    "FROM store;"
   ]
  },
  {
   "cell_type": "code",
   "execution_count": null,
   "id": "386c1ab2",
   "metadata": {
    "vscode": {
     "languageId": "sql"
    }
   },
   "outputs": [],
   "source": [
    "-- 10. Find all films longer than 100 minutes.\n",
    "SELECT title,length\n",
    "FROM film\n",
    "WHERE length > 100;"
   ]
  },
  {
   "cell_type": "code",
   "execution_count": null,
   "id": "8c9c87ea",
   "metadata": {
    "vscode": {
     "languageId": "sql"
    }
   },
   "outputs": [],
   "source": [
    "-- 11. Display all rentals made on ‘2005-05-24’.\n",
    "SELECT * \n",
    "FROM rental \n",
    "WHERE DATE(rental_date) = '2005-05-24';"
   ]
  },
  {
   "cell_type": "code",
   "execution_count": null,
   "id": "113c5678",
   "metadata": {
    "vscode": {
     "languageId": "sql"
    }
   },
   "outputs": [],
   "source": [
    "-- 12. List all distinct rental durations from films.\n",
    "SELECT DISTINCT rental_duration\n",
    "FROM film;"
   ]
  },
  {
   "cell_type": "code",
   "execution_count": null,
   "id": "af214c8f",
   "metadata": {
    "vscode": {
     "languageId": "sql"
    }
   },
   "outputs": [],
   "source": [
    "-- 13. Show all films that have a replacement cost greater than 20.\n",
    "SELECT title,replacement_cost\n",
    "FROM film\n",
    "WHERE replacement_cost > 20;"
   ]
  },
  {
   "cell_type": "code",
   "execution_count": null,
   "id": "1a6d4cc8",
   "metadata": {
    "vscode": {
     "languageId": "sql"
    }
   },
   "outputs": [],
   "source": [
    "-- 14. Display first 10 rows from the film table.\n",
    "SELECT *\n",
    "FROM film\n",
    "LIMIT 10;"
   ]
  },
  {
   "cell_type": "code",
   "execution_count": null,
   "id": "9ebc9e30",
   "metadata": {
    "vscode": {
     "languageId": "sql"
    }
   },
   "outputs": [],
   "source": [
    "-- 15. List all customers whose last name starts with ‘S’.\n",
    "SELECT first_name, last_name\n",
    "FROM customer\n",
    "WHERE last_name LIKE 'S%';"
   ]
  },
  {
   "cell_type": "code",
   "execution_count": null,
   "id": "c353aa51",
   "metadata": {
    "vscode": {
     "languageId": "sql"
    }
   },
   "outputs": [],
   "source": [
    "-- 16. Show all films released after 2005.\n",
    "SELECT title,release_year\n",
    "FROM film\n",
    "WHERE release_year > 2005;"
   ]
  },
  {
   "cell_type": "code",
   "execution_count": null,
   "id": "15e8ab2e",
   "metadata": {
    "vscode": {
     "languageId": "sql"
    }
   },
   "outputs": [],
   "source": [
    "-- 17. List all cities in the ‘USA’.\n",
    "SELECT city\n",
    "FROM city\n",
    "WHERE country_id = (\n",
    "\tSELECT country_id\n",
    "\tFROM country\n",
    "\tWHERE country = 'United States');"
   ]
  },
  {
   "cell_type": "code",
   "execution_count": null,
   "id": "e74e446a",
   "metadata": {
    "vscode": {
     "languageId": "sql"
    }
   },
   "outputs": [],
   "source": [
    "-- 18. Find all addresses without a postal code.\n",
    "SELECT *\n",
    "FROM address\n",
    "WHERE postal_code = '' OR postal_code IS NULL;"
   ]
  },
  {
   "cell_type": "code",
   "execution_count": null,
   "id": "a2a26717",
   "metadata": {
    "vscode": {
     "languageId": "sql"
    }
   },
   "outputs": [],
   "source": [
    "-- 19. Show all categories sorted alphabetically.\n",
    "SELECT *\n",
    "FROM category\n",
    "ORDER BY name;"
   ]
  },
  {
   "cell_type": "code",
   "execution_count": null,
   "id": "27d31bbd",
   "metadata": {
    "vscode": {
     "languageId": "sql"
    }
   },
   "outputs": [],
   "source": [
    "-- 20. Display all staff usernames.\n",
    "SELECT username\n",
    "FROM staff;"
   ]
  },
  {
   "cell_type": "code",
   "execution_count": null,
   "id": "8b7acf86",
   "metadata": {
    "vscode": {
     "languageId": "sql"
    }
   },
   "outputs": [],
   "source": [
    "-- 21. Find customers from the city ‘London’.\n",
    "SELECT c.first_name, c.last_name\n",
    "FROM customer c\n",
    "JOIN address a ON c.address_id = a.address_id\n",
    "JOIN city ct ON a.city_id = ct.city_id\n",
    "WHERE ct.city = 'London';"
   ]
  },
  {
   "cell_type": "code",
   "execution_count": null,
   "id": "bf8724f4",
   "metadata": {
    "vscode": {
     "languageId": "sql"
    }
   },
   "outputs": [],
   "source": [
    "-- 22. List films with rental rates between 2 and 5.\n",
    "SELECT title,rental_rate\n",
    "FROM film\n",
    "WHERE rental_rate BETWEEN 2 AND 5;"
   ]
  },
  {
   "cell_type": "code",
   "execution_count": null,
   "id": "d00ec0a5",
   "metadata": {
    "vscode": {
     "languageId": "sql"
    }
   },
   "outputs": [],
   "source": [
    "-- 23. Find all films with the title containing ‘Love’.\n",
    "SELECT title\n",
    "FROM film\n",
    "WHERE title ILIKE '%Love%';"
   ]
  },
  {
   "cell_type": "code",
   "execution_count": null,
   "id": "2e8f4757",
   "metadata": {
    "vscode": {
     "languageId": "sql"
    }
   },
   "outputs": [],
   "source": [
    "-- 24. Show all rentals where the return date is NULL.\n",
    "SELECT *\n",
    "FROM rental\n",
    "WHERE return_date IS NULL;"
   ]
  },
  {
   "cell_type": "code",
   "execution_count": null,
   "id": "f951e47d",
   "metadata": {
    "vscode": {
     "languageId": "sql"
    }
   },
   "outputs": [],
   "source": [
    "-- 25. Find all payments greater than 5.    \n",
    "SELECT *\n",
    "FROM payment\n",
    "WHERE amount > 5;"
   ]
  },
  {
   "cell_type": "code",
   "execution_count": null,
   "id": "a8759e18",
   "metadata": {
    "vscode": {
     "languageId": "sql"
    }
   },
   "outputs": [],
   "source": [
    "-- 26. List all customers created in 2006.\n",
    "SELECT customer_id, first_name, last_name, create_date\n",
    "FROM customer\n",
    "WHERE DATE_PART('year', create_date) = 2006;"
   ]
  },
  {
   "cell_type": "code",
   "execution_count": null,
   "id": "90aecc5c",
   "metadata": {
    "vscode": {
     "languageId": "sql"
    }
   },
   "outputs": [],
   "source": [
    "-- 27. Show all addresses in district ‘Texas’.\n",
    "SELECT *\n",
    "FROM address\n",
    "WHERE district = 'Texas';"
   ]
  },
  {
   "cell_type": "code",
   "execution_count": null,
   "id": "3922b7e2",
   "metadata": {
    "vscode": {
     "languageId": "sql"
    }
   },
   "outputs": [],
   "source": [
    "-- 28. List all staff members with active = true.\n",
    "SELECT *\n",
    "FROM staff\n",
    "WHERE active = true;"
   ]
  },
  {
   "cell_type": "code",
   "execution_count": null,
   "id": "e80eeae7",
   "metadata": {
    "vscode": {
     "languageId": "sql"
    }
   },
   "outputs": [],
   "source": [
    "-- 29. Show all films with special features including ‘Deleted Scenes’.\n",
    "SELECT title, special_features\n",
    "FROM film\n",
    "WHERE special_features @> ARRAY['Deleted Scenes'];\n"
   ]
  },
  {
   "cell_type": "code",
   "execution_count": null,
   "id": "8fd4626d",
   "metadata": {
    "vscode": {
     "languageId": "sql"
    }
   },
   "outputs": [],
   "source": [
    "-- 30. Display all categories except ‘Horror’.\n",
    "SELECT *\n",
    "FROM category\n",
    "WHERE name NOT IN ('Horror');\t"
   ]
  },
  {
   "cell_type": "code",
   "execution_count": null,
   "id": "de317b8c",
   "metadata": {
    "vscode": {
     "languageId": "sql"
    }
   },
   "outputs": [],
   "source": [
    "-- 31. List all customers whose first name has 4 letters.\n",
    "SELECT first_name, last_name\n",
    "FROM customer\n",
    "WHERE LENGTH(first_name) = 4;"
   ]
  },
  {
   "cell_type": "code",
   "execution_count": null,
   "id": "a0c87cd4",
   "metadata": {
    "vscode": {
     "languageId": "sql"
    }
   },
   "outputs": [],
   "source": [
    "-- 32. Find all films with rating in (‘PG’, ‘R’).\n",
    "SELECT title, rating\n",
    "FROM film\n",
    "WHERE rating IN ('PG', 'R');"
   ]
  },
  {
   "cell_type": "code",
   "execution_count": null,
   "id": "cb39f6ad",
   "metadata": {
    "vscode": {
     "languageId": "sql"
    }
   },
   "outputs": [],
   "source": [
    "-- 33. Show all customers whose last name ends with ‘son’.\n",
    "SELECT first_name, last_name\n",
    "FROM customer\n",
    "WHERE last_name ILIKE '%son' ;"
   ]
  },
  {
   "cell_type": "code",
   "execution_count": null,
   "id": "e167a377",
   "metadata": {
    "vscode": {
     "languageId": "sql"
    }
   },
   "outputs": [],
   "source": [
    "-- 34. Display all payments made on weekends.\n",
    "SELECT *, TO_CHAR(payment_date, 'Day') AS day_name\n",
    "FROM payment\n",
    "WHERE EXTRACT(DOW FROM payment_date) IN (0, 6);"
   ]
  },
  {
   "cell_type": "code",
   "execution_count": null,
   "id": "6ebc7292",
   "metadata": {
    "vscode": {
     "languageId": "sql"
    }
   },
   "outputs": [],
   "source": [
    "-- 35. List all rentals that occurred in the month of May.\n",
    "SELECT *\n",
    "FROM payment\n",
    "WHERE EXTRACT(Month FROM payment_date) = 05;"
   ]
  },
  {
   "cell_type": "code",
   "execution_count": null,
   "id": "6b8b302e",
   "metadata": {
    "vscode": {
     "languageId": "sql"
    }
   },
   "outputs": [],
   "source": [
    "-- 36. Show all films not rented yet.\n",
    "SELECT f.film_id, f.title\n",
    "FROM film f\n",
    "WHERE f.film_id NOT IN (\n",
    "    SELECT i.film_id\n",
    "    FROM inventory i\n",
    "    JOIN rental r ON i.inventory_id = r.inventory_id\n",
    ");"
   ]
  },
  {
   "cell_type": "code",
   "execution_count": null,
   "id": "a3369493",
   "metadata": {
    "vscode": {
     "languageId": "sql"
    }
   },
   "outputs": [],
   "source": [
    "-- 37. Find customers who do not have an email.\n",
    "SELECT customer_id, first_name, last_name\n",
    "FROM customer   \n",
    "WHERE email IS NULL OR email = '';"
   ]
  },
  {
   "cell_type": "code",
   "execution_count": null,
   "id": "7ec7bba0",
   "metadata": {
    "vscode": {
     "languageId": "sql"
    }
   },
   "outputs": [],
   "source": [
    "-- 38. List all inventory items in store 1.\n",
    "SELECT *\n",
    "FROM inventory\n",
    "WHERE store_id = 1;"
   ]
  },
  {
   "cell_type": "code",
   "execution_count": null,
   "id": "be176acc",
   "metadata": {
    "vscode": {
     "languageId": "sql"
    }
   },
   "outputs": [],
   "source": [
    "-- 39. Display all cities not in the USA.\n",
    "SELECT city\n",
    "FROM city\n",
    "WHERE country_id NOT IN (\n",
    "\tSELECT country_id\n",
    "\tFROM country\n",
    "\tWHERE country = 'United States');"
   ]
  },
  {
   "cell_type": "code",
   "execution_count": null,
   "id": "cbad2608",
   "metadata": {
    "vscode": {
     "languageId": "sql"
    }
   },
   "outputs": [],
   "source": [
    "-- 40. Show all films released in or after 2004 but before 2007.\n",
    "SELECT title,release_year\n",
    "FROM film\n",
    "WHERE release_year BETWEEN 2004 AND 2006;"
   ]
  }
 ],
 "metadata": {
  "kernelspec": {
   "display_name": "Python 3",
   "language": "python",
   "name": "python3"
  },
  "language_info": {
   "codemirror_mode": {
    "name": "ipython",
    "version": 3
   },
   "file_extension": ".py",
   "mimetype": "text/x-python",
   "name": "python",
   "nbconvert_exporter": "python",
   "pygments_lexer": "ipython3",
   "version": "3.13.5"
  }
 },
 "nbformat": 4,
 "nbformat_minor": 5
}
