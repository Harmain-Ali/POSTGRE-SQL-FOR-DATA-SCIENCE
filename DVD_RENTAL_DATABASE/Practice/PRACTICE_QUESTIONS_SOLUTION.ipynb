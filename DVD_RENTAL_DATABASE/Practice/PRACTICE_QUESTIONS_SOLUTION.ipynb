{
 "cells": [
  {
   "cell_type": "markdown",
   "id": "5067376c",
   "metadata": {},
   "source": [
    "<div style=\"\n",
    "    font-family: 'Roboto', sans-serif;\n",
    "    color: white;\n",
    "    background-color: #AF0404;\n",
    "    padding: 1%;\n",
    "    border-radius: 10px;\n",
    "    font-size: 2em;\n",
    "    text-align: center;\n",
    "\">\n",
    "DVD RENTAL DB PRACTICE\n",
    "</div>\n"
   ]
  },
  {
   "cell_type": "markdown",
   "id": "33b29806",
   "metadata": {},
   "source": [
    "\n",
    "<div style=\"\n",
    "    color: black;\n",
    "    background-color: #f0f0f0ff;\n",
    "    border-radius: 10px;\n",
    "    padding: 1%;\n",
    "    font-size: 1em;\n",
    "    border: 1px solid #3f37c9;\n",
    "\">\n",
    "    📍 <b>NOTE</b>: This notebook is intended to:\n",
    "    <ul>\n",
    "        <li>Provide solutions to the practice questions of dvdrental database.</li>\n",
    "    </ul>\n",
    "</div>\n"
   ]
  },
  {
   "cell_type": "markdown",
   "id": "d7861e41",
   "metadata": {},
   "source": [
    "\n",
    "<div style=\"\n",
    "    color: black;\n",
    "    background-color: #f0f0f0ff;\n",
    "    border-radius: 10px;\n",
    "    padding: 1%;\n",
    "    font-size: 1em;\n",
    "    border: 1px solid #3f37c9;\n",
    "\">\n",
    "    <li> To setup dvdrental database see setup guide in the setup folder!</li>\n",
    "</div>\n"
   ]
  },
  {
   "cell_type": "code",
   "execution_count": null,
   "id": "bec4cb9e",
   "metadata": {
    "vscode": {
     "languageId": "sql"
    }
   },
   "outputs": [],
   "source": [
    "-- 1. List all customers.\n",
    "SELECT * FROM customers;"
   ]
  },
  {
   "cell_type": "code",
   "execution_count": null,
   "id": "61ca2b24",
   "metadata": {
    "vscode": {
     "languageId": "sql"
    }
   },
   "outputs": [],
   "source": [
    "-- 2. Show first and last names of all actors.\n",
    "SELECT first_name, last_name\n",
    "FROM actor;"
   ]
  },
  {
   "cell_type": "code",
   "execution_count": null,
   "id": "ce02214c",
   "metadata": {
    "vscode": {
     "languageId": "sql"
    }
   },
   "outputs": [],
   "source": [
    "-- 3. Display all films with their rental rates.\n",
    "SELECT title,rental_rate\n",
    "FROM film;"
   ]
  },
  {
   "cell_type": "code",
   "execution_count": null,
   "id": "d7ed9858",
   "metadata": {
    "vscode": {
     "languageId": "sql"
    }
   },
   "outputs": [],
   "source": [
    "-- 4. Find all active customers.\n",
    "SELECT first_name, last_name,active\n",
    "FROM customer\n",
    "WHERE active = 1;"
   ]
  },
  {
   "cell_type": "code",
   "execution_count": null,
   "id": "39c1621d",
   "metadata": {
    "vscode": {
     "languageId": "sql"
    }
   },
   "outputs": [],
   "source": [
    "-- 4. Find all active customers.\n",
    "SELECT first_name, email\n",
    "FROM customer;"
   ]
  },
  {
   "cell_type": "code",
   "execution_count": null,
   "id": "f2daecd1",
   "metadata": {
    "vscode": {
     "languageId": "sql"
    }
   },
   "outputs": [],
   "source": [
    "-- 5. Show the email addresses of all customers.\n",
    "SELECT first_name, email\n",
    "FROM customer;"
   ]
  },
  {
   "cell_type": "code",
   "execution_count": null,
   "id": "d1a92e6e",
   "metadata": {
    "vscode": {
     "languageId": "sql"
    }
   },
   "outputs": [],
   "source": [
    "-- 6. List all films with a rating of ‘PG’.\n",
    "SELECT title,rating\n",
    "FROM film\n",
    "WHERE rating = 'PG';"
   ]
  },
  {
   "cell_type": "code",
   "execution_count": null,
   "id": "af2c5c06",
   "metadata": {
    "vscode": {
     "languageId": "sql"
    }
   },
   "outputs": [],
   "source": [
    "-- 7. Find all categories.\n",
    "SELECT name\n",
    "FROM category;"
   ]
  },
  {
   "cell_type": "code",
   "execution_count": null,
   "id": "6217a8bf",
   "metadata": {
    "vscode": {
     "languageId": "sql"
    }
   },
   "outputs": [],
   "source": [
    "-- 8. Show the names of all staff members.\n",
    "SELECT name\n",
    "FROM staff;"
   ]
  },
  {
   "cell_type": "code",
   "execution_count": null,
   "id": "df471043",
   "metadata": {
    "vscode": {
     "languageId": "sql"
    }
   },
   "outputs": [],
   "source": [
    "-- 9. Display all stores.\n",
    "SELECT * \n",
    "FROM store;"
   ]
  },
  {
   "cell_type": "code",
   "execution_count": null,
   "id": "386c1ab2",
   "metadata": {
    "vscode": {
     "languageId": "sql"
    }
   },
   "outputs": [],
   "source": [
    "-- 10. Find all films longer than 100 minutes.\n",
    "SELECT title,length\n",
    "FROM film\n",
    "WHERE length > 100;"
   ]
  },
  {
   "cell_type": "code",
   "execution_count": null,
   "id": "8c9c87ea",
   "metadata": {
    "vscode": {
     "languageId": "sql"
    }
   },
   "outputs": [],
   "source": [
    "-- 11. Display all rentals made on ‘2005-05-24’.\n",
    "SELECT * \n",
    "FROM rental \n",
    "WHERE DATE(rental_date) = '2005-05-24';"
   ]
  },
  {
   "cell_type": "code",
   "execution_count": null,
   "id": "113c5678",
   "metadata": {
    "vscode": {
     "languageId": "sql"
    }
   },
   "outputs": [],
   "source": [
    "-- 12. List all distinct rental durations from films.\n",
    "SELECT DISTINCT rental_duration\n",
    "FROM film;"
   ]
  },
  {
   "cell_type": "code",
   "execution_count": null,
   "id": "af214c8f",
   "metadata": {
    "vscode": {
     "languageId": "sql"
    }
   },
   "outputs": [],
   "source": [
    "-- 13. Show all films that have a replacement cost greater than 20.\n",
    "SELECT title,replacement_cost\n",
    "FROM film\n",
    "WHERE replacement_cost > 20;"
   ]
  },
  {
   "cell_type": "code",
   "execution_count": null,
   "id": "1a6d4cc8",
   "metadata": {
    "vscode": {
     "languageId": "sql"
    }
   },
   "outputs": [],
   "source": [
    "-- 14. Display first 10 rows from the film table.\n",
    "SELECT *\n",
    "FROM film\n",
    "LIMIT 10;"
   ]
  },
  {
   "cell_type": "code",
   "execution_count": null,
   "id": "9ebc9e30",
   "metadata": {
    "vscode": {
     "languageId": "sql"
    }
   },
   "outputs": [],
   "source": [
    "-- 15. List all customers whose last name starts with ‘S’.\n",
    "SELECT first_name, last_name\n",
    "FROM customer\n",
    "WHERE last_name LIKE 'S%';"
   ]
  },
  {
   "cell_type": "code",
   "execution_count": null,
   "id": "c353aa51",
   "metadata": {
    "vscode": {
     "languageId": "sql"
    }
   },
   "outputs": [],
   "source": [
    "-- 16. Show all films released after 2005.\n",
    "SELECT title,release_year\n",
    "FROM film\n",
    "WHERE release_year > 2005;"
   ]
  },
  {
   "cell_type": "code",
   "execution_count": null,
   "id": "15e8ab2e",
   "metadata": {
    "vscode": {
     "languageId": "sql"
    }
   },
   "outputs": [],
   "source": [
    "-- 17. List all cities in the ‘USA’.\n",
    "SELECT city\n",
    "FROM city\n",
    "WHERE country_id = (\n",
    "\tSELECT country_id\n",
    "\tFROM country\n",
    "\tWHERE country = 'United States');"
   ]
  },
  {
   "cell_type": "code",
   "execution_count": null,
   "id": "e74e446a",
   "metadata": {
    "vscode": {
     "languageId": "sql"
    }
   },
   "outputs": [],
   "source": [
    "-- 18. Find all addresses without a postal code.\n",
    "SELECT *\n",
    "FROM address\n",
    "WHERE postal_code = '' OR postal_code IS NULL;"
   ]
  },
  {
   "cell_type": "code",
   "execution_count": null,
   "id": "a2a26717",
   "metadata": {
    "vscode": {
     "languageId": "sql"
    }
   },
   "outputs": [],
   "source": [
    "-- 19. Show all categories sorted alphabetically.\n",
    "SELECT *\n",
    "FROM category\n",
    "ORDER BY name;"
   ]
  },
  {
   "cell_type": "code",
   "execution_count": null,
   "id": "27d31bbd",
   "metadata": {
    "vscode": {
     "languageId": "sql"
    }
   },
   "outputs": [],
   "source": [
    "-- 20. Display all staff usernames.\n",
    "SELECT username\n",
    "FROM staff;"
   ]
  },
  {
   "cell_type": "code",
   "execution_count": null,
   "id": "8b7acf86",
   "metadata": {
    "vscode": {
     "languageId": "sql"
    }
   },
   "outputs": [],
   "source": [
    "-- 21. Find customers from the city ‘London’.\n",
    "SELECT c.first_name, c.last_name\n",
    "FROM customer c\n",
    "JOIN address a ON c.address_id = a.address_id\n",
    "JOIN city ct ON a.city_id = ct.city_id\n",
    "WHERE ct.city = 'London';"
   ]
  },
  {
   "cell_type": "code",
   "execution_count": null,
   "id": "bf8724f4",
   "metadata": {
    "vscode": {
     "languageId": "sql"
    }
   },
   "outputs": [],
   "source": [
    "-- 22. List films with rental rates between 2 and 5.\n",
    "SELECT title,rental_rate\n",
    "FROM film\n",
    "WHERE rental_rate BETWEEN 2 AND 5;"
   ]
  },
  {
   "cell_type": "code",
   "execution_count": null,
   "id": "d00ec0a5",
   "metadata": {
    "vscode": {
     "languageId": "sql"
    }
   },
   "outputs": [],
   "source": [
    "-- 23. Find all films with the title containing ‘Love’.\n",
    "SELECT title\n",
    "FROM film\n",
    "WHERE title ILIKE '%Love%';"
   ]
  },
  {
   "cell_type": "code",
   "execution_count": null,
   "id": "2e8f4757",
   "metadata": {
    "vscode": {
     "languageId": "sql"
    }
   },
   "outputs": [],
   "source": [
    "-- 24. Show all rentals where the return date is NULL.\n",
    "SELECT *\n",
    "FROM rental\n",
    "WHERE return_date IS NULL;"
   ]
  },
  {
   "cell_type": "code",
   "execution_count": null,
   "id": "f951e47d",
   "metadata": {
    "vscode": {
     "languageId": "sql"
    }
   },
   "outputs": [],
   "source": [
    "-- 25. Find all payments greater than 5.    \n",
    "SELECT *\n",
    "FROM payment\n",
    "WHERE amount > 5;"
   ]
  },
  {
   "cell_type": "code",
   "execution_count": null,
   "id": "a8759e18",
   "metadata": {
    "vscode": {
     "languageId": "sql"
    }
   },
   "outputs": [],
   "source": [
    "-- 26. List all customers created in 2006.\n",
    "SELECT customer_id, first_name, last_name, create_date\n",
    "FROM customer\n",
    "WHERE DATE_PART('year', create_date) = 2006;"
   ]
  },
  {
   "cell_type": "code",
   "execution_count": null,
   "id": "90aecc5c",
   "metadata": {
    "vscode": {
     "languageId": "sql"
    }
   },
   "outputs": [],
   "source": [
    "-- 27. Show all addresses in district ‘Texas’.\n",
    "SELECT *\n",
    "FROM address\n",
    "WHERE district = 'Texas';"
   ]
  },
  {
   "cell_type": "code",
   "execution_count": null,
   "id": "3922b7e2",
   "metadata": {
    "vscode": {
     "languageId": "sql"
    }
   },
   "outputs": [],
   "source": [
    "-- 28. List all staff members with active = true.\n",
    "SELECT *\n",
    "FROM staff\n",
    "WHERE active = true;"
   ]
  },
  {
   "cell_type": "code",
   "execution_count": null,
   "id": "e80eeae7",
   "metadata": {
    "vscode": {
     "languageId": "sql"
    }
   },
   "outputs": [],
   "source": [
    "-- 29. Show all films with special features including ‘Deleted Scenes’.\n",
    "SELECT title, special_features\n",
    "FROM film\n",
    "WHERE special_features @> ARRAY['Deleted Scenes'];\n"
   ]
  },
  {
   "cell_type": "code",
   "execution_count": null,
   "id": "8fd4626d",
   "metadata": {
    "vscode": {
     "languageId": "sql"
    }
   },
   "outputs": [],
   "source": [
    "-- 30. Display all categories except ‘Horror’.\n",
    "SELECT *\n",
    "FROM category\n",
    "WHERE name NOT IN ('Horror');\t"
   ]
  },
  {
   "cell_type": "code",
   "execution_count": null,
   "id": "de317b8c",
   "metadata": {
    "vscode": {
     "languageId": "sql"
    }
   },
   "outputs": [],
   "source": [
    "-- 31. List all customers whose first name has 4 letters.\n",
    "SELECT first_name, last_name\n",
    "FROM customer\n",
    "WHERE LENGTH(first_name) = 4;"
   ]
  },
  {
   "cell_type": "code",
   "execution_count": null,
   "id": "a0c87cd4",
   "metadata": {
    "vscode": {
     "languageId": "sql"
    }
   },
   "outputs": [],
   "source": [
    "-- 32. Find all films with rating in (‘PG’, ‘R’).\n",
    "SELECT title, rating\n",
    "FROM film\n",
    "WHERE rating IN ('PG', 'R');"
   ]
  },
  {
   "cell_type": "code",
   "execution_count": null,
   "id": "cb39f6ad",
   "metadata": {
    "vscode": {
     "languageId": "sql"
    }
   },
   "outputs": [],
   "source": [
    "-- 33. Show all customers whose last name ends with ‘son’.\n",
    "SELECT first_name, last_name\n",
    "FROM customer\n",
    "WHERE last_name ILIKE '%son' ;"
   ]
  },
  {
   "cell_type": "code",
   "execution_count": null,
   "id": "e167a377",
   "metadata": {
    "vscode": {
     "languageId": "sql"
    }
   },
   "outputs": [],
   "source": [
    "-- 34. Display all payments made on weekends.\n",
    "SELECT *, TO_CHAR(payment_date, 'Day') AS day_name\n",
    "FROM payment\n",
    "WHERE EXTRACT(DOW FROM payment_date) IN (0, 6);"
   ]
  },
  {
   "cell_type": "code",
   "execution_count": null,
   "id": "6ebc7292",
   "metadata": {
    "vscode": {
     "languageId": "sql"
    }
   },
   "outputs": [],
   "source": [
    "-- 35. List all rentals that occurred in the month of May.\n",
    "SELECT *\n",
    "FROM payment\n",
    "WHERE EXTRACT(Month FROM payment_date) = 05;"
   ]
  },
  {
   "cell_type": "code",
   "execution_count": null,
   "id": "6b8b302e",
   "metadata": {
    "vscode": {
     "languageId": "sql"
    }
   },
   "outputs": [],
   "source": [
    "-- 36. Show all films not rented yet.\n",
    "SELECT f.film_id, f.title\n",
    "FROM film f\n",
    "WHERE f.film_id NOT IN (\n",
    "    SELECT i.film_id\n",
    "    FROM inventory i\n",
    "    JOIN rental r ON i.inventory_id = r.inventory_id\n",
    ");"
   ]
  },
  {
   "cell_type": "code",
   "execution_count": null,
   "id": "a3369493",
   "metadata": {
    "vscode": {
     "languageId": "sql"
    }
   },
   "outputs": [],
   "source": [
    "-- 37. Find customers who do not have an email.\n",
    "SELECT customer_id, first_name, last_name\n",
    "FROM customer   \n",
    "WHERE email IS NULL OR email = '';"
   ]
  },
  {
   "cell_type": "code",
   "execution_count": null,
   "id": "7ec7bba0",
   "metadata": {
    "vscode": {
     "languageId": "sql"
    }
   },
   "outputs": [],
   "source": [
    "-- 38. List all inventory items in store 1.\n",
    "SELECT *\n",
    "FROM inventory\n",
    "WHERE store_id = 1;"
   ]
  },
  {
   "cell_type": "code",
   "execution_count": null,
   "id": "be176acc",
   "metadata": {
    "vscode": {
     "languageId": "sql"
    }
   },
   "outputs": [],
   "source": [
    "-- 39. Display all cities not in the USA.\n",
    "SELECT city\n",
    "FROM city\n",
    "WHERE country_id NOT IN (\n",
    "\tSELECT country_id\n",
    "\tFROM country\n",
    "\tWHERE country = 'United States');"
   ]
  },
  {
   "cell_type": "code",
   "execution_count": null,
   "id": "cbad2608",
   "metadata": {
    "vscode": {
     "languageId": "sql"
    }
   },
   "outputs": [],
   "source": [
    "-- 40. Show all films released in or after 2004 but before 2007.\n",
    "SELECT title,release_year\n",
    "FROM film\n",
    "WHERE release_year BETWEEN 2004 AND 2006;"
   ]
  },
  {
   "cell_type": "code",
   "execution_count": null,
   "id": "8e4a7e38",
   "metadata": {
    "vscode": {
     "languageId": "sql"
    }
   },
   "outputs": [],
   "source": [
    "-- 41. Show the top 10 most expensive films.\n",
    "SELECT film_id, title, rental_rate\n",
    "FROM film\n",
    "ORDER BY rental_rate DESC\n",
    "LIMIT 10;"
   ]
  },
  {
   "cell_type": "code",
   "execution_count": null,
   "id": "dda2e207",
   "metadata": {
    "vscode": {
     "languageId": "sql"
    }
   },
   "outputs": [],
   "source": [
    "-- 42. List the 5 earliest rentals.\n",
    "SELECT rental_id, rental_date, inventory_id, customer_id\n",
    "FROM rental\n",
    "ORDER BY rental_date ASC\n",
    "LIMIT 5;"
   ]
  },
  {
   "cell_type": "code",
   "execution_count": null,
   "id": "ab30e5fd",
   "metadata": {
    "vscode": {
     "languageId": "sql"
    }
   },
   "outputs": [],
   "source": [
    "-- 43. Display the 10 latest payment transactions.\n",
    "SELECT payment_id, customer_id, amount, payment_date\n",
    "FROM payment\n",
    "ORDER BY payment_date DESC\n",
    "LIMIT 10;"
   ]
  },
  {
   "cell_type": "code",
   "execution_count": null,
   "id": "51751630",
   "metadata": {
    "vscode": {
     "languageId": "sql"
    }
   },
   "outputs": [],
   "source": [
    "-- 44. List customers sorted by last name in descending order.\n",
    "SELECT customer_id, first_name, last_name\n",
    "FROM customer\n",
    "ORDER BY last_name DESC;"
   ]
  },
  {
   "cell_type": "code",
   "execution_count": null,
   "id": "fc798d30",
   "metadata": {
    "vscode": {
     "languageId": "sql"
    }
   },
   "outputs": [],
   "source": [
    "-- 45. Show 20 films with the shortest length.\n",
    "SELECT film_id, title, length\n",
    "FROM film\n",
    "ORDER BY length ASC\n",
    "LIMIT 20;"
   ]
  },
  {
   "cell_type": "code",
   "execution_count": null,
   "id": "204a14ec",
   "metadata": {
    "vscode": {
     "languageId": "sql"
    }
   },
   "outputs": [],
   "source": [
    "-- 46. Display top 10 customers by first name alphabetically.\n",
    "SELECT customer_id, first_name, last_name\n",
    "FROM customer\n",
    "ORDER BY first_name ASC\n",
    "LIMIT 10;"
   ]
  },
  {
   "cell_type": "code",
   "execution_count": null,
   "id": "25185b97",
   "metadata": {
    "vscode": {
     "languageId": "sql"
    }
   },
   "outputs": [],
   "source": [
    "-- 47. Show the 5 most recent added cities.\n",
    "SELECT city_id, city, country_id\n",
    "FROM city\n",
    "ORDER BY city_id DESC\n",
    "LIMIT 5;"
   ]
  },
  {
   "cell_type": "code",
   "execution_count": null,
   "id": "42fffbfa",
   "metadata": {
    "vscode": {
     "languageId": "sql"
    }
   },
   "outputs": [],
   "source": [
    "-- 48. Display the highest rental\\_rate films first.\n",
    "SELECT film_id, title, rental_rate\n",
    "FROM film\n",
    "ORDER BY rental_rate DESC;"
   ]
  },
  {
   "cell_type": "code",
   "execution_count": null,
   "id": "7210ddf5",
   "metadata": {
    "vscode": {
     "languageId": "sql"
    }
   },
   "outputs": [],
   "source": [
    "-- 49. Show the oldest 3 staff members by create\\_date.\n",
    "SELECT staff_id, first_name, last_name, create_date\n",
    "FROM staff\n",
    "ORDER BY create_date ASC\n",
    "LIMIT 3;"
   ]
  },
  {
   "cell_type": "code",
   "execution_count": null,
   "id": "ca15aa20",
   "metadata": {
    "vscode": {
     "languageId": "sql"
    }
   },
   "outputs": [],
   "source": [
    "-- 50. List 15 random films.\n",
    "SELECT film_id, title\n",
    "FROM film\n",
    "ORDER BY RANDOM()\n",
    "LIMIT 15;"
   ]
  },
  {
   "cell_type": "code",
   "execution_count": null,
   "id": "819f6bd6",
   "metadata": {
    "vscode": {
     "languageId": "sql"
    }
   },
   "outputs": [],
   "source": [
    "-- 51. Show films and their language names.\n",
    "SELECT f.title, l.name\n",
    "FROM film f\n",
    "JOIN language l ON f.language_id = l.language_id;"
   ]
  },
  {
   "cell_type": "code",
   "execution_count": null,
   "id": "faae16a6",
   "metadata": {
    "vscode": {
     "languageId": "sql"
    }
   },
   "outputs": [],
   "source": [
    "-- 52. List customers with their city names.\n",
    "SELECT cu.first_name, ci.city\n",
    "FROM customer cu\n",
    "JOIN address ad ON cu.address_id = ad.address_id\n",
    "JOIN city ci ON ad.city_id = ci.city_id;"
   ]
  },
  {
   "cell_type": "code",
   "execution_count": null,
   "id": "aaeccd1b",
   "metadata": {
    "vscode": {
     "languageId": "sql"
    }
   },
   "outputs": [],
   "source": [
    "-- 53. Show rentals with the corresponding film title.\n",
    "SELECT f.title, re.rental_id \n",
    "FROM film f\n",
    "JOIN inventory inv ON f.film_id = inv.film_id\n",
    "JOIN rental re ON inv.inventory_id = re.inventory_id;"
   ]
  },
  {
   "cell_type": "code",
   "execution_count": null,
   "id": "6f87725e",
   "metadata": {
    "vscode": {
     "languageId": "sql"
    }
   },
   "outputs": [],
   "source": [
    "-- 54. Display all rentals with customer names and staff names.\n",
    "SELECT re.rental_id, cu.first_name AS customer_name, st.first_name AS staff_name\n",
    "FROM rental re\n",
    "JOIN customer cu ON re.customer_id = cu.customer_id\n",
    "JOIN staff st ON re.staff_id = st.staff_id;"
   ]
  },
  {
   "cell_type": "code",
   "execution_count": null,
   "id": "21a80ddf",
   "metadata": {
    "vscode": {
     "languageId": "sql"
    }
   },
   "outputs": [],
   "source": [
    "-- 55. List all films with their category name.\n",
    "SELECT f.title, c.name AS category_name\n",
    "FROM film f\n",
    "JOIN film_category fc ON f.film_id = fc.film_id\n",
    "JOIN category c ON fc.category_id = c.category_id;"
   ]
  },
  {
   "cell_type": "code",
   "execution_count": null,
   "id": "bad36a41",
   "metadata": {
    "vscode": {
     "languageId": "sql"
    }
   },
   "outputs": [],
   "source": [
    "-- 56. Show the category for each film.\n",
    "SELECT f.title, c.name AS category\n",
    "FROM film f\n",
    "JOIN film_category fc ON f.film_id = fc.film_id\n",
    "JOIN category c ON fc.category_id = c.category_id;"
   ]
  },
  {
   "cell_type": "code",
   "execution_count": null,
   "id": "a688386c",
   "metadata": {
    "vscode": {
     "languageId": "sql"
    }
   },
   "outputs": [],
   "source": [
    "-- 57. Display the address of each store.\n",
    "SELECT s.store_id, a.address\n",
    "FROM store s\n",
    "JOIN address a ON s.address_id = a.address_id;"
   ]
  },
  {
   "cell_type": "code",
   "execution_count": null,
   "id": "3524f678",
   "metadata": {
    "vscode": {
     "languageId": "sql"
    }
   },
   "outputs": [],
   "source": [
    "-- 58. List all rentals including film title and rental date.\n",
    "SELECT r.rental_id, f.title, r.rental_date\n",
    "FROM rental r\n",
    "JOIN inventory i ON r.inventory_id = i.inventory_id\n",
    "JOIN film f ON i.film_id = f.film_id;"
   ]
  },
  {
   "cell_type": "code",
   "execution_count": null,
   "id": "3905440f",
   "metadata": {
    "vscode": {
     "languageId": "sql"
    }
   },
   "outputs": [],
   "source": [
    "-- 59. Find all payments with corresponding rental date.\n",
    "SELECT p.payment_id, p.amount, r.rental_date\n",
    "FROM payment p\n",
    "JOIN rental r ON p.rental_id = r.rental_id;"
   ]
  },
  {
   "cell_type": "code",
   "execution_count": null,
   "id": "ebec1a48",
   "metadata": {
    "vscode": {
     "languageId": "sql"
    }
   },
   "outputs": [],
   "source": [
    "-- 60. Show all rentals with customer and store names.\n",
    "SELECT r.rental_id, \n",
    "       c.first_name || ' ' || c.last_name AS customer_name,\n",
    "       s.store_id\n",
    "FROM rental r\n",
    "JOIN customer c ON r.customer_id = c.customer_id\n",
    "JOIN staff st ON r.staff_id = st.staff_id\n",
    "JOIN store s ON st.store_id = s.store_id;"
   ]
  },
  {
   "cell_type": "code",
   "execution_count": null,
   "id": "a41c0c4c",
   "metadata": {
    "vscode": {
     "languageId": "sql"
    }
   },
   "outputs": [],
   "source": [
    "-- 61. List all inventory items with their film title and store.\n",
    "SELECT i.inventory_id, f.title, s.store_id\n",
    "FROM inventory i\n",
    "JOIN film f ON i.film_id = f.film_id\n",
    "JOIN store s ON i.store_id = s.store_id;"
   ]
  },
  {
   "cell_type": "code",
   "execution_count": null,
   "id": "d4080b6d",
   "metadata": {
    "vscode": {
     "languageId": "sql"
    }
   },
   "outputs": [],
   "source": [
    "\n",
    "-- 62. Display all customers with their store manager names.\n",
    "SELECT c.first_name AS customer_first, c.last_name AS customer_last,\n",
    "       m.first_name AS manager_first, m.last_name AS manager_last\n",
    "FROM customer c\n",
    "JOIN store s ON c.store_id = s.store_id\n",
    "JOIN staff m ON s.manager_staff_id = m.staff_id;"
   ]
  },
  {
   "cell_type": "code",
   "execution_count": null,
   "id": "f1876aad",
   "metadata": {
    "vscode": {
     "languageId": "sql"
    }
   },
   "outputs": [],
   "source": [
    "-- 63. Show all actors with the films they acted in.\n",
    "SELECT a.first_name, a.last_name, f.title\n",
    "FROM actor a\n",
    "JOIN film_actor fa ON a.actor_id = fa.actor_id\n",
    "JOIN film f ON fa.film_id = f.film_id;"
   ]
  },
  {
   "cell_type": "code",
   "execution_count": null,
   "id": "046a489e",
   "metadata": {
    "vscode": {
     "languageId": "sql"
    }
   },
   "outputs": [],
   "source": [
    "-- 64. List all payments with customer and staff names.\n",
    "SELECT p.payment_id, p.amount,\n",
    "       c.first_name AS customer_first, c.last_name AS customer_last,\n",
    "       s.first_name AS staff_first, s.last_name AS staff_last\n",
    "FROM payment p\n",
    "JOIN customer c ON p.customer_id = c.customer_id\n",
    "JOIN staff s ON p.staff_id = s.staff_id;"
   ]
  },
  {
   "cell_type": "code",
   "execution_count": null,
   "id": "1263f52b",
   "metadata": {
    "vscode": {
     "languageId": "sql"
    }
   },
   "outputs": [],
   "source": [
    "-- 65. Display each store with its city and country.\n",
    "SELECT s.store_id, ci.city, co.country\n",
    "FROM store s\n",
    "JOIN address a ON s.address_id = a.address_id\n",
    "JOIN city ci ON a.city_id = ci.city_id\n",
    "JOIN country co ON ci.country_id = co.country_id;"
   ]
  },
  {
   "cell_type": "code",
   "execution_count": null,
   "id": "6d754e87",
   "metadata": {
    "vscode": {
     "languageId": "sql"
    }
   },
   "outputs": [],
   "source": [
    "-- 66. Show all staff with their city and country.\n",
    "SELECT st.first_name, st.last_name, ci.city, co.country\n",
    "FROM staff st\n",
    "JOIN address a ON st.address_id = a.address_id\n",
    "JOIN city ci ON a.city_id = ci.city_id\n",
    "JOIN country co ON ci.country_id = co.country_id;"
   ]
  },
  {
   "cell_type": "code",
   "execution_count": null,
   "id": "65a6e9b3",
   "metadata": {
    "vscode": {
     "languageId": "sql"
    }
   },
   "outputs": [],
   "source": [
    "-- 67. List all rentals with film category.\n",
    "SELECT r.rental_id, f.title, c.name AS category\n",
    "FROM rental r\n",
    "JOIN inventory i ON r.inventory_id = i.inventory_id\n",
    "JOIN film f ON i.film_id = f.film_id\n",
    "JOIN film_category fc ON f.film_id = fc.film_id\n",
    "JOIN category c ON fc.category_id = c.category_id;"
   ]
  },
  {
   "cell_type": "code",
   "execution_count": null,
   "id": "4e3b0dd0",
   "metadata": {
    "vscode": {
     "languageId": "sql"
    }
   },
   "outputs": [],
   "source": [
    "-- 68. Display films and all actors in those films.\n",
    "SELECT f.title, a.first_name, a.last_name\n",
    "FROM film f\n",
    "JOIN film_actor fa ON f.film_id = fa.film_id\n",
    "JOIN actor a ON fa.actor_id = a.actor_id;"
   ]
  },
  {
   "cell_type": "code",
   "execution_count": null,
   "id": "ed047ec0",
   "metadata": {
    "vscode": {
     "languageId": "sql"
    }
   },
   "outputs": [],
   "source": [
    "-- 69. Show all films along with their replacement cost and category.\n",
    "SELECT f.title, f.replacement_cost, c.name AS category\n",
    "FROM film f\n",
    "JOIN film_category fc ON f.film_id = fc.film_id\n",
    "JOIN category c ON fc.category_id = c.category_id;"
   ]
  },
  {
   "cell_type": "code",
   "execution_count": null,
   "id": "e90797af",
   "metadata": {
    "vscode": {
     "languageId": "sql"
    }
   },
   "outputs": [],
   "source": [
    "\n",
    "-- 70. Find all rentals where payment was done by staff ‘Mike’.\n",
    "SELECT DISTINCT r.rental_id, f.title\n",
    "FROM rental r\n",
    "JOIN payment p ON r.rental_id = p.rental_id\n",
    "JOIN staff s ON p.staff_id = s.staff_id\n",
    "JOIN inventory i ON r.inventory_id = i.inventory_id\n",
    "JOIN film f ON i.film_id = f.film_id\n",
    "WHERE s.first_name = 'Mike';"
   ]
  },
  {
   "cell_type": "code",
   "execution_count": null,
   "id": "6d7a7664",
   "metadata": {
    "vscode": {
     "languageId": "sql"
    }
   },
   "outputs": [],
   "source": [
    "-- 71. Show films with no category assigned.\n",
    "SELECT f.title\n",
    "FROM film f\n",
    "LEFT JOIN film_category fc ON f.film_id = fc.film_id\n",
    "WHERE fc.category_id IS NULL;"
   ]
  },
  {
   "cell_type": "code",
   "execution_count": null,
   "id": "655a1c33",
   "metadata": {
    "vscode": {
     "languageId": "sql"
    }
   },
   "outputs": [],
   "source": [
    "-- 72. List all categories with the count of films in each.\n",
    "SELECT c.name, COUNT(fc.film_id) AS film_count\n",
    "FROM category c\n",
    "LEFT JOIN film_category fc ON c.category_id = fc.category_id\n",
    "GROUP BY c.name;"
   ]
  },
  {
   "cell_type": "code",
   "execution_count": null,
   "id": "cae11521",
   "metadata": {
    "vscode": {
     "languageId": "sql"
    }
   },
   "outputs": [],
   "source": [
    "-- 73. Show all rentals with the store address.\n",
    "SELECT r.rental_id, a.address\n",
    "FROM rental r\n",
    "JOIN staff st ON r.staff_id = st.staff_id\n",
    "JOIN store s ON st.store_id = s.store_id\n",
    "JOIN address a ON s.address_id = a.address_id;"
   ]
  },
  {
   "cell_type": "code",
   "execution_count": null,
   "id": "2978de55",
   "metadata": {
    "vscode": {
     "languageId": "sql"
    }
   },
   "outputs": [],
   "source": [
    "-- 74. Display all films with rental info and payment amount.\n",
    "SELECT f.title, r.rental_date, p.amount\n",
    "FROM film f\n",
    "JOIN inventory i ON f.film_id = i.film_id\n",
    "JOIN rental r ON i.inventory_id = r.inventory_id\n",
    "JOIN payment p ON r.rental_id = p.rental_id;"
   ]
  },
  {
   "cell_type": "code",
   "execution_count": null,
   "id": "c759f52c",
   "metadata": {
    "vscode": {
     "languageId": "sql"
    }
   },
   "outputs": [],
   "source": [
    "-- 75. List customers who have never made a rental.\n",
    "SELECT c.first_name, c.last_name\n",
    "FROM customer c\n",
    "LEFT JOIN rental r ON c.customer_id = r.customer_id\n",
    "WHERE r.rental_id IS NULL;"
   ]
  },
  {
   "cell_type": "code",
   "execution_count": null,
   "id": "68ca6c19",
   "metadata": {
    "vscode": {
     "languageId": "sql"
    }
   },
   "outputs": [],
   "source": [
    "-- 76. Show all inventory items that have never been rented.\n",
    "SELECT i.inventory_id, f.title\n",
    "FROM inventory i\n",
    "JOIN film f ON i.film_id = f.film_id\n",
    "LEFT JOIN rental r ON i.inventory_id = r.inventory_id\n",
    "WHERE r.rental_id IS NULL;"
   ]
  },
  {
   "cell_type": "code",
   "execution_count": null,
   "id": "9b2fc533",
   "metadata": {
    "vscode": {
     "languageId": "sql"
    }
   },
   "outputs": [],
   "source": [
    "-- 77. Display the last rental of each customer.\n",
    "SELECT c.customer_id, c.first_name, c.last_name, MAX(r.rental_date) AS last_rental\n",
    "FROM customer c\n",
    "JOIN rental r ON c.customer_id = r.customer_id\n",
    "GROUP BY c.customer_id, c.first_name, c.last_name;"
   ]
  },
  {
   "cell_type": "code",
   "execution_count": null,
   "id": "04a1312a",
   "metadata": {
    "vscode": {
     "languageId": "sql"
    }
   },
   "outputs": [],
   "source": [
    "-- 78. Show all customers and total payments they have made.\n",
    "SELECT c.first_name, c.last_name, SUM(p.amount) AS total_payments\n",
    "FROM customer c\n",
    "JOIN payment p ON c.customer_id = p.customer_id\n",
    "GROUP BY c.first_name, c.last_name;"
   ]
  },
  {
   "cell_type": "code",
   "execution_count": null,
   "id": "b9860342",
   "metadata": {
    "vscode": {
     "languageId": "sql"
    }
   },
   "outputs": [],
   "source": [
    "-- 79. List films with more than one category.\n",
    "SELECT f.title, COUNT(fc.category_id) AS category_count\n",
    "FROM film f\n",
    "JOIN film_category fc ON f.film_id = fc.film_id\n",
    "GROUP BY f.title\n",
    "HAVING COUNT(fc.category_id) > 1;"
   ]
  },
  {
   "cell_type": "code",
   "execution_count": null,
   "id": "8d1a7eaa",
   "metadata": {
    "vscode": {
     "languageId": "sql"
    }
   },
   "outputs": [],
   "source": [
    "-- 80. Show films that have never been rented.\n",
    "SELECT f.title\n",
    "FROM film f\n",
    "LEFT JOIN inventory i ON f.film_id = i.film_id\n",
    "LEFT JOIN rental r ON i.inventory_id = r.inventory_id\n",
    "WHERE r.rental_id IS NULL;"
   ]
  },
  {
   "cell_type": "code",
   "execution_count": null,
   "id": "d0d56c32",
   "metadata": {
    "vscode": {
     "languageId": "sql"
    }
   },
   "outputs": [],
   "source": [
    "-- 81. Count total number of films.\n",
    "SELECT COUNT(*) AS total_films\n",
    "FROM film;"
   ]
  },
  {
   "cell_type": "code",
   "execution_count": null,
   "id": "74e1d1ab",
   "metadata": {
    "vscode": {
     "languageId": "sql"
    }
   },
   "outputs": [],
   "source": [
    "-- 82. Count total number of rentals.\n",
    "SELECT COUNT(*) AS total_rentals\n",
    "FROM rental;"
   ]
  },
  {
   "cell_type": "code",
   "execution_count": null,
   "id": "4bb06d7e",
   "metadata": {
    "vscode": {
     "languageId": "sql"
    }
   },
   "outputs": [],
   "source": [
    "-- 83. Count total payments made.\n",
    "SELECT COUNT(*) AS total_payments\n",
    "FROM payment;"
   ]
  },
  {
   "cell_type": "code",
   "execution_count": null,
   "id": "b88788ef",
   "metadata": {
    "vscode": {
     "languageId": "sql"
    }
   },
   "outputs": [],
   "source": [
    "-- 84. Find the maximum rental rate.\n",
    "SELECT MAX(rental_rate) AS max_rental_rate\n",
    "FROM film;"
   ]
  },
  {
   "cell_type": "code",
   "execution_count": null,
   "id": "48c2f417",
   "metadata": {
    "vscode": {
     "languageId": "sql"
    }
   },
   "outputs": [],
   "source": [
    "-- 85. Find the minimum replacement cost.\n",
    "SELECT MIN(replacement_cost) AS min_replacement_cost\n",
    "FROM film;"
   ]
  },
  {
   "cell_type": "code",
   "execution_count": null,
   "id": "8062d60e",
   "metadata": {
    "vscode": {
     "languageId": "sql"
    }
   },
   "outputs": [],
   "source": [
    "-- 86. Calculate the average payment amount.\n",
    "SELECT AVG(amount) AS avg_payment_amount\n",
    "FROM payment;"
   ]
  },
  {
   "cell_type": "code",
   "execution_count": null,
   "id": "4b034d63",
   "metadata": {
    "vscode": {
     "languageId": "sql"
    }
   },
   "outputs": [],
   "source": [
    "-- 87. Count number of active customers.\n",
    "SELECT COUNT(*) AS active_customers\n",
    "FROM customer\n",
    "WHERE active = 1;"
   ]
  },
  {
   "cell_type": "code",
   "execution_count": null,
   "id": "0a4e5510",
   "metadata": {
    "vscode": {
     "languageId": "sql"
    }
   },
   "outputs": [],
   "source": [
    "-- 88. Find the total number of cities per country.\n",
    "SELECT country_id, COUNT(city_id) AS total_cities\n",
    "FROM city\n",
    "GROUP BY country_id;"
   ]
  },
  {
   "cell_type": "code",
   "execution_count": null,
   "id": "0d891dc9",
   "metadata": {
    "vscode": {
     "languageId": "sql"
    }
   },
   "outputs": [],
   "source": [
    "-- 89. Count films per language.\n",
    "SELECT l.name AS language, COUNT(f.film_id) AS total_films\n",
    "FROM film f\n",
    "JOIN language l ON f.language_id = l.language_id\n",
    "GROUP BY l.name;"
   ]
  },
  {
   "cell_type": "code",
   "execution_count": null,
   "id": "95cafd13",
   "metadata": {
    "vscode": {
     "languageId": "sql"
    }
   },
   "outputs": [],
   "source": [
    "-- 90. Find the number of films per rating.\n",
    "SELECT rating, COUNT(*) AS total_films\n",
    "FROM film\n",
    "GROUP BY rating;"
   ]
  },
  {
   "cell_type": "code",
   "execution_count": null,
   "id": "db6a43c1",
   "metadata": {
    "vscode": {
     "languageId": "sql"
    }
   },
   "outputs": [],
   "source": [
    "-- 91. Count the number of rentals per customer.\n",
    "SELECT customer_id, COUNT(rental_id) AS total_rentals\n",
    "FROM rental\n",
    "GROUP BY customer_id;"
   ]
  },
  {
   "cell_type": "code",
   "execution_count": null,
   "id": "6ff6496e",
   "metadata": {
    "vscode": {
     "languageId": "sql"
    }
   },
   "outputs": [],
   "source": [
    "-- 92. Calculate total revenue per customer.\n",
    "SELECT customer_id, SUM(amount) AS total_revenue\n",
    "FROM payment\n",
    "GROUP BY customer_id;"
   ]
  },
  {
   "cell_type": "code",
   "execution_count": null,
   "id": "3e278729",
   "metadata": {
    "vscode": {
     "languageId": "sql"
    }
   },
   "outputs": [],
   "source": [
    "-- 93. Show number of films per category.\n",
    "SELECT c.name AS category, COUNT(fc.film_id) AS total_films\n",
    "FROM category c\n",
    "JOIN film_category fc ON c.category_id = fc.category_id\n",
    "GROUP BY c.name;"
   ]
  },
  {
   "cell_type": "code",
   "execution_count": null,
   "id": "40763158",
   "metadata": {
    "vscode": {
     "languageId": "sql"
    }
   },
   "outputs": [],
   "source": [
    "-- 94. Calculate the total revenue of each store.\n",
    "SELECT i.store_id, SUM(p.amount) AS total_revenue\n",
    "FROM payment p\n",
    "JOIN rental r ON p.rental_id = r.rental_id\n",
    "JOIN inventory i ON r.inventory_id = i.inventory_id\n",
    "GROUP BY i.store_id;"
   ]
  },
  {
   "cell_type": "code",
   "execution_count": null,
   "id": "ecd8b9e0",
   "metadata": {
    "vscode": {
     "languageId": "sql"
    }
   },
   "outputs": [],
   "source": [
    "-- 95. Find the most expensive film per category.\n",
    "SELECT c.name AS category, MAX(f.rental_rate) AS max_rental_rate\n",
    "FROM category c\n",
    "JOIN film_category fc ON c.category_id = fc.category_id\n",
    "JOIN film f ON fc.film_id = f.film_id\n",
    "GROUP BY c.name;"
   ]
  },
  {
   "cell_type": "code",
   "execution_count": null,
   "id": "71c899c2",
   "metadata": {
    "vscode": {
     "languageId": "sql"
    }
   },
   "outputs": [],
   "source": [
    "-- 96. Show the minimum payment made by any customer.\n",
    "SELECT MIN(amount) AS min_payment\n",
    "FROM payment;"
   ]
  },
  {
   "cell_type": "code",
   "execution_count": null,
   "id": "5b69675c",
   "metadata": {
    "vscode": {
     "languageId": "sql"
    }
   },
   "outputs": [],
   "source": [
    "-- 97. Count the number of films per actor.\n",
    "SELECT a.actor_id, a.first_name, a.last_name, COUNT(fa.film_id) AS total_films\n",
    "FROM actor a\n",
    "JOIN film_actor fa ON a.actor_id = fa.actor_id\n",
    "GROUP BY a.actor_id, a.first_name, a.last_name;"
   ]
  },
  {
   "cell_type": "code",
   "execution_count": null,
   "id": "7e07555b",
   "metadata": {
    "vscode": {
     "languageId": "sql"
    }
   },
   "outputs": [],
   "source": [
    "-- 98. Find the total inventory per store.\n",
    "SELECT store_id, COUNT(inventory_id) AS total_inventory\n",
    "FROM inventory\n",
    "GROUP BY store_id;"
   ]
  },
  {
   "cell_type": "code",
   "execution_count": null,
   "id": "31bbf2d1",
   "metadata": {
    "vscode": {
     "languageId": "sql"
    }
   },
   "outputs": [],
   "source": [
    "-- 99. Calculate the sum of all payments in June 2005.\n",
    "SELECT SUM(amount) AS total_payments_june_2005\n",
    "FROM payment\n",
    "WHERE DATE_PART('year', payment_date) = 2005\n",
    "  AND DATE_PART('month', payment_date) = 6;"
   ]
  },
  {
   "cell_type": "code",
   "execution_count": null,
   "id": "cbd5b3f1",
   "metadata": {
    "vscode": {
     "languageId": "sql"
    }
   },
   "outputs": [],
   "source": [
    "-- 100. Count the number of rentals made per staff member.\n",
    "SELECT staff_id, COUNT(rental_id) AS total_rentals\n",
    "FROM rental\n",
    "GROUP BY staff_id;"
   ]
  },
  {
   "cell_type": "code",
   "execution_count": null,
   "id": "daaa83e0",
   "metadata": {
    "vscode": {
     "languageId": "sql"
    }
   },
   "outputs": [],
   "source": [
    "-- 101. Show the number of films in each category.\n",
    "SELECT c.name AS category_name, COUNT(f.film_id) AS film_count\n",
    "FROM category c\n",
    "JOIN film_category fc ON c.category_id = fc.category_id\n",
    "JOIN film f ON fc.film_id = f.film_id\n",
    "GROUP BY c.name;"
   ]
  },
  {
   "cell_type": "code",
   "execution_count": null,
   "id": "c6063cc8",
   "metadata": {
    "vscode": {
     "languageId": "sql"
    }
   },
   "outputs": [],
   "source": [
    "-- 102. Count customers per store.\n",
    "SELECT store_id, COUNT(customer_id) AS customer_count\n",
    "FROM customer\n",
    "GROUP BY store_id;"
   ]
  },
  {
   "cell_type": "code",
   "execution_count": null,
   "id": "533f8fb3",
   "metadata": {
    "vscode": {
     "languageId": "sql"
    }
   },
   "outputs": [],
   "source": [
    "-- 103. Count the number of films per replacement cost.\n",
    "SELECT replacement_cost, COUNT(film_id) AS film_count\n",
    "FROM film\n",
    "GROUP BY replacement_cost;"
   ]
  },
  {
   "cell_type": "code",
   "execution_count": null,
   "id": "4bbc0822",
   "metadata": {
    "vscode": {
     "languageId": "sql"
    }
   },
   "outputs": [],
   "source": [
    "-- 104. Show the average rental rate per category.\n",
    "SELECT c.name AS category_name, AVG(f.rental_rate) AS avg_rental_rate\n",
    "FROM category c\n",
    "JOIN film_category fc ON c.category_id = fc.category_id\n",
    "JOIN film f ON fc.film_id = f.film_id\n",
    "GROUP BY c.name;"
   ]
  },
  {
   "cell_type": "code",
   "execution_count": null,
   "id": "be60aa6e",
   "metadata": {
    "vscode": {
     "languageId": "sql"
    }
   },
   "outputs": [],
   "source": [
    "-- 105. Display total payments per staff member.\n",
    "SELECT staff_id, SUM(amount) AS total_payments\n",
    "FROM payment\n",
    "GROUP BY staff_id;"
   ]
  },
  {
   "cell_type": "code",
   "execution_count": null,
   "id": "09011f84",
   "metadata": {
    "vscode": {
     "languageId": "sql"
    }
   },
   "outputs": [],
   "source": [
    "-- 106. Count films per rating where count > 100.\n",
    "SELECT rating, COUNT(film_id) AS film_count\n",
    "FROM film\n",
    "GROUP BY rating\n",
    "HAVING COUNT(film_id) > 100;"
   ]
  },
  {
   "cell_type": "code",
   "execution_count": null,
   "id": "0330a52d",
   "metadata": {
    "vscode": {
     "languageId": "sql"
    }
   },
   "outputs": [],
   "source": [
    "-- 107. Show the number of rentals per customer where rentals > 5.\n",
    "SELECT customer_id, COUNT(rental_id) AS rental_count\n",
    "FROM rental\n",
    "GROUP BY customer_id\n",
    "HAVING COUNT(rental_id) > 5;"
   ]
  },
  {
   "cell_type": "code",
   "execution_count": null,
   "id": "b4e96cc1",
   "metadata": {
    "vscode": {
     "languageId": "sql"
    }
   },
   "outputs": [],
   "source": [
    "-- 108. List actors with more than 5 films.\n",
    "SELECT a.actor_id, a.first_name, a.last_name, COUNT(fa.film_id) AS film_count\n",
    "FROM actor a\n",
    "JOIN film_actor fa ON a.actor_id = fa.actor_id\n",
    "GROUP BY a.actor_id, a.first_name, a.last_name\n",
    "HAVING COUNT(fa.film_id) > 5;"
   ]
  },
  {
   "cell_type": "code",
   "execution_count": null,
   "id": "19df23b0",
   "metadata": {
    "vscode": {
     "languageId": "sql"
    }
   },
   "outputs": [],
   "source": [
    "-- 109. Display the number of customers per country.\n",
    "SELECT co.country, COUNT(cu.customer_id) AS customer_count\n",
    "FROM country co\n",
    "JOIN city ci ON co.country_id = ci.country_id\n",
    "JOIN address ad ON ci.city_id = ad.city_id\n",
    "JOIN customer cu ON ad.address_id = cu.address_id\n",
    "GROUP BY co.country;"
   ]
  },
  {
   "cell_type": "code",
   "execution_count": null,
   "id": "d50dd125",
   "metadata": {
    "vscode": {
     "languageId": "sql"
    }
   },
   "outputs": [],
   "source": [
    "-- 110. Show top 3 categories by film count.\n",
    "SELECT c.name AS category_name, COUNT(f.film_id) AS film_count\n",
    "FROM category c\n",
    "JOIN film_category fc ON c.category_id = fc.category_id\n",
    "JOIN film f ON fc.film_id = f.film_id\n",
    "GROUP BY c.name\n",
    "ORDER BY film_count DESC\n",
    "LIMIT 3;"
   ]
  },
  {
   "cell_type": "code",
   "execution_count": null,
   "id": "78fb1527",
   "metadata": {
    "vscode": {
     "languageId": "sql"
    }
   },
   "outputs": [],
   "source": [
    "-- 111. Count the number of rentals per day.\n",
    "SELECT DATE(rental_date) AS rental_day, COUNT(rental_id) AS rental_count\n",
    "FROM rental\n",
    "GROUP BY DATE(rental_date);"
   ]
  },
  {
   "cell_type": "code",
   "execution_count": null,
   "id": "851df969",
   "metadata": {
    "vscode": {
     "languageId": "sql"
    }
   },
   "outputs": [],
   "source": [
    "-- 112. Show total payments per day.\n",
    "SELECT DATE(payment_date) AS payment_day, SUM(amount) AS total_payments\n",
    "FROM payment\n",
    "GROUP BY DATE(payment_date);"
   ]
  },
  {
   "cell_type": "code",
   "execution_count": null,
   "id": "612294e6",
   "metadata": {
    "vscode": {
     "languageId": "sql"
    }
   },
   "outputs": [],
   "source": [
    "-- 113. Find the average payment per customer.\n",
    "SELECT customer_id, AVG(amount) AS avg_payment\n",
    "FROM payment\n",
    "GROUP BY customer_id;"
   ]
  },
  {
   "cell_type": "code",
   "execution_count": null,
   "id": "04ff3711",
   "metadata": {
    "vscode": {
     "languageId": "sql"
    }
   },
   "outputs": [],
   "source": [
    "-- 114. Show the number of films per language with > 50 films.\n",
    "SELECT l.name AS language_name, COUNT(f.film_id) AS film_count\n",
    "FROM language l\n",
    "JOIN film f ON l.language_id = f.language_id\n",
    "GROUP BY l.name\n",
    "HAVING COUNT(f.film_id) > 50;"
   ]
  },
  {
   "cell_type": "code",
   "execution_count": null,
   "id": "c23f9c60",
   "metadata": {
    "vscode": {
     "languageId": "sql"
    }
   },
   "outputs": [],
   "source": [
    "-- 115. Display the sum of payments per customer having spent > 50.\n",
    "SELECT customer_id, SUM(amount) AS total_spent\n",
    "FROM payment\n",
    "GROUP BY customer_id\n",
    "HAVING SUM(amount) > 50;"
   ]
  },
  {
   "cell_type": "code",
   "execution_count": null,
   "id": "2668b997",
   "metadata": {
    "vscode": {
     "languageId": "sql"
    }
   },
   "outputs": [],
   "source": [
    "-- 116. Show number of rentals per staff member where rentals > 50.\n",
    "SELECT staff_id, COUNT(rental_id) AS rental_count\n",
    "FROM rental\n",
    "GROUP BY staff_id\n",
    "HAVING COUNT(rental_id) > 50;"
   ]
  },
  {
   "cell_type": "code",
   "execution_count": null,
   "id": "e1e2be34",
   "metadata": {
    "vscode": {
     "languageId": "sql"
    }
   },
   "outputs": [],
   "source": [
    "-- 117. Display total revenue per month.\n",
    "SELECT DATE_TRUNC('month', payment_date) AS month, SUM(amount) AS total_revenue\n",
    "FROM payment\n",
    "GROUP BY DATE_TRUNC('month', payment_date)\n",
    "ORDER BY month;"
   ]
  },
  {
   "cell_type": "code",
   "execution_count": null,
   "id": "d3fbfd03",
   "metadata": {
    "vscode": {
     "languageId": "sql"
    }
   },
   "outputs": [],
   "source": [
    "-- 118. Count films per actor where count >= 10.\n",
    "SELECT a.actor_id, a.first_name, a.last_name, COUNT(fa.film_id) AS film_count\n",
    "FROM actor a\n",
    "JOIN film_actor fa ON a.actor_id = fa.actor_id\n",
    "GROUP BY a.actor_id, a.first_name, a.last_name\n",
    "HAVING COUNT(fa.film_id) >= 10;"
   ]
  },
  {
   "cell_type": "code",
   "execution_count": null,
   "id": "1e9f5394",
   "metadata": {
    "vscode": {
     "languageId": "sql"
    }
   },
   "outputs": [],
   "source": [
    "-- 119. Show categories with more than 20 films.\n",
    "SELECT c.name AS category_name, COUNT(f.film_id) AS film_count\n",
    "FROM category c\n",
    "JOIN film_category fc ON c.category_id = fc.category_id\n",
    "JOIN film f ON fc.film_id = f.film_id\n",
    "GROUP BY c.name\n",
    "HAVING COUNT(f.film_id) > 20;"
   ]
  },
  {
   "cell_type": "code",
   "execution_count": null,
   "id": "61949ff0",
   "metadata": {
    "vscode": {
     "languageId": "sql"
    }
   },
   "outputs": [],
   "source": [
    "-- 120. Display number of rentals per inventory item.\n",
    "SELECT inventory_id, COUNT(rental_id) AS rental_count\n",
    "FROM rental\n",
    "GROUP BY inventory_id;"
   ]
  },
  {
   "cell_type": "code",
   "execution_count": null,
   "id": "2ec77b2b",
   "metadata": {
    "vscode": {
     "languageId": "sql"
    }
   },
   "outputs": [],
   "source": []
  },
  {
   "cell_type": "code",
   "execution_count": null,
   "id": "62878ea9",
   "metadata": {
    "vscode": {
     "languageId": "sql"
    }
   },
   "outputs": [],
   "source": [
    "-- 171. Find the top 5 customers by number of rentals.\n",
    "SELECT c.customer_id, c.first_name, c.last_name, COUNT(r.rental_id) AS rental_count\n",
    "FROM customer c\n",
    "JOIN rental r ON c.customer_id = r.customer_id\n",
    "GROUP BY c.customer_id\n",
    "ORDER BY rental_count DESC\n",
    "LIMIT 5;"
   ]
  },
  {
   "cell_type": "code",
   "execution_count": null,
   "id": "b6408ac2",
   "metadata": {
    "vscode": {
     "languageId": "sql"
    }
   },
   "outputs": [],
   "source": [
    "-- 172. List films that generated the most revenue.\n",
    "SELECT f.film_id, f.title, SUM(p.amount) AS total_revenue\n",
    "FROM film f\n",
    "JOIN inventory i ON f.film_id = i.film_id\n",
    "JOIN rental r ON i.inventory_id = r.inventory_id\n",
    "JOIN payment p ON r.rental_id = p.rental_id\n",
    "GROUP BY f.film_id\n",
    "ORDER BY total_revenue DESC;"
   ]
  },
  {
   "cell_type": "code",
   "execution_count": null,
   "id": "7e311802",
   "metadata": {
    "vscode": {
     "languageId": "sql"
    }
   },
   "outputs": [],
   "source": [
    "-- 173. Show total revenue per country.\n",
    "SELECT co.country, SUM(p.amount) AS total_revenue\n",
    "FROM payment p\n",
    "JOIN customer cu ON p.customer_id = cu.customer_id\n",
    "JOIN address a ON cu.address_id = a.address_id\n",
    "JOIN city ci ON a.city_id = ci.city_id\n",
    "JOIN country co ON ci.country_id = co.country_id\n",
    "GROUP BY co.country\n",
    "ORDER BY total_revenue DESC;"
   ]
  },
  {
   "cell_type": "code",
   "execution_count": null,
   "id": "ebdd6d5f",
   "metadata": {
    "vscode": {
     "languageId": "sql"
    }
   },
   "outputs": [],
   "source": [
    "-- 174. Display which store rents the most films.\n",
    "SELECT s.store_id, COUNT(r.rental_id) AS rental_count\n",
    "FROM store s\n",
    "JOIN staff st ON s.store_id = st.store_id\n",
    "JOIN rental r ON st.staff_id = r.staff_id\n",
    "GROUP BY s.store_id\n",
    "ORDER BY rental_count DESC\n",
    "LIMIT 1;"
   ]
  },
  {
   "cell_type": "code",
   "execution_count": null,
   "id": "b17c3cf8",
   "metadata": {
    "vscode": {
     "languageId": "sql"
    }
   },
   "outputs": [],
   "source": [
    "-- 175. Show the average rental duration per category.\n",
    "SELECT c.name AS category, AVG(f.rental_duration) AS avg_rental_duration\n",
    "FROM category c\n",
    "JOIN film_category fc ON c.category_id = fc.category_id\n",
    "JOIN film f ON fc.film_id = f.film_id\n",
    "GROUP BY c.name;"
   ]
  },
  {
   "cell_type": "code",
   "execution_count": null,
   "id": "26724a96",
   "metadata": {
    "vscode": {
     "languageId": "sql"
    }
   },
   "outputs": [],
   "source": [
    "-- 176. Find the actor with the most appearances.\n",
    "SELECT a.actor_id, a.first_name, a.last_name, COUNT(fa.film_id) AS appearances\n",
    "FROM actor a\n",
    "JOIN film_actor fa ON a.actor_id = fa.actor_id\n",
    "GROUP BY a.actor_id\n",
    "ORDER BY appearances DESC\n",
    "LIMIT 1;"
   ]
  },
  {
   "cell_type": "code",
   "execution_count": null,
   "id": "65c10270",
   "metadata": {
    "vscode": {
     "languageId": "sql"
    }
   },
   "outputs": [],
   "source": [
    "-- 177. Display which city rents the most films.\n",
    "SELECT ci.city, COUNT(r.rental_id) AS rental_count\n",
    "FROM rental r\n",
    "JOIN customer cu ON r.customer_id = cu.customer_id\n",
    "JOIN address a ON cu.address_id = a.address_id\n",
    "JOIN city ci ON a.city_id = ci.city_id\n",
    "GROUP BY ci.city\n",
    "ORDER BY rental_count DESC\n",
    "LIMIT 1;"
   ]
  },
  {
   "cell_type": "code",
   "execution_count": null,
   "id": "8f56cc15",
   "metadata": {
    "vscode": {
     "languageId": "sql"
    }
   },
   "outputs": [],
   "source": [
    "-- 178. Show which staff generates the most revenue.\n",
    "SELECT st.staff_id, st.first_name, st.last_name, SUM(p.amount) AS total_revenue\n",
    "FROM staff st\n",
    "JOIN payment p ON st.staff_id = p.staff_id\n",
    "GROUP BY st.staff_id\n",
    "ORDER BY total_revenue DESC\n",
    "LIMIT 1;"
   ]
  },
  {
   "cell_type": "code",
   "execution_count": null,
   "id": "c8e7ef83",
   "metadata": {
    "vscode": {
     "languageId": "sql"
    }
   },
   "outputs": [],
   "source": [
    "-- 179. Find customers who rented the same film twice.\n",
    "SELECT DISTINCT c.customer_id, c.first_name, c.last_name, f.title\n",
    "FROM rental r1\n",
    "JOIN rental r2 ON r1.customer_id = r2.customer_id \n",
    "    AND r1.inventory_id = r2.inventory_id \n",
    "    AND r1.rental_id <> r2.rental_id\n",
    "JOIN inventory i ON r1.inventory_id = i.inventory_id\n",
    "JOIN film f ON i.film_id = f.film_id\n",
    "JOIN customer c ON r1.customer_id = c.customer_id;"
   ]
  },
  {
   "cell_type": "code",
   "execution_count": null,
   "id": "70791e45",
   "metadata": {
    "vscode": {
     "languageId": "sql"
    }
   },
   "outputs": [],
   "source": [
    "-- 180. List top 3 films by revenue in each store.\n",
    "SELECT store_id, film_id, title, total_revenue\n",
    "FROM (\n",
    "    SELECT s.store_id, f.film_id, f.title, SUM(p.amount) AS total_revenue,\n",
    "           RANK() OVER (PARTITION BY s.store_id ORDER BY SUM(p.amount) DESC) AS rank_no\n",
    "    FROM store s\n",
    "    JOIN inventory i ON s.store_id = i.store_id\n",
    "    JOIN film f ON i.film_id = f.film_id\n",
    "    JOIN rental r ON i.inventory_id = r.inventory_id\n",
    "    JOIN payment p ON r.rental_id = p.rental_id\n",
    "    GROUP BY s.store_id, f.film_id, f.title\n",
    ") ranked\n",
    "WHERE rank_no <= 3;"
   ]
  },
  {
   "cell_type": "code",
   "execution_count": null,
   "id": "b5e60122",
   "metadata": {
    "vscode": {
     "languageId": "sql"
    }
   },
   "outputs": [],
   "source": [
    "-- 181. Display the most popular category by rentals.\n",
    "SELECT c.name AS category, COUNT(r.rental_id) AS rental_count\n",
    "FROM category c\n",
    "JOIN film_category fc ON c.category_id = fc.category_id\n",
    "JOIN film f ON fc.film_id = f.film_id\n",
    "JOIN inventory i ON f.film_id = i.film_id\n",
    "JOIN rental r ON i.inventory_id = r.inventory_id\n",
    "GROUP BY c.name\n",
    "ORDER BY rental_count DESC\n",
    "LIMIT 1;"
   ]
  },
  {
   "cell_type": "code",
   "execution_count": null,
   "id": "4a81b8df",
   "metadata": {
    "vscode": {
     "languageId": "sql"
    }
   },
   "outputs": [],
   "source": [
    "-- 182. Show which month generated the most revenue.\n",
    "SELECT TO_CHAR(payment_date, 'YYYY-MM') AS month, SUM(amount) AS total_revenue\n",
    "FROM payment\n",
    "GROUP BY month\n",
    "ORDER BY total_revenue DESC\n",
    "LIMIT 1;"
   ]
  },
  {
   "cell_type": "code",
   "execution_count": null,
   "id": "b3f0f088",
   "metadata": {
    "vscode": {
     "languageId": "sql"
    }
   },
   "outputs": [],
   "source": [
    "-- 183. Find films with all special features.\n",
    "SELECT film_id, title, special_features\n",
    "FROM film\n",
    "WHERE special_features = '{Trailers,Commentaries,Deleted Scenes,Behind the Scenes}';"
   ]
  },
  {
   "cell_type": "code",
   "execution_count": null,
   "id": "f86f4e2e",
   "metadata": {
    "vscode": {
     "languageId": "sql"
    }
   },
   "outputs": [],
   "source": [
    "-- 184. Show top 3 customers in each country by payments.\n",
    "SELECT country, customer_id, first_name, last_name, total_amount\n",
    "FROM (\n",
    "    SELECT co.country, c.customer_id, c.first_name, c.last_name, SUM(p.amount) AS total_amount,\n",
    "           RANK() OVER (PARTITION BY co.country ORDER BY SUM(p.amount) DESC) AS rank_no\n",
    "    FROM payment p\n",
    "    JOIN customer c ON p.customer_id = c.customer_id\n",
    "    JOIN address a ON c.address_id = a.address_id\n",
    "    JOIN city ci ON a.city_id = ci.city_id\n",
    "    JOIN country co ON ci.country_id = co.country_id\n",
    "    GROUP BY co.country, c.customer_id, c.first_name, c.last_name\n",
    ") ranked\n",
    "WHERE rank_no <= 3;"
   ]
  },
  {
   "cell_type": "code",
   "execution_count": null,
   "id": "1aeab8b6",
   "metadata": {
    "vscode": {
     "languageId": "sql"
    }
   },
   "outputs": [],
   "source": [
    "-- 185. Display which store has the least revenue.\n",
    "SELECT s.store_id, SUM(p.amount) AS total_revenue\n",
    "FROM store s\n",
    "JOIN staff st ON s.store_id = st.store_id\n",
    "JOIN payment p ON st.staff_id = p.staff_id\n",
    "GROUP BY s.store_id\n",
    "ORDER BY total_revenue ASC\n",
    "LIMIT 1;"
   ]
  },
  {
   "cell_type": "code",
   "execution_count": null,
   "id": "a3510891",
   "metadata": {
    "vscode": {
     "languageId": "sql"
    }
   },
   "outputs": [],
   "source": [
    "-- 186. Find the least rented film.\n",
    "SELECT f.film_id, f.title, COUNT(r.rental_id) AS rental_count\n",
    "FROM film f\n",
    "LEFT JOIN inventory i ON f.film_id = i.film_id\n",
    "LEFT JOIN rental r ON i.inventory_id = r.inventory_id\n",
    "GROUP BY f.film_id\n",
    "ORDER BY rental_count ASC\n",
    "LIMIT 1;"
   ]
  },
  {
   "cell_type": "code",
   "execution_count": null,
   "id": "7ababe3e",
   "metadata": {
    "vscode": {
     "languageId": "sql"
    }
   },
   "outputs": [],
   "source": [
    "-- 187. Show the average rental rate per language.\n",
    "SELECT l.name AS language, AVG(f.rental_rate) AS avg_rental_rate\n",
    "FROM language l\n",
    "JOIN film f ON l.language_id = f.language_id\n",
    "GROUP BY l.name;"
   ]
  },
  {
   "cell_type": "code",
   "execution_count": null,
   "id": "dc2ab863",
   "metadata": {
    "vscode": {
     "languageId": "sql"
    }
   },
   "outputs": [],
   "source": [
    "-- 188. Display all customers who rented from both stores.\n",
    "SELECT c.customer_id, c.first_name, c.last_name\n",
    "FROM customer c\n",
    "JOIN rental r ON c.customer_id = r.customer_id\n",
    "JOIN inventory i ON r.inventory_id = i.inventory_id\n",
    "GROUP BY c.customer_id, c.first_name, c.last_name\n",
    "HAVING COUNT(DISTINCT i.store_id) = 2;"
   ]
  },
  {
   "cell_type": "code",
   "execution_count": null,
   "id": "d2554f87",
   "metadata": {
    "vscode": {
     "languageId": "sql"
    }
   },
   "outputs": [],
   "source": [
    "-- 189. Find the film with the longest average rental duration.\n",
    "SELECT f.film_id, f.title, AVG(r.return_date - r.rental_date) AS avg_duration\n",
    "FROM film f\n",
    "JOIN inventory i ON f.film_id = i.film_id\n",
    "JOIN rental r ON i.inventory_id = r.inventory_id\n",
    "GROUP BY f.film_id\n",
    "ORDER BY avg_duration DESC\n",
    "LIMIT 1;"
   ]
  },
  {
   "cell_type": "code",
   "execution_count": null,
   "id": "2a982b4d",
   "metadata": {
    "vscode": {
     "languageId": "sql"
    }
   },
   "outputs": [],
   "source": [
    "-- 190. Show which staff processed the earliest rental each month.\n",
    "SELECT DISTINCT ON (month) month, staff_id, first_name, last_name, rental_date\n",
    "FROM (\n",
    "    SELECT TO_CHAR(rental_date, 'YYYY-MM') AS month, st.staff_id, st.first_name, st.last_name, r.rental_date\n",
    "    FROM rental r\n",
    "    JOIN staff st ON r.staff_id = st.staff_id\n",
    "    ORDER BY month, r.rental_date ASC\n",
    ") ranked;"
   ]
  },
  {
   "cell_type": "code",
   "execution_count": null,
   "id": "f23b6931",
   "metadata": {
    "vscode": {
     "languageId": "sql"
    }
   },
   "outputs": [],
   "source": [
    "-- 191. List top 5 most rented actors.\n",
    "SELECT a.actor_id, a.first_name, a.last_name, COUNT(r.rental_id) AS rental_count\n",
    "FROM actor a\n",
    "JOIN film_actor fa ON a.actor_id = fa.actor_id\n",
    "JOIN film f ON fa.film_id = f.film_id\n",
    "JOIN inventory i ON f.film_id = i.film_id\n",
    "JOIN rental r ON i.inventory_id = r.inventory_id\n",
    "GROUP BY a.actor_id\n",
    "ORDER BY rental_count DESC\n",
    "LIMIT 5;"
   ]
  },
  {
   "cell_type": "code",
   "execution_count": null,
   "id": "c731ff11",
   "metadata": {
    "vscode": {
     "languageId": "sql"
    }
   },
   "outputs": [],
   "source": [
    "-- 192. Display the film that has the highest replacement cost per rental.\n",
    "SELECT f.film_id, f.title, (f.replacement_cost / COUNT(r.rental_id)) AS cost_per_rental\n",
    "FROM film f\n",
    "JOIN inventory i ON f.film_id = i.film_id\n",
    "JOIN rental r ON i.inventory_id = r.inventory_id\n",
    "GROUP BY f.film_id\n",
    "ORDER BY cost_per_rental DESC\n",
    "LIMIT 1;"
   ]
  },
  {
   "cell_type": "code",
   "execution_count": null,
   "id": "c0c05208",
   "metadata": {
    "vscode": {
     "languageId": "sql"
    }
   },
   "outputs": [],
   "source": [
    "-- 193. Find the film category that generates the most revenue.\n",
    "SELECT c.name AS category, SUM(p.amount) AS total_revenue\n",
    "FROM category c\n",
    "JOIN film_category fc ON c.category_id = fc.category_id\n",
    "JOIN film f ON fc.film_id = f.film_id\n",
    "JOIN inventory i ON f.film_id = i.film_id\n",
    "JOIN rental r ON i.inventory_id = r.inventory_id\n",
    "JOIN payment p ON r.rental_id = p.rental_id\n",
    "GROUP BY c.name\n",
    "ORDER BY total_revenue DESC\n",
    "LIMIT 1;"
   ]
  },
  {
   "cell_type": "code",
   "execution_count": null,
   "id": "5bfe28fe",
   "metadata": {
    "vscode": {
     "languageId": "sql"
    }
   },
   "outputs": [],
   "source": [
    "-- 194. Show the customer who rented the longest chain of rentals.\n",
    "SELECT c.customer_id, c.first_name, c.last_name, COUNT(r.rental_id) AS rental_chain\n",
    "FROM customer c\n",
    "JOIN rental r ON c.customer_id = r.customer_id\n",
    "GROUP BY c.customer_id\n",
    "ORDER BY rental_chain DESC\n",
    "LIMIT 1;"
   ]
  },
  {
   "cell_type": "code",
   "execution_count": null,
   "id": "98a88b1f",
   "metadata": {
    "vscode": {
     "languageId": "sql"
    }
   },
   "outputs": [],
   "source": [
    "-- 195. Display the most rented inventory item.\n",
    "SELECT i.inventory_id, f.title, COUNT(r.rental_id) AS rental_count\n",
    "FROM inventory i\n",
    "JOIN film f ON i.film_id = f.film_id\n",
    "JOIN rental r ON i.inventory_id = r.inventory_id\n",
    "GROUP BY i.inventory_id, f.title\n",
    "ORDER BY rental_count DESC\n",
    "LIMIT 1;"
   ]
  },
  {
   "cell_type": "code",
   "execution_count": null,
   "id": "6caf343f",
   "metadata": {
    "vscode": {
     "languageId": "sql"
    }
   },
   "outputs": [],
   "source": [
    "-- 196. Find cities where revenue > 1000.\n",
    "SELECT ci.city, SUM(p.amount) AS total_revenue\n",
    "FROM payment p\n",
    "JOIN customer c ON p.customer_id = c.customer_id\n",
    "JOIN address a ON c.address_id = a.address_id\n",
    "JOIN city ci ON a.city_id = ci.city_id\n",
    "GROUP BY ci.city\n",
    "HAVING SUM(p.amount) > 1000;"
   ]
  },
  {
   "cell_type": "code",
   "execution_count": null,
   "id": "e28dd058",
   "metadata": {
    "vscode": {
     "languageId": "sql"
    }
   },
   "outputs": [],
   "source": [
    "-- 197. Show stores that rented out all films at least once.\n",
    "SELECT s.store_id\n",
    "FROM store s\n",
    "JOIN inventory i ON s.store_id = i.store_id\n",
    "JOIN rental r ON i.inventory_id = r.inventory_id\n",
    "GROUP BY s.store_id\n",
    "HAVING COUNT(DISTINCT i.film_id) = (SELECT COUNT(*) FROM film);"
   ]
  },
  {
   "cell_type": "code",
   "execution_count": null,
   "id": "316ce734",
   "metadata": {
    "vscode": {
     "languageId": "sql"
    }
   },
   "outputs": [],
   "source": [
    "-- 198. Display months with no revenue.\n",
    "SELECT month\n",
    "FROM (\n",
    "    SELECT generate_series(\n",
    "        date_trunc('month', MIN(payment_date)),\n",
    "        date_trunc('month', MAX(payment_date)),\n",
    "        '1 month'\n",
    "    )::date AS month\n",
    "    FROM payment\n",
    ") all_months\n",
    "WHERE month NOT IN (\n",
    "    SELECT DISTINCT date_trunc('month', payment_date)::date FROM payment\n",
    ");"
   ]
  },
  {
   "cell_type": "code",
   "execution_count": null,
   "id": "c4660740",
   "metadata": {
    "vscode": {
     "languageId": "sql"
    }
   },
   "outputs": [],
   "source": [
    "-- 199. Show which film generates more revenue in store 1 vs store 2.\n",
    "SELECT f.title,\n",
    "       SUM(CASE WHEN i.store_id = 1 THEN p.amount ELSE 0 END) AS revenue_store1,\n",
    "       SUM(CASE WHEN i.store_id = 2 THEN p.amount ELSE 0 END) AS revenue_store2\n",
    "FROM film f\n",
    "JOIN inventory i ON f.film_id = i.film_id\n",
    "JOIN rental r ON i.inventory_id = r.inventory_id\n",
    "JOIN payment p ON r.rental_id = p.rental_id\n",
    "GROUP BY f.title\n",
    "HAVING SUM(CASE WHEN i.store_id = 1 THEN p.amount ELSE 0 END) >\n",
    "       SUM(CASE WHEN i.store_id = 2 THEN p.amount ELSE 0 END);"
   ]
  },
  {
   "cell_type": "code",
   "execution_count": null,
   "id": "e10633c2",
   "metadata": {
    "vscode": {
     "languageId": "sql"
    }
   },
   "outputs": [],
   "source": [
    "-- 200. Find the customer with the highest late returns.\n",
    "SELECT c.customer_id, c.first_name, c.last_name, COUNT(*) AS late_returns\n",
    "FROM rental r\n",
    "JOIN customer c ON r.customer_id = c.customer_id\n",
    "WHERE r.return_date > r.rental_date + INTERVAL '3 days'\n",
    "GROUP BY c.customer_id\n",
    "ORDER BY late_returns DESC\n",
    "LIMIT 1;"
   ]
  }
 ],
 "metadata": {
  "kernelspec": {
   "display_name": "Python 3",
   "language": "python",
   "name": "python3"
  },
  "language_info": {
   "codemirror_mode": {
    "name": "ipython",
    "version": 3
   },
   "file_extension": ".py",
   "mimetype": "text/x-python",
   "name": "python",
   "nbconvert_exporter": "python",
   "pygments_lexer": "ipython3",
   "version": "3.13.5"
  }
 },
 "nbformat": 4,
 "nbformat_minor": 5
}
